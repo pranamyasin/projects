{
  "nbformat": 4,
  "nbformat_minor": 0,
  "metadata": {
    "colab": {
      "provenance": [],
      "mount_file_id": "1BoFyUU_OpaGM4VlBDHmwkV1AvbJTuAmQ",
      "authorship_tag": "ABX9TyN3REaabEOQLI8Hl94KR5ht",
      "include_colab_link": true
    },
    "kernelspec": {
      "name": "python3",
      "display_name": "Python 3"
    },
    "language_info": {
      "name": "python"
    },
    "accelerator": "GPU"
  },
  "cells": [
    {
      "cell_type": "markdown",
      "metadata": {
        "id": "view-in-github",
        "colab_type": "text"
      },
      "source": [
        "<a href=\"https://colab.research.google.com/github/pranamyasin/projects/blob/main/Nike_dataset_EDA.ipynb\" target=\"_parent\"><img src=\"https://colab.research.google.com/assets/colab-badge.svg\" alt=\"Open In Colab\"/></a>"
      ]
    },
    {
      "cell_type": "code",
      "execution_count": 1,
      "metadata": {
        "id": "PI1XG5NGLEay"
      },
      "outputs": [],
      "source": [
        "import pandas as pd\n",
        "import numpy as np\n",
        "import matplotlib.pyplot as plt\n",
        "import statsmodels as sm\n",
        "import seaborn as sns \n",
        "import plotly.express as px\n",
        "%matplotlib inline\n",
        "import warnings\n",
        "warnings.filterwarnings('ignore')"
      ]
    },
    {
      "cell_type": "code",
      "source": [
        "nike= pd.read_csv(r'/content/drive/MyDrive/collab/nike_data_2022_09.csv')\n",
        "nike"
      ],
      "metadata": {
        "colab": {
          "base_uri": "https://localhost:8080/",
          "height": 1000
        },
        "id": "lPzJETZaL6qN",
        "outputId": "6ed05712-f838-40e9-8501-4303b05dfedc"
      },
      "execution_count": 2,
      "outputs": [
        {
          "output_type": "execute_result",
          "data": {
            "text/plain": [
              "                                                   url  \\\n",
              "0    https://www.nike.com/t/dri-fit-team-minnesota-...   \n",
              "1    https://www.nike.com/t/club-américa-womens-dri...   \n",
              "2    https://www.nike.com/t/sportswear-swoosh-mens-...   \n",
              "3    https://www.nike.com/t/dri-fit-one-luxe-big-ki...   \n",
              "4    https://www.nike.com/t/paris-saint-germain-rep...   \n",
              "..                                                 ...   \n",
              "107  https://www.nike.com/t/air-jordan-xxxv-low-ds-...   \n",
              "108  https://www.nike.com/t/dri-fit-ucla-mens-polo-...   \n",
              "109  https://www.nike.com/t/jordan-big-kids-boys-fu...   \n",
              "110  https://www.nike.com/t/los-angeles-rams-vapor-...   \n",
              "111  https://www.nike.com/t/team-first-houston-astr...   \n",
              "\n",
              "                                                  name  \\\n",
              "0              Nike Dri-FIT Team (MLB Minnesota Twins)   \n",
              "1                                         Club América   \n",
              "2                               Nike Sportswear Swoosh   \n",
              "3                                Nike Dri-FIT One Luxe   \n",
              "4                Paris Saint-Germain Repel Academy AWF   \n",
              "..                                                 ...   \n",
              "107                          Air Jordan XXXV Low DS PF   \n",
              "108                        Nike College Dri-FIT (UCLA)   \n",
              "109                                             Jordan   \n",
              "110  NFL Los Angeles Rams Nike Vapor Untouchable (M...   \n",
              "111               Nike Team First (MLB Houston Astros)   \n",
              "\n",
              "                                             sub_title brand     model  \\\n",
              "0                            Men's Long-Sleeve T-Shirt  Nike  14226571   \n",
              "1             Women's Nike Dri-FIT Soccer Jersey Dress  Nike  13814665   \n",
              "2                                       Men's Overalls  Nike  13015648   \n",
              "3    Big Kids' (Girls') Printed Tights (Extended Size)  Nike  13809796   \n",
              "4                              Big Kids' Soccer Jacket  Nike  13327415   \n",
              "..                                                 ...   ...       ...   \n",
              "107                                   Basketball Shoes  Nike  13167172   \n",
              "108                                         Men's Polo  Nike  14045780   \n",
              "109                  Big Kids' (Boys') Full-Zip Jacket  Nike  13847339   \n",
              "110                      Men's Limited Football Jersey  Nike  14006895   \n",
              "111                            Women's Cropped T-Shirt  Nike  14226420   \n",
              "\n",
              "                                                 color   price currency  \\\n",
              "0                                                 Navy   40.00      USD   \n",
              "1                                          Black/Black   90.00      USD   \n",
              "2                                          Black/White  140.00      USD   \n",
              "3                                      Black/Rush Pink   22.97      USD   \n",
              "4                  Dark Grey/Black/Siren Red/Siren Red   70.00      USD   \n",
              "..                                                 ...     ...      ...   \n",
              "107  Hyper Jade/Bright Crimson/Blue Orbit/Metallic ...  165.00      USD   \n",
              "108                                        Signal Blue   50.00      USD   \n",
              "109                                              Black   75.00      USD   \n",
              "110                                              White  160.00      USD   \n",
              "111                                             Orange   35.00      USD   \n",
              "\n",
              "    availability                                        description  \\\n",
              "0        InStock  SWEAT-WICKING COMFORT.The Nike Dri-FIT Team (M...   \n",
              "1        InStock  Inspired by traditional soccer jerseys, the Cl...   \n",
              "2     OutOfStock  WORKING HARD TO KEEP YOU COMFORTABLE.The Nike ...   \n",
              "3     OutOfStock  ELEVATED COMFORT GOES FULL BLOOM.The Nike Dri-...   \n",
              "4        InStock  WATER-REPELLENT COVERAGE GETS PSG DETAILS.The ...   \n",
              "..           ...                                                ...   \n",
              "107      InStock   Basketball players create separation by cutti...   \n",
              "108      InStock   With Bruins details on a time-tested silhouet...   \n",
              "109   OutOfStock  FUZZY FIT FOR COLD TEMPS.The Jordan Jacket is ...   \n",
              "110      InStock  GRIDIRON LOOK.The NFL Los Angeles Rams Nike Va...   \n",
              "111   OutOfStock  SHOW YOUR TEAM SPIRIT.Keep comfy and casual in...   \n",
              "\n",
              "                                       raw_description  avg_rating  \\\n",
              "0    <div class=\"pi-pdpmainbody\"><p><b class=\"headl...         NaN   \n",
              "1    <div class=\"pi-pdpmainbody\"><br/><p>Inspired b...         5.0   \n",
              "2    <div class=\"pi-pdpmainbody\"><p><b class=\"headl...         4.9   \n",
              "3    <div class=\"pi-pdpmainbody\"><p><b class=\"headl...         NaN   \n",
              "4    <div class=\"pi-pdpmainbody\"><p><b class=\"headl...         NaN   \n",
              "..                                                 ...         ...   \n",
              "107  <div class=\"pi-pdpmainbody\"><p><b class=\"headl...         NaN   \n",
              "108  <div class=\"pi-pdpmainbody\"><p><b class=\"headl...         NaN   \n",
              "109  <div class=\"pi-pdpmainbody\"><p><b class=\"headl...         NaN   \n",
              "110  <div class=\"pi-pdpmainbody\"><p><b class=\"headl...         NaN   \n",
              "111  <div class=\"pi-pdpmainbody\"><p><b class=\"headl...         NaN   \n",
              "\n",
              "     review_count                                             images  \\\n",
              "0             NaN  https://static.nike.com/a/images/t_PDP_1280_v1...   \n",
              "1             1.0  https://static.nike.com/a/images/t_PDP_1280_v1...   \n",
              "2            11.0  https://static.nike.com/a/images/t_PDP_1280_v1...   \n",
              "3             NaN  https://static.nike.com/a/images/t_PDP_1280_v1...   \n",
              "4             NaN  https://static.nike.com/a/images/t_PDP_1280_v1...   \n",
              "..            ...                                                ...   \n",
              "107           NaN  https://static.nike.com/a/images/t_PDP_1280_v1...   \n",
              "108           NaN  https://static.nike.com/a/images/t_PDP_1280_v1...   \n",
              "109           NaN  https://static.nike.com/a/images/t_PDP_1280_v1...   \n",
              "110           NaN  https://static.nike.com/a/images/t_PDP_1280_v1...   \n",
              "111           NaN  https://static.nike.com/a/images/t_PDP_1280_v1...   \n",
              "\n",
              "          available_sizes                               uniq_id  \\\n",
              "0    S | M | L | XL | 2XL  c3229e54-aa58-5fdd-9f71-fbe66366b2b2   \n",
              "1               L (12–14)  f8ebb2ed-17ae-5719-b750-5ea3ec69b75c   \n",
              "2                     NaN  88120081-e6cb-5399-b9dc-a2d3d5dd5206   \n",
              "3                     NaN  98348cc5-1520-5b6e-a5f6-c42547b6a092   \n",
              "4     XS | S | M | L | XL  f15981a5-d8c9-53fa-880d-80606be188fe   \n",
              "..                    ...                                   ...   \n",
              "107                   NaN  2778fd91-d3b6-579c-91c2-561ab93681ec   \n",
              "108          S | XL | 2XL  d3ed0169-244e-5ee0-8ac4-fce2b4555998   \n",
              "109                   NaN  0a73c673-3f1e-5761-91aa-a10db4092973   \n",
              "110      M | L | XL | 2XL  e951cdc6-9c76-54f7-b23b-6cae9133c54d   \n",
              "111                   NaN  f4c3b3b0-6678-577b-98b2-f004063f2c4f   \n",
              "\n",
              "           scraped_at  \n",
              "0    20-09-2022 23:32  \n",
              "1    20-09-2022 23:32  \n",
              "2    20-09-2022 23:33  \n",
              "3    20-09-2022 23:33  \n",
              "4    20-09-2022 23:33  \n",
              "..                ...  \n",
              "107  20-09-2022 23:52  \n",
              "108  20-09-2022 23:52  \n",
              "109  20-09-2022 23:52  \n",
              "110  20-09-2022 23:52  \n",
              "111  20-09-2022 23:53  \n",
              "\n",
              "[112 rows x 17 columns]"
            ],
            "text/html": [
              "\n",
              "  <div id=\"df-1c0651ca-bdda-45dc-9bbc-70f5e042d337\">\n",
              "    <div class=\"colab-df-container\">\n",
              "      <div>\n",
              "<style scoped>\n",
              "    .dataframe tbody tr th:only-of-type {\n",
              "        vertical-align: middle;\n",
              "    }\n",
              "\n",
              "    .dataframe tbody tr th {\n",
              "        vertical-align: top;\n",
              "    }\n",
              "\n",
              "    .dataframe thead th {\n",
              "        text-align: right;\n",
              "    }\n",
              "</style>\n",
              "<table border=\"1\" class=\"dataframe\">\n",
              "  <thead>\n",
              "    <tr style=\"text-align: right;\">\n",
              "      <th></th>\n",
              "      <th>url</th>\n",
              "      <th>name</th>\n",
              "      <th>sub_title</th>\n",
              "      <th>brand</th>\n",
              "      <th>model</th>\n",
              "      <th>color</th>\n",
              "      <th>price</th>\n",
              "      <th>currency</th>\n",
              "      <th>availability</th>\n",
              "      <th>description</th>\n",
              "      <th>raw_description</th>\n",
              "      <th>avg_rating</th>\n",
              "      <th>review_count</th>\n",
              "      <th>images</th>\n",
              "      <th>available_sizes</th>\n",
              "      <th>uniq_id</th>\n",
              "      <th>scraped_at</th>\n",
              "    </tr>\n",
              "  </thead>\n",
              "  <tbody>\n",
              "    <tr>\n",
              "      <th>0</th>\n",
              "      <td>https://www.nike.com/t/dri-fit-team-minnesota-...</td>\n",
              "      <td>Nike Dri-FIT Team (MLB Minnesota Twins)</td>\n",
              "      <td>Men's Long-Sleeve T-Shirt</td>\n",
              "      <td>Nike</td>\n",
              "      <td>14226571</td>\n",
              "      <td>Navy</td>\n",
              "      <td>40.00</td>\n",
              "      <td>USD</td>\n",
              "      <td>InStock</td>\n",
              "      <td>SWEAT-WICKING COMFORT.The Nike Dri-FIT Team (M...</td>\n",
              "      <td>&lt;div class=\"pi-pdpmainbody\"&gt;&lt;p&gt;&lt;b class=\"headl...</td>\n",
              "      <td>NaN</td>\n",
              "      <td>NaN</td>\n",
              "      <td>https://static.nike.com/a/images/t_PDP_1280_v1...</td>\n",
              "      <td>S | M | L | XL | 2XL</td>\n",
              "      <td>c3229e54-aa58-5fdd-9f71-fbe66366b2b2</td>\n",
              "      <td>20-09-2022 23:32</td>\n",
              "    </tr>\n",
              "    <tr>\n",
              "      <th>1</th>\n",
              "      <td>https://www.nike.com/t/club-américa-womens-dri...</td>\n",
              "      <td>Club América</td>\n",
              "      <td>Women's Nike Dri-FIT Soccer Jersey Dress</td>\n",
              "      <td>Nike</td>\n",
              "      <td>13814665</td>\n",
              "      <td>Black/Black</td>\n",
              "      <td>90.00</td>\n",
              "      <td>USD</td>\n",
              "      <td>InStock</td>\n",
              "      <td>Inspired by traditional soccer jerseys, the Cl...</td>\n",
              "      <td>&lt;div class=\"pi-pdpmainbody\"&gt;&lt;br/&gt;&lt;p&gt;Inspired b...</td>\n",
              "      <td>5.0</td>\n",
              "      <td>1.0</td>\n",
              "      <td>https://static.nike.com/a/images/t_PDP_1280_v1...</td>\n",
              "      <td>L (12–14)</td>\n",
              "      <td>f8ebb2ed-17ae-5719-b750-5ea3ec69b75c</td>\n",
              "      <td>20-09-2022 23:32</td>\n",
              "    </tr>\n",
              "    <tr>\n",
              "      <th>2</th>\n",
              "      <td>https://www.nike.com/t/sportswear-swoosh-mens-...</td>\n",
              "      <td>Nike Sportswear Swoosh</td>\n",
              "      <td>Men's Overalls</td>\n",
              "      <td>Nike</td>\n",
              "      <td>13015648</td>\n",
              "      <td>Black/White</td>\n",
              "      <td>140.00</td>\n",
              "      <td>USD</td>\n",
              "      <td>OutOfStock</td>\n",
              "      <td>WORKING HARD TO KEEP YOU COMFORTABLE.The Nike ...</td>\n",
              "      <td>&lt;div class=\"pi-pdpmainbody\"&gt;&lt;p&gt;&lt;b class=\"headl...</td>\n",
              "      <td>4.9</td>\n",
              "      <td>11.0</td>\n",
              "      <td>https://static.nike.com/a/images/t_PDP_1280_v1...</td>\n",
              "      <td>NaN</td>\n",
              "      <td>88120081-e6cb-5399-b9dc-a2d3d5dd5206</td>\n",
              "      <td>20-09-2022 23:33</td>\n",
              "    </tr>\n",
              "    <tr>\n",
              "      <th>3</th>\n",
              "      <td>https://www.nike.com/t/dri-fit-one-luxe-big-ki...</td>\n",
              "      <td>Nike Dri-FIT One Luxe</td>\n",
              "      <td>Big Kids' (Girls') Printed Tights (Extended Size)</td>\n",
              "      <td>Nike</td>\n",
              "      <td>13809796</td>\n",
              "      <td>Black/Rush Pink</td>\n",
              "      <td>22.97</td>\n",
              "      <td>USD</td>\n",
              "      <td>OutOfStock</td>\n",
              "      <td>ELEVATED COMFORT GOES FULL BLOOM.The Nike Dri-...</td>\n",
              "      <td>&lt;div class=\"pi-pdpmainbody\"&gt;&lt;p&gt;&lt;b class=\"headl...</td>\n",
              "      <td>NaN</td>\n",
              "      <td>NaN</td>\n",
              "      <td>https://static.nike.com/a/images/t_PDP_1280_v1...</td>\n",
              "      <td>NaN</td>\n",
              "      <td>98348cc5-1520-5b6e-a5f6-c42547b6a092</td>\n",
              "      <td>20-09-2022 23:33</td>\n",
              "    </tr>\n",
              "    <tr>\n",
              "      <th>4</th>\n",
              "      <td>https://www.nike.com/t/paris-saint-germain-rep...</td>\n",
              "      <td>Paris Saint-Germain Repel Academy AWF</td>\n",
              "      <td>Big Kids' Soccer Jacket</td>\n",
              "      <td>Nike</td>\n",
              "      <td>13327415</td>\n",
              "      <td>Dark Grey/Black/Siren Red/Siren Red</td>\n",
              "      <td>70.00</td>\n",
              "      <td>USD</td>\n",
              "      <td>InStock</td>\n",
              "      <td>WATER-REPELLENT COVERAGE GETS PSG DETAILS.The ...</td>\n",
              "      <td>&lt;div class=\"pi-pdpmainbody\"&gt;&lt;p&gt;&lt;b class=\"headl...</td>\n",
              "      <td>NaN</td>\n",
              "      <td>NaN</td>\n",
              "      <td>https://static.nike.com/a/images/t_PDP_1280_v1...</td>\n",
              "      <td>XS | S | M | L | XL</td>\n",
              "      <td>f15981a5-d8c9-53fa-880d-80606be188fe</td>\n",
              "      <td>20-09-2022 23:33</td>\n",
              "    </tr>\n",
              "    <tr>\n",
              "      <th>...</th>\n",
              "      <td>...</td>\n",
              "      <td>...</td>\n",
              "      <td>...</td>\n",
              "      <td>...</td>\n",
              "      <td>...</td>\n",
              "      <td>...</td>\n",
              "      <td>...</td>\n",
              "      <td>...</td>\n",
              "      <td>...</td>\n",
              "      <td>...</td>\n",
              "      <td>...</td>\n",
              "      <td>...</td>\n",
              "      <td>...</td>\n",
              "      <td>...</td>\n",
              "      <td>...</td>\n",
              "      <td>...</td>\n",
              "      <td>...</td>\n",
              "    </tr>\n",
              "    <tr>\n",
              "      <th>107</th>\n",
              "      <td>https://www.nike.com/t/air-jordan-xxxv-low-ds-...</td>\n",
              "      <td>Air Jordan XXXV Low DS PF</td>\n",
              "      <td>Basketball Shoes</td>\n",
              "      <td>Nike</td>\n",
              "      <td>13167172</td>\n",
              "      <td>Hyper Jade/Bright Crimson/Blue Orbit/Metallic ...</td>\n",
              "      <td>165.00</td>\n",
              "      <td>USD</td>\n",
              "      <td>InStock</td>\n",
              "      <td>Basketball players create separation by cutti...</td>\n",
              "      <td>&lt;div class=\"pi-pdpmainbody\"&gt;&lt;p&gt;&lt;b class=\"headl...</td>\n",
              "      <td>NaN</td>\n",
              "      <td>NaN</td>\n",
              "      <td>https://static.nike.com/a/images/t_PDP_1280_v1...</td>\n",
              "      <td>NaN</td>\n",
              "      <td>2778fd91-d3b6-579c-91c2-561ab93681ec</td>\n",
              "      <td>20-09-2022 23:52</td>\n",
              "    </tr>\n",
              "    <tr>\n",
              "      <th>108</th>\n",
              "      <td>https://www.nike.com/t/dri-fit-ucla-mens-polo-...</td>\n",
              "      <td>Nike College Dri-FIT (UCLA)</td>\n",
              "      <td>Men's Polo</td>\n",
              "      <td>Nike</td>\n",
              "      <td>14045780</td>\n",
              "      <td>Signal Blue</td>\n",
              "      <td>50.00</td>\n",
              "      <td>USD</td>\n",
              "      <td>InStock</td>\n",
              "      <td>With Bruins details on a time-tested silhouet...</td>\n",
              "      <td>&lt;div class=\"pi-pdpmainbody\"&gt;&lt;p&gt;&lt;b class=\"headl...</td>\n",
              "      <td>NaN</td>\n",
              "      <td>NaN</td>\n",
              "      <td>https://static.nike.com/a/images/t_PDP_1280_v1...</td>\n",
              "      <td>S | XL | 2XL</td>\n",
              "      <td>d3ed0169-244e-5ee0-8ac4-fce2b4555998</td>\n",
              "      <td>20-09-2022 23:52</td>\n",
              "    </tr>\n",
              "    <tr>\n",
              "      <th>109</th>\n",
              "      <td>https://www.nike.com/t/jordan-big-kids-boys-fu...</td>\n",
              "      <td>Jordan</td>\n",
              "      <td>Big Kids' (Boys') Full-Zip Jacket</td>\n",
              "      <td>Nike</td>\n",
              "      <td>13847339</td>\n",
              "      <td>Black</td>\n",
              "      <td>75.00</td>\n",
              "      <td>USD</td>\n",
              "      <td>OutOfStock</td>\n",
              "      <td>FUZZY FIT FOR COLD TEMPS.The Jordan Jacket is ...</td>\n",
              "      <td>&lt;div class=\"pi-pdpmainbody\"&gt;&lt;p&gt;&lt;b class=\"headl...</td>\n",
              "      <td>NaN</td>\n",
              "      <td>NaN</td>\n",
              "      <td>https://static.nike.com/a/images/t_PDP_1280_v1...</td>\n",
              "      <td>NaN</td>\n",
              "      <td>0a73c673-3f1e-5761-91aa-a10db4092973</td>\n",
              "      <td>20-09-2022 23:52</td>\n",
              "    </tr>\n",
              "    <tr>\n",
              "      <th>110</th>\n",
              "      <td>https://www.nike.com/t/los-angeles-rams-vapor-...</td>\n",
              "      <td>NFL Los Angeles Rams Nike Vapor Untouchable (M...</td>\n",
              "      <td>Men's Limited Football Jersey</td>\n",
              "      <td>Nike</td>\n",
              "      <td>14006895</td>\n",
              "      <td>White</td>\n",
              "      <td>160.00</td>\n",
              "      <td>USD</td>\n",
              "      <td>InStock</td>\n",
              "      <td>GRIDIRON LOOK.The NFL Los Angeles Rams Nike Va...</td>\n",
              "      <td>&lt;div class=\"pi-pdpmainbody\"&gt;&lt;p&gt;&lt;b class=\"headl...</td>\n",
              "      <td>NaN</td>\n",
              "      <td>NaN</td>\n",
              "      <td>https://static.nike.com/a/images/t_PDP_1280_v1...</td>\n",
              "      <td>M | L | XL | 2XL</td>\n",
              "      <td>e951cdc6-9c76-54f7-b23b-6cae9133c54d</td>\n",
              "      <td>20-09-2022 23:52</td>\n",
              "    </tr>\n",
              "    <tr>\n",
              "      <th>111</th>\n",
              "      <td>https://www.nike.com/t/team-first-houston-astr...</td>\n",
              "      <td>Nike Team First (MLB Houston Astros)</td>\n",
              "      <td>Women's Cropped T-Shirt</td>\n",
              "      <td>Nike</td>\n",
              "      <td>14226420</td>\n",
              "      <td>Orange</td>\n",
              "      <td>35.00</td>\n",
              "      <td>USD</td>\n",
              "      <td>OutOfStock</td>\n",
              "      <td>SHOW YOUR TEAM SPIRIT.Keep comfy and casual in...</td>\n",
              "      <td>&lt;div class=\"pi-pdpmainbody\"&gt;&lt;p&gt;&lt;b class=\"headl...</td>\n",
              "      <td>NaN</td>\n",
              "      <td>NaN</td>\n",
              "      <td>https://static.nike.com/a/images/t_PDP_1280_v1...</td>\n",
              "      <td>NaN</td>\n",
              "      <td>f4c3b3b0-6678-577b-98b2-f004063f2c4f</td>\n",
              "      <td>20-09-2022 23:53</td>\n",
              "    </tr>\n",
              "  </tbody>\n",
              "</table>\n",
              "<p>112 rows × 17 columns</p>\n",
              "</div>\n",
              "      <button class=\"colab-df-convert\" onclick=\"convertToInteractive('df-1c0651ca-bdda-45dc-9bbc-70f5e042d337')\"\n",
              "              title=\"Convert this dataframe to an interactive table.\"\n",
              "              style=\"display:none;\">\n",
              "        \n",
              "  <svg xmlns=\"http://www.w3.org/2000/svg\" height=\"24px\"viewBox=\"0 0 24 24\"\n",
              "       width=\"24px\">\n",
              "    <path d=\"M0 0h24v24H0V0z\" fill=\"none\"/>\n",
              "    <path d=\"M18.56 5.44l.94 2.06.94-2.06 2.06-.94-2.06-.94-.94-2.06-.94 2.06-2.06.94zm-11 1L8.5 8.5l.94-2.06 2.06-.94-2.06-.94L8.5 2.5l-.94 2.06-2.06.94zm10 10l.94 2.06.94-2.06 2.06-.94-2.06-.94-.94-2.06-.94 2.06-2.06.94z\"/><path d=\"M17.41 7.96l-1.37-1.37c-.4-.4-.92-.59-1.43-.59-.52 0-1.04.2-1.43.59L10.3 9.45l-7.72 7.72c-.78.78-.78 2.05 0 2.83L4 21.41c.39.39.9.59 1.41.59.51 0 1.02-.2 1.41-.59l7.78-7.78 2.81-2.81c.8-.78.8-2.07 0-2.86zM5.41 20L4 18.59l7.72-7.72 1.47 1.35L5.41 20z\"/>\n",
              "  </svg>\n",
              "      </button>\n",
              "      \n",
              "  <style>\n",
              "    .colab-df-container {\n",
              "      display:flex;\n",
              "      flex-wrap:wrap;\n",
              "      gap: 12px;\n",
              "    }\n",
              "\n",
              "    .colab-df-convert {\n",
              "      background-color: #E8F0FE;\n",
              "      border: none;\n",
              "      border-radius: 50%;\n",
              "      cursor: pointer;\n",
              "      display: none;\n",
              "      fill: #1967D2;\n",
              "      height: 32px;\n",
              "      padding: 0 0 0 0;\n",
              "      width: 32px;\n",
              "    }\n",
              "\n",
              "    .colab-df-convert:hover {\n",
              "      background-color: #E2EBFA;\n",
              "      box-shadow: 0px 1px 2px rgba(60, 64, 67, 0.3), 0px 1px 3px 1px rgba(60, 64, 67, 0.15);\n",
              "      fill: #174EA6;\n",
              "    }\n",
              "\n",
              "    [theme=dark] .colab-df-convert {\n",
              "      background-color: #3B4455;\n",
              "      fill: #D2E3FC;\n",
              "    }\n",
              "\n",
              "    [theme=dark] .colab-df-convert:hover {\n",
              "      background-color: #434B5C;\n",
              "      box-shadow: 0px 1px 3px 1px rgba(0, 0, 0, 0.15);\n",
              "      filter: drop-shadow(0px 1px 2px rgba(0, 0, 0, 0.3));\n",
              "      fill: #FFFFFF;\n",
              "    }\n",
              "  </style>\n",
              "\n",
              "      <script>\n",
              "        const buttonEl =\n",
              "          document.querySelector('#df-1c0651ca-bdda-45dc-9bbc-70f5e042d337 button.colab-df-convert');\n",
              "        buttonEl.style.display =\n",
              "          google.colab.kernel.accessAllowed ? 'block' : 'none';\n",
              "\n",
              "        async function convertToInteractive(key) {\n",
              "          const element = document.querySelector('#df-1c0651ca-bdda-45dc-9bbc-70f5e042d337');\n",
              "          const dataTable =\n",
              "            await google.colab.kernel.invokeFunction('convertToInteractive',\n",
              "                                                     [key], {});\n",
              "          if (!dataTable) return;\n",
              "\n",
              "          const docLinkHtml = 'Like what you see? Visit the ' +\n",
              "            '<a target=\"_blank\" href=https://colab.research.google.com/notebooks/data_table.ipynb>data table notebook</a>'\n",
              "            + ' to learn more about interactive tables.';\n",
              "          element.innerHTML = '';\n",
              "          dataTable['output_type'] = 'display_data';\n",
              "          await google.colab.output.renderOutput(dataTable, element);\n",
              "          const docLink = document.createElement('div');\n",
              "          docLink.innerHTML = docLinkHtml;\n",
              "          element.appendChild(docLink);\n",
              "        }\n",
              "      </script>\n",
              "    </div>\n",
              "  </div>\n",
              "  "
            ]
          },
          "metadata": {},
          "execution_count": 2
        }
      ]
    },
    {
      "cell_type": "code",
      "source": [
        "nike.nunique()"
      ],
      "metadata": {
        "colab": {
          "base_uri": "https://localhost:8080/"
        },
        "id": "rBgfMdRLMRET",
        "outputId": "8f9a18d7-da47-4978-ca6d-9a893a44d9cd"
      },
      "execution_count": 3,
      "outputs": [
        {
          "output_type": "execute_result",
          "data": {
            "text/plain": [
              "url                112\n",
              "name                96\n",
              "sub_title           80\n",
              "brand                1\n",
              "model              112\n",
              "color               76\n",
              "price               63\n",
              "currency             1\n",
              "availability         2\n",
              "description        112\n",
              "raw_description    112\n",
              "avg_rating           7\n",
              "review_count        11\n",
              "images             108\n",
              "available_sizes     35\n",
              "uniq_id            112\n",
              "scraped_at          21\n",
              "dtype: int64"
            ]
          },
          "metadata": {},
          "execution_count": 3
        }
      ]
    },
    {
      "cell_type": "code",
      "source": [
        "nike.drop(['url','brand','model','currency','description','raw_description','images','uniq_id'],axis=1,inplace=True)"
      ],
      "metadata": {
        "id": "PH9WRiiCMTMx"
      },
      "execution_count": 4,
      "outputs": []
    },
    {
      "cell_type": "code",
      "source": [
        "nike.head()"
      ],
      "metadata": {
        "colab": {
          "base_uri": "https://localhost:8080/",
          "height": 206
        },
        "id": "HSHBvI67MTPR",
        "outputId": "d2afda3a-0fd3-46aa-f635-7036611327d7"
      },
      "execution_count": 5,
      "outputs": [
        {
          "output_type": "execute_result",
          "data": {
            "text/plain": [
              "                                      name  \\\n",
              "0  Nike Dri-FIT Team (MLB Minnesota Twins)   \n",
              "1                             Club América   \n",
              "2                   Nike Sportswear Swoosh   \n",
              "3                    Nike Dri-FIT One Luxe   \n",
              "4    Paris Saint-Germain Repel Academy AWF   \n",
              "\n",
              "                                           sub_title  \\\n",
              "0                          Men's Long-Sleeve T-Shirt   \n",
              "1           Women's Nike Dri-FIT Soccer Jersey Dress   \n",
              "2                                     Men's Overalls   \n",
              "3  Big Kids' (Girls') Printed Tights (Extended Size)   \n",
              "4                            Big Kids' Soccer Jacket   \n",
              "\n",
              "                                 color   price availability  avg_rating  \\\n",
              "0                                 Navy   40.00      InStock         NaN   \n",
              "1                          Black/Black   90.00      InStock         5.0   \n",
              "2                          Black/White  140.00   OutOfStock         4.9   \n",
              "3                      Black/Rush Pink   22.97   OutOfStock         NaN   \n",
              "4  Dark Grey/Black/Siren Red/Siren Red   70.00      InStock         NaN   \n",
              "\n",
              "   review_count       available_sizes        scraped_at  \n",
              "0           NaN  S | M | L | XL | 2XL  20-09-2022 23:32  \n",
              "1           1.0             L (12–14)  20-09-2022 23:32  \n",
              "2          11.0                   NaN  20-09-2022 23:33  \n",
              "3           NaN                   NaN  20-09-2022 23:33  \n",
              "4           NaN   XS | S | M | L | XL  20-09-2022 23:33  "
            ],
            "text/html": [
              "\n",
              "  <div id=\"df-d021a493-9433-478f-ac90-0ed21281bfa7\">\n",
              "    <div class=\"colab-df-container\">\n",
              "      <div>\n",
              "<style scoped>\n",
              "    .dataframe tbody tr th:only-of-type {\n",
              "        vertical-align: middle;\n",
              "    }\n",
              "\n",
              "    .dataframe tbody tr th {\n",
              "        vertical-align: top;\n",
              "    }\n",
              "\n",
              "    .dataframe thead th {\n",
              "        text-align: right;\n",
              "    }\n",
              "</style>\n",
              "<table border=\"1\" class=\"dataframe\">\n",
              "  <thead>\n",
              "    <tr style=\"text-align: right;\">\n",
              "      <th></th>\n",
              "      <th>name</th>\n",
              "      <th>sub_title</th>\n",
              "      <th>color</th>\n",
              "      <th>price</th>\n",
              "      <th>availability</th>\n",
              "      <th>avg_rating</th>\n",
              "      <th>review_count</th>\n",
              "      <th>available_sizes</th>\n",
              "      <th>scraped_at</th>\n",
              "    </tr>\n",
              "  </thead>\n",
              "  <tbody>\n",
              "    <tr>\n",
              "      <th>0</th>\n",
              "      <td>Nike Dri-FIT Team (MLB Minnesota Twins)</td>\n",
              "      <td>Men's Long-Sleeve T-Shirt</td>\n",
              "      <td>Navy</td>\n",
              "      <td>40.00</td>\n",
              "      <td>InStock</td>\n",
              "      <td>NaN</td>\n",
              "      <td>NaN</td>\n",
              "      <td>S | M | L | XL | 2XL</td>\n",
              "      <td>20-09-2022 23:32</td>\n",
              "    </tr>\n",
              "    <tr>\n",
              "      <th>1</th>\n",
              "      <td>Club América</td>\n",
              "      <td>Women's Nike Dri-FIT Soccer Jersey Dress</td>\n",
              "      <td>Black/Black</td>\n",
              "      <td>90.00</td>\n",
              "      <td>InStock</td>\n",
              "      <td>5.0</td>\n",
              "      <td>1.0</td>\n",
              "      <td>L (12–14)</td>\n",
              "      <td>20-09-2022 23:32</td>\n",
              "    </tr>\n",
              "    <tr>\n",
              "      <th>2</th>\n",
              "      <td>Nike Sportswear Swoosh</td>\n",
              "      <td>Men's Overalls</td>\n",
              "      <td>Black/White</td>\n",
              "      <td>140.00</td>\n",
              "      <td>OutOfStock</td>\n",
              "      <td>4.9</td>\n",
              "      <td>11.0</td>\n",
              "      <td>NaN</td>\n",
              "      <td>20-09-2022 23:33</td>\n",
              "    </tr>\n",
              "    <tr>\n",
              "      <th>3</th>\n",
              "      <td>Nike Dri-FIT One Luxe</td>\n",
              "      <td>Big Kids' (Girls') Printed Tights (Extended Size)</td>\n",
              "      <td>Black/Rush Pink</td>\n",
              "      <td>22.97</td>\n",
              "      <td>OutOfStock</td>\n",
              "      <td>NaN</td>\n",
              "      <td>NaN</td>\n",
              "      <td>NaN</td>\n",
              "      <td>20-09-2022 23:33</td>\n",
              "    </tr>\n",
              "    <tr>\n",
              "      <th>4</th>\n",
              "      <td>Paris Saint-Germain Repel Academy AWF</td>\n",
              "      <td>Big Kids' Soccer Jacket</td>\n",
              "      <td>Dark Grey/Black/Siren Red/Siren Red</td>\n",
              "      <td>70.00</td>\n",
              "      <td>InStock</td>\n",
              "      <td>NaN</td>\n",
              "      <td>NaN</td>\n",
              "      <td>XS | S | M | L | XL</td>\n",
              "      <td>20-09-2022 23:33</td>\n",
              "    </tr>\n",
              "  </tbody>\n",
              "</table>\n",
              "</div>\n",
              "      <button class=\"colab-df-convert\" onclick=\"convertToInteractive('df-d021a493-9433-478f-ac90-0ed21281bfa7')\"\n",
              "              title=\"Convert this dataframe to an interactive table.\"\n",
              "              style=\"display:none;\">\n",
              "        \n",
              "  <svg xmlns=\"http://www.w3.org/2000/svg\" height=\"24px\"viewBox=\"0 0 24 24\"\n",
              "       width=\"24px\">\n",
              "    <path d=\"M0 0h24v24H0V0z\" fill=\"none\"/>\n",
              "    <path d=\"M18.56 5.44l.94 2.06.94-2.06 2.06-.94-2.06-.94-.94-2.06-.94 2.06-2.06.94zm-11 1L8.5 8.5l.94-2.06 2.06-.94-2.06-.94L8.5 2.5l-.94 2.06-2.06.94zm10 10l.94 2.06.94-2.06 2.06-.94-2.06-.94-.94-2.06-.94 2.06-2.06.94z\"/><path d=\"M17.41 7.96l-1.37-1.37c-.4-.4-.92-.59-1.43-.59-.52 0-1.04.2-1.43.59L10.3 9.45l-7.72 7.72c-.78.78-.78 2.05 0 2.83L4 21.41c.39.39.9.59 1.41.59.51 0 1.02-.2 1.41-.59l7.78-7.78 2.81-2.81c.8-.78.8-2.07 0-2.86zM5.41 20L4 18.59l7.72-7.72 1.47 1.35L5.41 20z\"/>\n",
              "  </svg>\n",
              "      </button>\n",
              "      \n",
              "  <style>\n",
              "    .colab-df-container {\n",
              "      display:flex;\n",
              "      flex-wrap:wrap;\n",
              "      gap: 12px;\n",
              "    }\n",
              "\n",
              "    .colab-df-convert {\n",
              "      background-color: #E8F0FE;\n",
              "      border: none;\n",
              "      border-radius: 50%;\n",
              "      cursor: pointer;\n",
              "      display: none;\n",
              "      fill: #1967D2;\n",
              "      height: 32px;\n",
              "      padding: 0 0 0 0;\n",
              "      width: 32px;\n",
              "    }\n",
              "\n",
              "    .colab-df-convert:hover {\n",
              "      background-color: #E2EBFA;\n",
              "      box-shadow: 0px 1px 2px rgba(60, 64, 67, 0.3), 0px 1px 3px 1px rgba(60, 64, 67, 0.15);\n",
              "      fill: #174EA6;\n",
              "    }\n",
              "\n",
              "    [theme=dark] .colab-df-convert {\n",
              "      background-color: #3B4455;\n",
              "      fill: #D2E3FC;\n",
              "    }\n",
              "\n",
              "    [theme=dark] .colab-df-convert:hover {\n",
              "      background-color: #434B5C;\n",
              "      box-shadow: 0px 1px 3px 1px rgba(0, 0, 0, 0.15);\n",
              "      filter: drop-shadow(0px 1px 2px rgba(0, 0, 0, 0.3));\n",
              "      fill: #FFFFFF;\n",
              "    }\n",
              "  </style>\n",
              "\n",
              "      <script>\n",
              "        const buttonEl =\n",
              "          document.querySelector('#df-d021a493-9433-478f-ac90-0ed21281bfa7 button.colab-df-convert');\n",
              "        buttonEl.style.display =\n",
              "          google.colab.kernel.accessAllowed ? 'block' : 'none';\n",
              "\n",
              "        async function convertToInteractive(key) {\n",
              "          const element = document.querySelector('#df-d021a493-9433-478f-ac90-0ed21281bfa7');\n",
              "          const dataTable =\n",
              "            await google.colab.kernel.invokeFunction('convertToInteractive',\n",
              "                                                     [key], {});\n",
              "          if (!dataTable) return;\n",
              "\n",
              "          const docLinkHtml = 'Like what you see? Visit the ' +\n",
              "            '<a target=\"_blank\" href=https://colab.research.google.com/notebooks/data_table.ipynb>data table notebook</a>'\n",
              "            + ' to learn more about interactive tables.';\n",
              "          element.innerHTML = '';\n",
              "          dataTable['output_type'] = 'display_data';\n",
              "          await google.colab.output.renderOutput(dataTable, element);\n",
              "          const docLink = document.createElement('div');\n",
              "          docLink.innerHTML = docLinkHtml;\n",
              "          element.appendChild(docLink);\n",
              "        }\n",
              "      </script>\n",
              "    </div>\n",
              "  </div>\n",
              "  "
            ]
          },
          "metadata": {},
          "execution_count": 5
        }
      ]
    },
    {
      "cell_type": "code",
      "source": [
        "nike.tail()"
      ],
      "metadata": {
        "colab": {
          "base_uri": "https://localhost:8080/",
          "height": 206
        },
        "id": "5_cdAKriMTRy",
        "outputId": "e966daa8-b3aa-4176-8f2e-07f1c87343ff"
      },
      "execution_count": 6,
      "outputs": [
        {
          "output_type": "execute_result",
          "data": {
            "text/plain": [
              "                                                  name  \\\n",
              "107                          Air Jordan XXXV Low DS PF   \n",
              "108                        Nike College Dri-FIT (UCLA)   \n",
              "109                                             Jordan   \n",
              "110  NFL Los Angeles Rams Nike Vapor Untouchable (M...   \n",
              "111               Nike Team First (MLB Houston Astros)   \n",
              "\n",
              "                             sub_title  \\\n",
              "107                   Basketball Shoes   \n",
              "108                         Men's Polo   \n",
              "109  Big Kids' (Boys') Full-Zip Jacket   \n",
              "110      Men's Limited Football Jersey   \n",
              "111            Women's Cropped T-Shirt   \n",
              "\n",
              "                                                 color  price availability  \\\n",
              "107  Hyper Jade/Bright Crimson/Blue Orbit/Metallic ...  165.0      InStock   \n",
              "108                                        Signal Blue   50.0      InStock   \n",
              "109                                              Black   75.0   OutOfStock   \n",
              "110                                              White  160.0      InStock   \n",
              "111                                             Orange   35.0   OutOfStock   \n",
              "\n",
              "     avg_rating  review_count   available_sizes        scraped_at  \n",
              "107         NaN           NaN               NaN  20-09-2022 23:52  \n",
              "108         NaN           NaN      S | XL | 2XL  20-09-2022 23:52  \n",
              "109         NaN           NaN               NaN  20-09-2022 23:52  \n",
              "110         NaN           NaN  M | L | XL | 2XL  20-09-2022 23:52  \n",
              "111         NaN           NaN               NaN  20-09-2022 23:53  "
            ],
            "text/html": [
              "\n",
              "  <div id=\"df-8f6bf94d-7067-4d27-bfbb-04664d5f95d1\">\n",
              "    <div class=\"colab-df-container\">\n",
              "      <div>\n",
              "<style scoped>\n",
              "    .dataframe tbody tr th:only-of-type {\n",
              "        vertical-align: middle;\n",
              "    }\n",
              "\n",
              "    .dataframe tbody tr th {\n",
              "        vertical-align: top;\n",
              "    }\n",
              "\n",
              "    .dataframe thead th {\n",
              "        text-align: right;\n",
              "    }\n",
              "</style>\n",
              "<table border=\"1\" class=\"dataframe\">\n",
              "  <thead>\n",
              "    <tr style=\"text-align: right;\">\n",
              "      <th></th>\n",
              "      <th>name</th>\n",
              "      <th>sub_title</th>\n",
              "      <th>color</th>\n",
              "      <th>price</th>\n",
              "      <th>availability</th>\n",
              "      <th>avg_rating</th>\n",
              "      <th>review_count</th>\n",
              "      <th>available_sizes</th>\n",
              "      <th>scraped_at</th>\n",
              "    </tr>\n",
              "  </thead>\n",
              "  <tbody>\n",
              "    <tr>\n",
              "      <th>107</th>\n",
              "      <td>Air Jordan XXXV Low DS PF</td>\n",
              "      <td>Basketball Shoes</td>\n",
              "      <td>Hyper Jade/Bright Crimson/Blue Orbit/Metallic ...</td>\n",
              "      <td>165.0</td>\n",
              "      <td>InStock</td>\n",
              "      <td>NaN</td>\n",
              "      <td>NaN</td>\n",
              "      <td>NaN</td>\n",
              "      <td>20-09-2022 23:52</td>\n",
              "    </tr>\n",
              "    <tr>\n",
              "      <th>108</th>\n",
              "      <td>Nike College Dri-FIT (UCLA)</td>\n",
              "      <td>Men's Polo</td>\n",
              "      <td>Signal Blue</td>\n",
              "      <td>50.0</td>\n",
              "      <td>InStock</td>\n",
              "      <td>NaN</td>\n",
              "      <td>NaN</td>\n",
              "      <td>S | XL | 2XL</td>\n",
              "      <td>20-09-2022 23:52</td>\n",
              "    </tr>\n",
              "    <tr>\n",
              "      <th>109</th>\n",
              "      <td>Jordan</td>\n",
              "      <td>Big Kids' (Boys') Full-Zip Jacket</td>\n",
              "      <td>Black</td>\n",
              "      <td>75.0</td>\n",
              "      <td>OutOfStock</td>\n",
              "      <td>NaN</td>\n",
              "      <td>NaN</td>\n",
              "      <td>NaN</td>\n",
              "      <td>20-09-2022 23:52</td>\n",
              "    </tr>\n",
              "    <tr>\n",
              "      <th>110</th>\n",
              "      <td>NFL Los Angeles Rams Nike Vapor Untouchable (M...</td>\n",
              "      <td>Men's Limited Football Jersey</td>\n",
              "      <td>White</td>\n",
              "      <td>160.0</td>\n",
              "      <td>InStock</td>\n",
              "      <td>NaN</td>\n",
              "      <td>NaN</td>\n",
              "      <td>M | L | XL | 2XL</td>\n",
              "      <td>20-09-2022 23:52</td>\n",
              "    </tr>\n",
              "    <tr>\n",
              "      <th>111</th>\n",
              "      <td>Nike Team First (MLB Houston Astros)</td>\n",
              "      <td>Women's Cropped T-Shirt</td>\n",
              "      <td>Orange</td>\n",
              "      <td>35.0</td>\n",
              "      <td>OutOfStock</td>\n",
              "      <td>NaN</td>\n",
              "      <td>NaN</td>\n",
              "      <td>NaN</td>\n",
              "      <td>20-09-2022 23:53</td>\n",
              "    </tr>\n",
              "  </tbody>\n",
              "</table>\n",
              "</div>\n",
              "      <button class=\"colab-df-convert\" onclick=\"convertToInteractive('df-8f6bf94d-7067-4d27-bfbb-04664d5f95d1')\"\n",
              "              title=\"Convert this dataframe to an interactive table.\"\n",
              "              style=\"display:none;\">\n",
              "        \n",
              "  <svg xmlns=\"http://www.w3.org/2000/svg\" height=\"24px\"viewBox=\"0 0 24 24\"\n",
              "       width=\"24px\">\n",
              "    <path d=\"M0 0h24v24H0V0z\" fill=\"none\"/>\n",
              "    <path d=\"M18.56 5.44l.94 2.06.94-2.06 2.06-.94-2.06-.94-.94-2.06-.94 2.06-2.06.94zm-11 1L8.5 8.5l.94-2.06 2.06-.94-2.06-.94L8.5 2.5l-.94 2.06-2.06.94zm10 10l.94 2.06.94-2.06 2.06-.94-2.06-.94-.94-2.06-.94 2.06-2.06.94z\"/><path d=\"M17.41 7.96l-1.37-1.37c-.4-.4-.92-.59-1.43-.59-.52 0-1.04.2-1.43.59L10.3 9.45l-7.72 7.72c-.78.78-.78 2.05 0 2.83L4 21.41c.39.39.9.59 1.41.59.51 0 1.02-.2 1.41-.59l7.78-7.78 2.81-2.81c.8-.78.8-2.07 0-2.86zM5.41 20L4 18.59l7.72-7.72 1.47 1.35L5.41 20z\"/>\n",
              "  </svg>\n",
              "      </button>\n",
              "      \n",
              "  <style>\n",
              "    .colab-df-container {\n",
              "      display:flex;\n",
              "      flex-wrap:wrap;\n",
              "      gap: 12px;\n",
              "    }\n",
              "\n",
              "    .colab-df-convert {\n",
              "      background-color: #E8F0FE;\n",
              "      border: none;\n",
              "      border-radius: 50%;\n",
              "      cursor: pointer;\n",
              "      display: none;\n",
              "      fill: #1967D2;\n",
              "      height: 32px;\n",
              "      padding: 0 0 0 0;\n",
              "      width: 32px;\n",
              "    }\n",
              "\n",
              "    .colab-df-convert:hover {\n",
              "      background-color: #E2EBFA;\n",
              "      box-shadow: 0px 1px 2px rgba(60, 64, 67, 0.3), 0px 1px 3px 1px rgba(60, 64, 67, 0.15);\n",
              "      fill: #174EA6;\n",
              "    }\n",
              "\n",
              "    [theme=dark] .colab-df-convert {\n",
              "      background-color: #3B4455;\n",
              "      fill: #D2E3FC;\n",
              "    }\n",
              "\n",
              "    [theme=dark] .colab-df-convert:hover {\n",
              "      background-color: #434B5C;\n",
              "      box-shadow: 0px 1px 3px 1px rgba(0, 0, 0, 0.15);\n",
              "      filter: drop-shadow(0px 1px 2px rgba(0, 0, 0, 0.3));\n",
              "      fill: #FFFFFF;\n",
              "    }\n",
              "  </style>\n",
              "\n",
              "      <script>\n",
              "        const buttonEl =\n",
              "          document.querySelector('#df-8f6bf94d-7067-4d27-bfbb-04664d5f95d1 button.colab-df-convert');\n",
              "        buttonEl.style.display =\n",
              "          google.colab.kernel.accessAllowed ? 'block' : 'none';\n",
              "\n",
              "        async function convertToInteractive(key) {\n",
              "          const element = document.querySelector('#df-8f6bf94d-7067-4d27-bfbb-04664d5f95d1');\n",
              "          const dataTable =\n",
              "            await google.colab.kernel.invokeFunction('convertToInteractive',\n",
              "                                                     [key], {});\n",
              "          if (!dataTable) return;\n",
              "\n",
              "          const docLinkHtml = 'Like what you see? Visit the ' +\n",
              "            '<a target=\"_blank\" href=https://colab.research.google.com/notebooks/data_table.ipynb>data table notebook</a>'\n",
              "            + ' to learn more about interactive tables.';\n",
              "          element.innerHTML = '';\n",
              "          dataTable['output_type'] = 'display_data';\n",
              "          await google.colab.output.renderOutput(dataTable, element);\n",
              "          const docLink = document.createElement('div');\n",
              "          docLink.innerHTML = docLinkHtml;\n",
              "          element.appendChild(docLink);\n",
              "        }\n",
              "      </script>\n",
              "    </div>\n",
              "  </div>\n",
              "  "
            ]
          },
          "metadata": {},
          "execution_count": 6
        }
      ]
    },
    {
      "cell_type": "code",
      "source": [
        "nike.isnull().sum() "
      ],
      "metadata": {
        "colab": {
          "base_uri": "https://localhost:8080/"
        },
        "id": "JKYSDPkkMTUb",
        "outputId": "c24a2cb8-a405-452a-d7c1-3b6bec694e72"
      },
      "execution_count": 7,
      "outputs": [
        {
          "output_type": "execute_result",
          "data": {
            "text/plain": [
              "name                0\n",
              "sub_title           0\n",
              "color               2\n",
              "price               0\n",
              "availability        4\n",
              "avg_rating         89\n",
              "review_count       89\n",
              "available_sizes    56\n",
              "scraped_at          0\n",
              "dtype: int64"
            ]
          },
          "metadata": {},
          "execution_count": 7
        }
      ]
    },
    {
      "cell_type": "code",
      "source": [
        "nike.dtypes"
      ],
      "metadata": {
        "colab": {
          "base_uri": "https://localhost:8080/"
        },
        "id": "-lt4nEx_MTWq",
        "outputId": "d0975118-5e9f-434d-e3ee-d11b17cbff47"
      },
      "execution_count": 8,
      "outputs": [
        {
          "output_type": "execute_result",
          "data": {
            "text/plain": [
              "name                object\n",
              "sub_title           object\n",
              "color               object\n",
              "price              float64\n",
              "availability        object\n",
              "avg_rating         float64\n",
              "review_count       float64\n",
              "available_sizes     object\n",
              "scraped_at          object\n",
              "dtype: object"
            ]
          },
          "metadata": {},
          "execution_count": 8
        }
      ]
    },
    {
      "cell_type": "code",
      "source": [
        "nike.describe()"
      ],
      "metadata": {
        "colab": {
          "base_uri": "https://localhost:8080/",
          "height": 300
        },
        "id": "XdT8-n6cMTY6",
        "outputId": "37a928f5-2b2c-4ff9-c42c-23b12fadec9a"
      },
      "execution_count": 9,
      "outputs": [
        {
          "output_type": "execute_result",
          "data": {
            "text/plain": [
              "            price  avg_rating  review_count\n",
              "count  112.000000   23.000000     23.000000\n",
              "mean    61.506250    4.773913     31.391304\n",
              "std     39.887738    0.336043     72.942530\n",
              "min      9.970000    3.800000      1.000000\n",
              "25%     31.720000    4.750000      1.000000\n",
              "50%     45.000000    4.800000      5.000000\n",
              "75%     85.242500    5.000000     13.000000\n",
              "max    175.000000    5.000000    316.000000"
            ],
            "text/html": [
              "\n",
              "  <div id=\"df-a209b546-3336-4623-89c5-26760080e152\">\n",
              "    <div class=\"colab-df-container\">\n",
              "      <div>\n",
              "<style scoped>\n",
              "    .dataframe tbody tr th:only-of-type {\n",
              "        vertical-align: middle;\n",
              "    }\n",
              "\n",
              "    .dataframe tbody tr th {\n",
              "        vertical-align: top;\n",
              "    }\n",
              "\n",
              "    .dataframe thead th {\n",
              "        text-align: right;\n",
              "    }\n",
              "</style>\n",
              "<table border=\"1\" class=\"dataframe\">\n",
              "  <thead>\n",
              "    <tr style=\"text-align: right;\">\n",
              "      <th></th>\n",
              "      <th>price</th>\n",
              "      <th>avg_rating</th>\n",
              "      <th>review_count</th>\n",
              "    </tr>\n",
              "  </thead>\n",
              "  <tbody>\n",
              "    <tr>\n",
              "      <th>count</th>\n",
              "      <td>112.000000</td>\n",
              "      <td>23.000000</td>\n",
              "      <td>23.000000</td>\n",
              "    </tr>\n",
              "    <tr>\n",
              "      <th>mean</th>\n",
              "      <td>61.506250</td>\n",
              "      <td>4.773913</td>\n",
              "      <td>31.391304</td>\n",
              "    </tr>\n",
              "    <tr>\n",
              "      <th>std</th>\n",
              "      <td>39.887738</td>\n",
              "      <td>0.336043</td>\n",
              "      <td>72.942530</td>\n",
              "    </tr>\n",
              "    <tr>\n",
              "      <th>min</th>\n",
              "      <td>9.970000</td>\n",
              "      <td>3.800000</td>\n",
              "      <td>1.000000</td>\n",
              "    </tr>\n",
              "    <tr>\n",
              "      <th>25%</th>\n",
              "      <td>31.720000</td>\n",
              "      <td>4.750000</td>\n",
              "      <td>1.000000</td>\n",
              "    </tr>\n",
              "    <tr>\n",
              "      <th>50%</th>\n",
              "      <td>45.000000</td>\n",
              "      <td>4.800000</td>\n",
              "      <td>5.000000</td>\n",
              "    </tr>\n",
              "    <tr>\n",
              "      <th>75%</th>\n",
              "      <td>85.242500</td>\n",
              "      <td>5.000000</td>\n",
              "      <td>13.000000</td>\n",
              "    </tr>\n",
              "    <tr>\n",
              "      <th>max</th>\n",
              "      <td>175.000000</td>\n",
              "      <td>5.000000</td>\n",
              "      <td>316.000000</td>\n",
              "    </tr>\n",
              "  </tbody>\n",
              "</table>\n",
              "</div>\n",
              "      <button class=\"colab-df-convert\" onclick=\"convertToInteractive('df-a209b546-3336-4623-89c5-26760080e152')\"\n",
              "              title=\"Convert this dataframe to an interactive table.\"\n",
              "              style=\"display:none;\">\n",
              "        \n",
              "  <svg xmlns=\"http://www.w3.org/2000/svg\" height=\"24px\"viewBox=\"0 0 24 24\"\n",
              "       width=\"24px\">\n",
              "    <path d=\"M0 0h24v24H0V0z\" fill=\"none\"/>\n",
              "    <path d=\"M18.56 5.44l.94 2.06.94-2.06 2.06-.94-2.06-.94-.94-2.06-.94 2.06-2.06.94zm-11 1L8.5 8.5l.94-2.06 2.06-.94-2.06-.94L8.5 2.5l-.94 2.06-2.06.94zm10 10l.94 2.06.94-2.06 2.06-.94-2.06-.94-.94-2.06-.94 2.06-2.06.94z\"/><path d=\"M17.41 7.96l-1.37-1.37c-.4-.4-.92-.59-1.43-.59-.52 0-1.04.2-1.43.59L10.3 9.45l-7.72 7.72c-.78.78-.78 2.05 0 2.83L4 21.41c.39.39.9.59 1.41.59.51 0 1.02-.2 1.41-.59l7.78-7.78 2.81-2.81c.8-.78.8-2.07 0-2.86zM5.41 20L4 18.59l7.72-7.72 1.47 1.35L5.41 20z\"/>\n",
              "  </svg>\n",
              "      </button>\n",
              "      \n",
              "  <style>\n",
              "    .colab-df-container {\n",
              "      display:flex;\n",
              "      flex-wrap:wrap;\n",
              "      gap: 12px;\n",
              "    }\n",
              "\n",
              "    .colab-df-convert {\n",
              "      background-color: #E8F0FE;\n",
              "      border: none;\n",
              "      border-radius: 50%;\n",
              "      cursor: pointer;\n",
              "      display: none;\n",
              "      fill: #1967D2;\n",
              "      height: 32px;\n",
              "      padding: 0 0 0 0;\n",
              "      width: 32px;\n",
              "    }\n",
              "\n",
              "    .colab-df-convert:hover {\n",
              "      background-color: #E2EBFA;\n",
              "      box-shadow: 0px 1px 2px rgba(60, 64, 67, 0.3), 0px 1px 3px 1px rgba(60, 64, 67, 0.15);\n",
              "      fill: #174EA6;\n",
              "    }\n",
              "\n",
              "    [theme=dark] .colab-df-convert {\n",
              "      background-color: #3B4455;\n",
              "      fill: #D2E3FC;\n",
              "    }\n",
              "\n",
              "    [theme=dark] .colab-df-convert:hover {\n",
              "      background-color: #434B5C;\n",
              "      box-shadow: 0px 1px 3px 1px rgba(0, 0, 0, 0.15);\n",
              "      filter: drop-shadow(0px 1px 2px rgba(0, 0, 0, 0.3));\n",
              "      fill: #FFFFFF;\n",
              "    }\n",
              "  </style>\n",
              "\n",
              "      <script>\n",
              "        const buttonEl =\n",
              "          document.querySelector('#df-a209b546-3336-4623-89c5-26760080e152 button.colab-df-convert');\n",
              "        buttonEl.style.display =\n",
              "          google.colab.kernel.accessAllowed ? 'block' : 'none';\n",
              "\n",
              "        async function convertToInteractive(key) {\n",
              "          const element = document.querySelector('#df-a209b546-3336-4623-89c5-26760080e152');\n",
              "          const dataTable =\n",
              "            await google.colab.kernel.invokeFunction('convertToInteractive',\n",
              "                                                     [key], {});\n",
              "          if (!dataTable) return;\n",
              "\n",
              "          const docLinkHtml = 'Like what you see? Visit the ' +\n",
              "            '<a target=\"_blank\" href=https://colab.research.google.com/notebooks/data_table.ipynb>data table notebook</a>'\n",
              "            + ' to learn more about interactive tables.';\n",
              "          element.innerHTML = '';\n",
              "          dataTable['output_type'] = 'display_data';\n",
              "          await google.colab.output.renderOutput(dataTable, element);\n",
              "          const docLink = document.createElement('div');\n",
              "          docLink.innerHTML = docLinkHtml;\n",
              "          element.appendChild(docLink);\n",
              "        }\n",
              "      </script>\n",
              "    </div>\n",
              "  </div>\n",
              "  "
            ]
          },
          "metadata": {},
          "execution_count": 9
        }
      ]
    },
    {
      "cell_type": "code",
      "source": [
        "nike.describe(include='object')"
      ],
      "metadata": {
        "colab": {
          "base_uri": "https://localhost:8080/",
          "height": 175
        },
        "id": "sdlPCC0KMvHj",
        "outputId": "5080e995-69d8-40dc-b585-f6003ed40c26"
      },
      "execution_count": 10,
      "outputs": [
        {
          "output_type": "execute_result",
          "data": {
            "text/plain": [
              "                   name    sub_title  color availability  \\\n",
              "count               112          112    110          108   \n",
              "unique               96           80     76            2   \n",
              "top     Nike Sportswear  Men's Shoes  Black      InStock   \n",
              "freq                  6            5     15           67   \n",
              "\n",
              "             available_sizes        scraped_at  \n",
              "count                     56               112  \n",
              "unique                    35                21  \n",
              "top     S | M | L | XL | 2XL  20-09-2022 23:52  \n",
              "freq                      12                12  "
            ],
            "text/html": [
              "\n",
              "  <div id=\"df-4123178a-fb08-4deb-8b58-9b5af95be875\">\n",
              "    <div class=\"colab-df-container\">\n",
              "      <div>\n",
              "<style scoped>\n",
              "    .dataframe tbody tr th:only-of-type {\n",
              "        vertical-align: middle;\n",
              "    }\n",
              "\n",
              "    .dataframe tbody tr th {\n",
              "        vertical-align: top;\n",
              "    }\n",
              "\n",
              "    .dataframe thead th {\n",
              "        text-align: right;\n",
              "    }\n",
              "</style>\n",
              "<table border=\"1\" class=\"dataframe\">\n",
              "  <thead>\n",
              "    <tr style=\"text-align: right;\">\n",
              "      <th></th>\n",
              "      <th>name</th>\n",
              "      <th>sub_title</th>\n",
              "      <th>color</th>\n",
              "      <th>availability</th>\n",
              "      <th>available_sizes</th>\n",
              "      <th>scraped_at</th>\n",
              "    </tr>\n",
              "  </thead>\n",
              "  <tbody>\n",
              "    <tr>\n",
              "      <th>count</th>\n",
              "      <td>112</td>\n",
              "      <td>112</td>\n",
              "      <td>110</td>\n",
              "      <td>108</td>\n",
              "      <td>56</td>\n",
              "      <td>112</td>\n",
              "    </tr>\n",
              "    <tr>\n",
              "      <th>unique</th>\n",
              "      <td>96</td>\n",
              "      <td>80</td>\n",
              "      <td>76</td>\n",
              "      <td>2</td>\n",
              "      <td>35</td>\n",
              "      <td>21</td>\n",
              "    </tr>\n",
              "    <tr>\n",
              "      <th>top</th>\n",
              "      <td>Nike Sportswear</td>\n",
              "      <td>Men's Shoes</td>\n",
              "      <td>Black</td>\n",
              "      <td>InStock</td>\n",
              "      <td>S | M | L | XL | 2XL</td>\n",
              "      <td>20-09-2022 23:52</td>\n",
              "    </tr>\n",
              "    <tr>\n",
              "      <th>freq</th>\n",
              "      <td>6</td>\n",
              "      <td>5</td>\n",
              "      <td>15</td>\n",
              "      <td>67</td>\n",
              "      <td>12</td>\n",
              "      <td>12</td>\n",
              "    </tr>\n",
              "  </tbody>\n",
              "</table>\n",
              "</div>\n",
              "      <button class=\"colab-df-convert\" onclick=\"convertToInteractive('df-4123178a-fb08-4deb-8b58-9b5af95be875')\"\n",
              "              title=\"Convert this dataframe to an interactive table.\"\n",
              "              style=\"display:none;\">\n",
              "        \n",
              "  <svg xmlns=\"http://www.w3.org/2000/svg\" height=\"24px\"viewBox=\"0 0 24 24\"\n",
              "       width=\"24px\">\n",
              "    <path d=\"M0 0h24v24H0V0z\" fill=\"none\"/>\n",
              "    <path d=\"M18.56 5.44l.94 2.06.94-2.06 2.06-.94-2.06-.94-.94-2.06-.94 2.06-2.06.94zm-11 1L8.5 8.5l.94-2.06 2.06-.94-2.06-.94L8.5 2.5l-.94 2.06-2.06.94zm10 10l.94 2.06.94-2.06 2.06-.94-2.06-.94-.94-2.06-.94 2.06-2.06.94z\"/><path d=\"M17.41 7.96l-1.37-1.37c-.4-.4-.92-.59-1.43-.59-.52 0-1.04.2-1.43.59L10.3 9.45l-7.72 7.72c-.78.78-.78 2.05 0 2.83L4 21.41c.39.39.9.59 1.41.59.51 0 1.02-.2 1.41-.59l7.78-7.78 2.81-2.81c.8-.78.8-2.07 0-2.86zM5.41 20L4 18.59l7.72-7.72 1.47 1.35L5.41 20z\"/>\n",
              "  </svg>\n",
              "      </button>\n",
              "      \n",
              "  <style>\n",
              "    .colab-df-container {\n",
              "      display:flex;\n",
              "      flex-wrap:wrap;\n",
              "      gap: 12px;\n",
              "    }\n",
              "\n",
              "    .colab-df-convert {\n",
              "      background-color: #E8F0FE;\n",
              "      border: none;\n",
              "      border-radius: 50%;\n",
              "      cursor: pointer;\n",
              "      display: none;\n",
              "      fill: #1967D2;\n",
              "      height: 32px;\n",
              "      padding: 0 0 0 0;\n",
              "      width: 32px;\n",
              "    }\n",
              "\n",
              "    .colab-df-convert:hover {\n",
              "      background-color: #E2EBFA;\n",
              "      box-shadow: 0px 1px 2px rgba(60, 64, 67, 0.3), 0px 1px 3px 1px rgba(60, 64, 67, 0.15);\n",
              "      fill: #174EA6;\n",
              "    }\n",
              "\n",
              "    [theme=dark] .colab-df-convert {\n",
              "      background-color: #3B4455;\n",
              "      fill: #D2E3FC;\n",
              "    }\n",
              "\n",
              "    [theme=dark] .colab-df-convert:hover {\n",
              "      background-color: #434B5C;\n",
              "      box-shadow: 0px 1px 3px 1px rgba(0, 0, 0, 0.15);\n",
              "      filter: drop-shadow(0px 1px 2px rgba(0, 0, 0, 0.3));\n",
              "      fill: #FFFFFF;\n",
              "    }\n",
              "  </style>\n",
              "\n",
              "      <script>\n",
              "        const buttonEl =\n",
              "          document.querySelector('#df-4123178a-fb08-4deb-8b58-9b5af95be875 button.colab-df-convert');\n",
              "        buttonEl.style.display =\n",
              "          google.colab.kernel.accessAllowed ? 'block' : 'none';\n",
              "\n",
              "        async function convertToInteractive(key) {\n",
              "          const element = document.querySelector('#df-4123178a-fb08-4deb-8b58-9b5af95be875');\n",
              "          const dataTable =\n",
              "            await google.colab.kernel.invokeFunction('convertToInteractive',\n",
              "                                                     [key], {});\n",
              "          if (!dataTable) return;\n",
              "\n",
              "          const docLinkHtml = 'Like what you see? Visit the ' +\n",
              "            '<a target=\"_blank\" href=https://colab.research.google.com/notebooks/data_table.ipynb>data table notebook</a>'\n",
              "            + ' to learn more about interactive tables.';\n",
              "          element.innerHTML = '';\n",
              "          dataTable['output_type'] = 'display_data';\n",
              "          await google.colab.output.renderOutput(dataTable, element);\n",
              "          const docLink = document.createElement('div');\n",
              "          docLink.innerHTML = docLinkHtml;\n",
              "          element.appendChild(docLink);\n",
              "        }\n",
              "      </script>\n",
              "    </div>\n",
              "  </div>\n",
              "  "
            ]
          },
          "metadata": {},
          "execution_count": 10
        }
      ]
    },
    {
      "cell_type": "code",
      "source": [],
      "metadata": {
        "id": "5pAiUv_6JfRa"
      },
      "execution_count": 37,
      "outputs": []
    },
    {
      "cell_type": "markdown",
      "source": [
        "**Outliers Detection** \n",
        "\n",
        "\n",
        "\n",
        "\n"
      ],
      "metadata": {
        "id": "hDTVMVeBJ1v6"
      }
    },
    {
      "cell_type": "code",
      "source": [
        "sns.boxplot(nike['avg_rating'])"
      ],
      "metadata": {
        "colab": {
          "base_uri": "https://localhost:8080/",
          "height": 298
        },
        "id": "WlPcGe1GMvSS",
        "outputId": "18de6e6a-ec6b-4401-8fa5-0f30f97234a6"
      },
      "execution_count": 11,
      "outputs": [
        {
          "output_type": "execute_result",
          "data": {
            "text/plain": [
              "<matplotlib.axes._subplots.AxesSubplot at 0x7f66d6bc6c90>"
            ]
          },
          "metadata": {},
          "execution_count": 11
        },
        {
          "output_type": "display_data",
          "data": {
            "text/plain": [
              "<Figure size 432x288 with 1 Axes>"
            ],
            "image/png": "[encoded data removed]"
          },
          "metadata": {
            "needs_background": "light"
          }
        }
      ]
    },
    {
      "cell_type": "code",
      "source": [
        "Q1= nike.avg_rating.quantile(0.25)\n",
        "Q3= nike.avg_rating.quantile(0.75)\n",
        "Q1,Q3"
      ],
      "metadata": {
        "colab": {
          "base_uri": "https://localhost:8080/"
        },
        "id": "AGg235LQMvZW",
        "outputId": "93d67778-07b9-475d-df66-5044775982cb"
      },
      "execution_count": 12,
      "outputs": [
        {
          "output_type": "execute_result",
          "data": {
            "text/plain": [
              "(4.75, 5.0)"
            ]
          },
          "metadata": {},
          "execution_count": 12
        }
      ]
    },
    {
      "cell_type": "code",
      "source": [
        "IQR=Q3-Q1\n",
        "IQR"
      ],
      "metadata": {
        "colab": {
          "base_uri": "https://localhost:8080/"
        },
        "id": "k6N78Pb4Mvoe",
        "outputId": "279156dc-d073-4863-b761-0650747d4677"
      },
      "execution_count": 13,
      "outputs": [
        {
          "output_type": "execute_result",
          "data": {
            "text/plain": [
              "0.25"
            ]
          },
          "metadata": {},
          "execution_count": 13
        }
      ]
    },
    {
      "cell_type": "code",
      "source": [
        "ll= Q1-1.5*IQR\n",
        "ul= Q3+1.5*IQR\n",
        "ll,ul"
      ],
      "metadata": {
        "colab": {
          "base_uri": "https://localhost:8080/"
        },
        "id": "IZJSn0ksM74b",
        "outputId": "9e503cff-3095-468a-c554-ce4cda706f24"
      },
      "execution_count": 14,
      "outputs": [
        {
          "output_type": "execute_result",
          "data": {
            "text/plain": [
              "(4.375, 5.375)"
            ]
          },
          "metadata": {},
          "execution_count": 14
        }
      ]
    },
    {
      "cell_type": "code",
      "source": [
        "nike[(nike.avg_rating<ll)|(nike.avg_rating>ul)]"
      ],
      "metadata": {
        "colab": {
          "base_uri": "https://localhost:8080/",
          "height": 143
        },
        "id": "2snRJUZnM8CI",
        "outputId": "fa784788-275c-4b44-b994-8ac9858ddf05"
      },
      "execution_count": 15,
      "outputs": [
        {
          "output_type": "execute_result",
          "data": {
            "text/plain": [
              "                  name                 sub_title              color   price  \\\n",
              "48            Nike Pro              Men's Tights        White/Black   24.97   \n",
              "49   Nike SFB Gen 2 8”             Tactical Boot  Black/Black/Black  140.00   \n",
              "104               Nike  Ponytail Holder (9-Pack)        Multi-Color   10.97   \n",
              "\n",
              "    availability  avg_rating  review_count  \\\n",
              "48    OutOfStock         4.3         152.0   \n",
              "49       InStock         3.8          28.0   \n",
              "104      InStock         3.9          15.0   \n",
              "\n",
              "                                       available_sizes        scraped_at  \n",
              "48                                                 NaN  20-09-2022 23:43  \n",
              "49   M 6 / W 7.5 | M 6.5 / W 8 | M 7 / W 8.5 | M 7....  20-09-2022 23:43  \n",
              "104                                                NaN  20-09-2022 23:52  "
            ],
            "text/html": [
              "\n",
              "  <div id=\"df-2f5e36d4-15eb-4dca-9d37-957ec0351afb\">\n",
              "    <div class=\"colab-df-container\">\n",
              "      <div>\n",
              "<style scoped>\n",
              "    .dataframe tbody tr th:only-of-type {\n",
              "        vertical-align: middle;\n",
              "    }\n",
              "\n",
              "    .dataframe tbody tr th {\n",
              "        vertical-align: top;\n",
              "    }\n",
              "\n",
              "    .dataframe thead th {\n",
              "        text-align: right;\n",
              "    }\n",
              "</style>\n",
              "<table border=\"1\" class=\"dataframe\">\n",
              "  <thead>\n",
              "    <tr style=\"text-align: right;\">\n",
              "      <th></th>\n",
              "      <th>name</th>\n",
              "      <th>sub_title</th>\n",
              "      <th>color</th>\n",
              "      <th>price</th>\n",
              "      <th>availability</th>\n",
              "      <th>avg_rating</th>\n",
              "      <th>review_count</th>\n",
              "      <th>available_sizes</th>\n",
              "      <th>scraped_at</th>\n",
              "    </tr>\n",
              "  </thead>\n",
              "  <tbody>\n",
              "    <tr>\n",
              "      <th>48</th>\n",
              "      <td>Nike Pro</td>\n",
              "      <td>Men's Tights</td>\n",
              "      <td>White/Black</td>\n",
              "      <td>24.97</td>\n",
              "      <td>OutOfStock</td>\n",
              "      <td>4.3</td>\n",
              "      <td>152.0</td>\n",
              "      <td>NaN</td>\n",
              "      <td>20-09-2022 23:43</td>\n",
              "    </tr>\n",
              "    <tr>\n",
              "      <th>49</th>\n",
              "      <td>Nike SFB Gen 2 8”</td>\n",
              "      <td>Tactical Boot</td>\n",
              "      <td>Black/Black/Black</td>\n",
              "      <td>140.00</td>\n",
              "      <td>InStock</td>\n",
              "      <td>3.8</td>\n",
              "      <td>28.0</td>\n",
              "      <td>M 6 / W 7.5 | M 6.5 / W 8 | M 7 / W 8.5 | M 7....</td>\n",
              "      <td>20-09-2022 23:43</td>\n",
              "    </tr>\n",
              "    <tr>\n",
              "      <th>104</th>\n",
              "      <td>Nike</td>\n",
              "      <td>Ponytail Holder (9-Pack)</td>\n",
              "      <td>Multi-Color</td>\n",
              "      <td>10.97</td>\n",
              "      <td>InStock</td>\n",
              "      <td>3.9</td>\n",
              "      <td>15.0</td>\n",
              "      <td>NaN</td>\n",
              "      <td>20-09-2022 23:52</td>\n",
              "    </tr>\n",
              "  </tbody>\n",
              "</table>\n",
              "</div>\n",
              "      <button class=\"colab-df-convert\" onclick=\"convertToInteractive('df-2f5e36d4-15eb-4dca-9d37-957ec0351afb')\"\n",
              "              title=\"Convert this dataframe to an interactive table.\"\n",
              "              style=\"display:none;\">\n",
              "        \n",
              "  <svg xmlns=\"http://www.w3.org/2000/svg\" height=\"24px\"viewBox=\"0 0 24 24\"\n",
              "       width=\"24px\">\n",
              "    <path d=\"M0 0h24v24H0V0z\" fill=\"none\"/>\n",
              "    <path d=\"M18.56 5.44l.94 2.06.94-2.06 2.06-.94-2.06-.94-.94-2.06-.94 2.06-2.06.94zm-11 1L8.5 8.5l.94-2.06 2.06-.94-2.06-.94L8.5 2.5l-.94 2.06-2.06.94zm10 10l.94 2.06.94-2.06 2.06-.94-2.06-.94-.94-2.06-.94 2.06-2.06.94z\"/><path d=\"M17.41 7.96l-1.37-1.37c-.4-.4-.92-.59-1.43-.59-.52 0-1.04.2-1.43.59L10.3 9.45l-7.72 7.72c-.78.78-.78 2.05 0 2.83L4 21.41c.39.39.9.59 1.41.59.51 0 1.02-.2 1.41-.59l7.78-7.78 2.81-2.81c.8-.78.8-2.07 0-2.86zM5.41 20L4 18.59l7.72-7.72 1.47 1.35L5.41 20z\"/>\n",
              "  </svg>\n",
              "      </button>\n",
              "      \n",
              "  <style>\n",
              "    .colab-df-container {\n",
              "      display:flex;\n",
              "      flex-wrap:wrap;\n",
              "      gap: 12px;\n",
              "    }\n",
              "\n",
              "    .colab-df-convert {\n",
              "      background-color: #E8F0FE;\n",
              "      border: none;\n",
              "      border-radius: 50%;\n",
              "      cursor: pointer;\n",
              "      display: none;\n",
              "      fill: #1967D2;\n",
              "      height: 32px;\n",
              "      padding: 0 0 0 0;\n",
              "      width: 32px;\n",
              "    }\n",
              "\n",
              "    .colab-df-convert:hover {\n",
              "      background-color: #E2EBFA;\n",
              "      box-shadow: 0px 1px 2px rgba(60, 64, 67, 0.3), 0px 1px 3px 1px rgba(60, 64, 67, 0.15);\n",
              "      fill: #174EA6;\n",
              "    }\n",
              "\n",
              "    [theme=dark] .colab-df-convert {\n",
              "      background-color: #3B4455;\n",
              "      fill: #D2E3FC;\n",
              "    }\n",
              "\n",
              "    [theme=dark] .colab-df-convert:hover {\n",
              "      background-color: #434B5C;\n",
              "      box-shadow: 0px 1px 3px 1px rgba(0, 0, 0, 0.15);\n",
              "      filter: drop-shadow(0px 1px 2px rgba(0, 0, 0, 0.3));\n",
              "      fill: #FFFFFF;\n",
              "    }\n",
              "  </style>\n",
              "\n",
              "      <script>\n",
              "        const buttonEl =\n",
              "          document.querySelector('#df-2f5e36d4-15eb-4dca-9d37-957ec0351afb button.colab-df-convert');\n",
              "        buttonEl.style.display =\n",
              "          google.colab.kernel.accessAllowed ? 'block' : 'none';\n",
              "\n",
              "        async function convertToInteractive(key) {\n",
              "          const element = document.querySelector('#df-2f5e36d4-15eb-4dca-9d37-957ec0351afb');\n",
              "          const dataTable =\n",
              "            await google.colab.kernel.invokeFunction('convertToInteractive',\n",
              "                                                     [key], {});\n",
              "          if (!dataTable) return;\n",
              "\n",
              "          const docLinkHtml = 'Like what you see? Visit the ' +\n",
              "            '<a target=\"_blank\" href=https://colab.research.google.com/notebooks/data_table.ipynb>data table notebook</a>'\n",
              "            + ' to learn more about interactive tables.';\n",
              "          element.innerHTML = '';\n",
              "          dataTable['output_type'] = 'display_data';\n",
              "          await google.colab.output.renderOutput(dataTable, element);\n",
              "          const docLink = document.createElement('div');\n",
              "          docLink.innerHTML = docLinkHtml;\n",
              "          element.appendChild(docLink);\n",
              "        }\n",
              "      </script>\n",
              "    </div>\n",
              "  </div>\n",
              "  "
            ]
          },
          "metadata": {},
          "execution_count": 15
        }
      ]
    },
    {
      "cell_type": "code",
      "source": [
        "sns.boxplot(nike['review_count'])"
      ],
      "metadata": {
        "colab": {
          "base_uri": "https://localhost:8080/",
          "height": 298
        },
        "id": "UqmiKQCJM8L3",
        "outputId": "cade9dc4-59db-4bdc-d033-531562a43236"
      },
      "execution_count": 16,
      "outputs": [
        {
          "output_type": "execute_result",
          "data": {
            "text/plain": [
              "<matplotlib.axes._subplots.AxesSubplot at 0x7f66d6672150>"
            ]
          },
          "metadata": {},
          "execution_count": 16
        },
        {
          "output_type": "display_data",
          "data": {
            "text/plain": [
              "<Figure size 432x288 with 1 Axes>"
            ],
            "image/png": "[encoded data removed]"
          },
          "metadata": {
            "needs_background": "light"
          }
        }
      ]
    },
    {
      "cell_type": "code",
      "source": [
        "Q1= nike.review_count.quantile(0.25)\n",
        "Q3=nike.review_count.quantile(0.75)\n",
        "Q1,Q3"
      ],
      "metadata": {
        "colab": {
          "base_uri": "https://localhost:8080/"
        },
        "id": "-zD_vY3wM8ZA",
        "outputId": "eab6e047-b469-42e5-d066-e88a26a18963"
      },
      "execution_count": 17,
      "outputs": [
        {
          "output_type": "execute_result",
          "data": {
            "text/plain": [
              "(1.0, 13.0)"
            ]
          },
          "metadata": {},
          "execution_count": 17
        }
      ]
    },
    {
      "cell_type": "code",
      "source": [
        "IQR=Q3-Q1\n",
        "IQR"
      ],
      "metadata": {
        "colab": {
          "base_uri": "https://localhost:8080/"
        },
        "id": "Hd9xc4WgMTbI",
        "outputId": "eaafdae0-c9d1-4823-ad76-3040514518a0"
      },
      "execution_count": 18,
      "outputs": [
        {
          "output_type": "execute_result",
          "data": {
            "text/plain": [
              "12.0"
            ]
          },
          "metadata": {},
          "execution_count": 18
        }
      ]
    },
    {
      "cell_type": "code",
      "source": [
        "ll= Q1-1.5*IQR\n",
        "ul= Q3+1.5*IQR\n",
        "ll,ul"
      ],
      "metadata": {
        "colab": {
          "base_uri": "https://localhost:8080/"
        },
        "id": "NBxztxqEMTdE",
        "outputId": "5a29778a-ac75-43b1-a7f8-4fc5f57a67b9"
      },
      "execution_count": 19,
      "outputs": [
        {
          "output_type": "execute_result",
          "data": {
            "text/plain": [
              "(-17.0, 31.0)"
            ]
          },
          "metadata": {},
          "execution_count": 19
        }
      ]
    },
    {
      "cell_type": "code",
      "source": [
        "nike[(nike.review_count<ll)|(nike.review_count>ul)]"
      ],
      "metadata": {
        "colab": {
          "base_uri": "https://localhost:8080/",
          "height": 143
        },
        "id": "YH35VXNcMTfn",
        "outputId": "35eab592-97d4-4c7f-a344-3a4f54d5a5cf"
      },
      "execution_count": 20,
      "outputs": [
        {
          "output_type": "execute_result",
          "data": {
            "text/plain": [
              "                      name     sub_title  \\\n",
              "23  Air Jordan 1 Zoom CMFT         Shoes   \n",
              "48                Nike Pro  Men's Tights   \n",
              "53          Nike Essential     Ball Pump   \n",
              "\n",
              "                                            color   price availability  \\\n",
              "23  Fossil Stone/Fossil Rose/Psychic Purple/White  150.00      InStock   \n",
              "48                                    White/Black   24.97   OutOfStock   \n",
              "53                              Black/Black/White   12.00      InStock   \n",
              "\n",
              "    avg_rating  review_count  \\\n",
              "23         4.8         120.0   \n",
              "48         4.3         152.0   \n",
              "53         4.7         316.0   \n",
              "\n",
              "                                      available_sizes        scraped_at  \n",
              "23  M 9 / W 10.5 | M 9.5 / W 11 | M 10 / W 11.5 | ...  20-09-2022 23:37  \n",
              "48                                                NaN  20-09-2022 23:43  \n",
              "53                                                NaN  20-09-2022 23:44  "
            ],
            "text/html": [
              "\n",
              "  <div id=\"df-53719e71-8fff-4fe7-8d11-0c458cf2edc7\">\n",
              "    <div class=\"colab-df-container\">\n",
              "      <div>\n",
              "<style scoped>\n",
              "    .dataframe tbody tr th:only-of-type {\n",
              "        vertical-align: middle;\n",
              "    }\n",
              "\n",
              "    .dataframe tbody tr th {\n",
              "        vertical-align: top;\n",
              "    }\n",
              "\n",
              "    .dataframe thead th {\n",
              "        text-align: right;\n",
              "    }\n",
              "</style>\n",
              "<table border=\"1\" class=\"dataframe\">\n",
              "  <thead>\n",
              "    <tr style=\"text-align: right;\">\n",
              "      <th></th>\n",
              "      <th>name</th>\n",
              "      <th>sub_title</th>\n",
              "      <th>color</th>\n",
              "      <th>price</th>\n",
              "      <th>availability</th>\n",
              "      <th>avg_rating</th>\n",
              "      <th>review_count</th>\n",
              "      <th>available_sizes</th>\n",
              "      <th>scraped_at</th>\n",
              "    </tr>\n",
              "  </thead>\n",
              "  <tbody>\n",
              "    <tr>\n",
              "      <th>23</th>\n",
              "      <td>Air Jordan 1 Zoom CMFT</td>\n",
              "      <td>Shoes</td>\n",
              "      <td>Fossil Stone/Fossil Rose/Psychic Purple/White</td>\n",
              "      <td>150.00</td>\n",
              "      <td>InStock</td>\n",
              "      <td>4.8</td>\n",
              "      <td>120.0</td>\n",
              "      <td>M 9 / W 10.5 | M 9.5 / W 11 | M 10 / W 11.5 | ...</td>\n",
              "      <td>20-09-2022 23:37</td>\n",
              "    </tr>\n",
              "    <tr>\n",
              "      <th>48</th>\n",
              "      <td>Nike Pro</td>\n",
              "      <td>Men's Tights</td>\n",
              "      <td>White/Black</td>\n",
              "      <td>24.97</td>\n",
              "      <td>OutOfStock</td>\n",
              "      <td>4.3</td>\n",
              "      <td>152.0</td>\n",
              "      <td>NaN</td>\n",
              "      <td>20-09-2022 23:43</td>\n",
              "    </tr>\n",
              "    <tr>\n",
              "      <th>53</th>\n",
              "      <td>Nike Essential</td>\n",
              "      <td>Ball Pump</td>\n",
              "      <td>Black/Black/White</td>\n",
              "      <td>12.00</td>\n",
              "      <td>InStock</td>\n",
              "      <td>4.7</td>\n",
              "      <td>316.0</td>\n",
              "      <td>NaN</td>\n",
              "      <td>20-09-2022 23:44</td>\n",
              "    </tr>\n",
              "  </tbody>\n",
              "</table>\n",
              "</div>\n",
              "      <button class=\"colab-df-convert\" onclick=\"convertToInteractive('df-53719e71-8fff-4fe7-8d11-0c458cf2edc7')\"\n",
              "              title=\"Convert this dataframe to an interactive table.\"\n",
              "              style=\"display:none;\">\n",
              "        \n",
              "  <svg xmlns=\"http://www.w3.org/2000/svg\" height=\"24px\"viewBox=\"0 0 24 24\"\n",
              "       width=\"24px\">\n",
              "    <path d=\"M0 0h24v24H0V0z\" fill=\"none\"/>\n",
              "    <path d=\"M18.56 5.44l.94 2.06.94-2.06 2.06-.94-2.06-.94-.94-2.06-.94 2.06-2.06.94zm-11 1L8.5 8.5l.94-2.06 2.06-.94-2.06-.94L8.5 2.5l-.94 2.06-2.06.94zm10 10l.94 2.06.94-2.06 2.06-.94-2.06-.94-.94-2.06-.94 2.06-2.06.94z\"/><path d=\"M17.41 7.96l-1.37-1.37c-.4-.4-.92-.59-1.43-.59-.52 0-1.04.2-1.43.59L10.3 9.45l-7.72 7.72c-.78.78-.78 2.05 0 2.83L4 21.41c.39.39.9.59 1.41.59.51 0 1.02-.2 1.41-.59l7.78-7.78 2.81-2.81c.8-.78.8-2.07 0-2.86zM5.41 20L4 18.59l7.72-7.72 1.47 1.35L5.41 20z\"/>\n",
              "  </svg>\n",
              "      </button>\n",
              "      \n",
              "  <style>\n",
              "    .colab-df-container {\n",
              "      display:flex;\n",
              "      flex-wrap:wrap;\n",
              "      gap: 12px;\n",
              "    }\n",
              "\n",
              "    .colab-df-convert {\n",
              "      background-color: #E8F0FE;\n",
              "      border: none;\n",
              "      border-radius: 50%;\n",
              "      cursor: pointer;\n",
              "      display: none;\n",
              "      fill: #1967D2;\n",
              "      height: 32px;\n",
              "      padding: 0 0 0 0;\n",
              "      width: 32px;\n",
              "    }\n",
              "\n",
              "    .colab-df-convert:hover {\n",
              "      background-color: #E2EBFA;\n",
              "      box-shadow: 0px 1px 2px rgba(60, 64, 67, 0.3), 0px 1px 3px 1px rgba(60, 64, 67, 0.15);\n",
              "      fill: #174EA6;\n",
              "    }\n",
              "\n",
              "    [theme=dark] .colab-df-convert {\n",
              "      background-color: #3B4455;\n",
              "      fill: #D2E3FC;\n",
              "    }\n",
              "\n",
              "    [theme=dark] .colab-df-convert:hover {\n",
              "      background-color: #434B5C;\n",
              "      box-shadow: 0px 1px 3px 1px rgba(0, 0, 0, 0.15);\n",
              "      filter: drop-shadow(0px 1px 2px rgba(0, 0, 0, 0.3));\n",
              "      fill: #FFFFFF;\n",
              "    }\n",
              "  </style>\n",
              "\n",
              "      <script>\n",
              "        const buttonEl =\n",
              "          document.querySelector('#df-53719e71-8fff-4fe7-8d11-0c458cf2edc7 button.colab-df-convert');\n",
              "        buttonEl.style.display =\n",
              "          google.colab.kernel.accessAllowed ? 'block' : 'none';\n",
              "\n",
              "        async function convertToInteractive(key) {\n",
              "          const element = document.querySelector('#df-53719e71-8fff-4fe7-8d11-0c458cf2edc7');\n",
              "          const dataTable =\n",
              "            await google.colab.kernel.invokeFunction('convertToInteractive',\n",
              "                                                     [key], {});\n",
              "          if (!dataTable) return;\n",
              "\n",
              "          const docLinkHtml = 'Like what you see? Visit the ' +\n",
              "            '<a target=\"_blank\" href=https://colab.research.google.com/notebooks/data_table.ipynb>data table notebook</a>'\n",
              "            + ' to learn more about interactive tables.';\n",
              "          element.innerHTML = '';\n",
              "          dataTable['output_type'] = 'display_data';\n",
              "          await google.colab.output.renderOutput(dataTable, element);\n",
              "          const docLink = document.createElement('div');\n",
              "          docLink.innerHTML = docLinkHtml;\n",
              "          element.appendChild(docLink);\n",
              "        }\n",
              "      </script>\n",
              "    </div>\n",
              "  </div>\n",
              "  "
            ]
          },
          "metadata": {},
          "execution_count": 20
        }
      ]
    },
    {
      "cell_type": "code",
      "source": [],
      "metadata": {
        "id": "R8resuf2KhxD"
      },
      "execution_count": null,
      "outputs": []
    },
    {
      "cell_type": "markdown",
      "source": [
        "**Handling Null Values**"
      ],
      "metadata": {
        "id": "UVf1hdPvKiMJ"
      }
    },
    {
      "cell_type": "code",
      "source": [
        "nike['avg_rating'] = nike['avg_rating'].fillna(nike['avg_rating'].median(),axis=0)\n",
        "nike['review_count'] = nike['review_count'].fillna(nike['review_count'].median(),axis=0)"
      ],
      "metadata": {
        "id": "ItE0Zc8HMThh"
      },
      "execution_count": 21,
      "outputs": []
    },
    {
      "cell_type": "code",
      "source": [
        "# Since both avg rating and review count had outliers we have used median to handle null values"
      ],
      "metadata": {
        "id": "sVHPMl99U3Jq"
      },
      "execution_count": null,
      "outputs": []
    },
    {
      "cell_type": "code",
      "source": [
        "nike.describe()"
      ],
      "metadata": {
        "colab": {
          "base_uri": "https://localhost:8080/",
          "height": 300
        },
        "id": "D6O4zES8MTjz",
        "outputId": "ee4b5a22-830d-461b-a7d9-0ebe09b745ab"
      },
      "execution_count": 22,
      "outputs": [
        {
          "output_type": "execute_result",
          "data": {
            "text/plain": [
              "            price  avg_rating  review_count\n",
              "count  112.000000  112.000000    112.000000\n",
              "mean    61.506250    4.794643     10.419643\n",
              "std     39.887738    0.149979     34.193840\n",
              "min      9.970000    3.800000      1.000000\n",
              "25%     31.720000    4.800000      5.000000\n",
              "50%     45.000000    4.800000      5.000000\n",
              "75%     85.242500    4.800000      5.000000\n",
              "max    175.000000    5.000000    316.000000"
            ],
            "text/html": [
              "\n",
              "  <div id=\"df-029e7e7c-3c29-4208-b4dd-32510caf57fb\">\n",
              "    <div class=\"colab-df-container\">\n",
              "      <div>\n",
              "<style scoped>\n",
              "    .dataframe tbody tr th:only-of-type {\n",
              "        vertical-align: middle;\n",
              "    }\n",
              "\n",
              "    .dataframe tbody tr th {\n",
              "        vertical-align: top;\n",
              "    }\n",
              "\n",
              "    .dataframe thead th {\n",
              "        text-align: right;\n",
              "    }\n",
              "</style>\n",
              "<table border=\"1\" class=\"dataframe\">\n",
              "  <thead>\n",
              "    <tr style=\"text-align: right;\">\n",
              "      <th></th>\n",
              "      <th>price</th>\n",
              "      <th>avg_rating</th>\n",
              "      <th>review_count</th>\n",
              "    </tr>\n",
              "  </thead>\n",
              "  <tbody>\n",
              "    <tr>\n",
              "      <th>count</th>\n",
              "      <td>112.000000</td>\n",
              "      <td>112.000000</td>\n",
              "      <td>112.000000</td>\n",
              "    </tr>\n",
              "    <tr>\n",
              "      <th>mean</th>\n",
              "      <td>61.506250</td>\n",
              "      <td>4.794643</td>\n",
              "      <td>10.419643</td>\n",
              "    </tr>\n",
              "    <tr>\n",
              "      <th>std</th>\n",
              "      <td>39.887738</td>\n",
              "      <td>0.149979</td>\n",
              "      <td>34.193840</td>\n",
              "    </tr>\n",
              "    <tr>\n",
              "      <th>min</th>\n",
              "      <td>9.970000</td>\n",
              "      <td>3.800000</td>\n",
              "      <td>1.000000</td>\n",
              "    </tr>\n",
              "    <tr>\n",
              "      <th>25%</th>\n",
              "      <td>31.720000</td>\n",
              "      <td>4.800000</td>\n",
              "      <td>5.000000</td>\n",
              "    </tr>\n",
              "    <tr>\n",
              "      <th>50%</th>\n",
              "      <td>45.000000</td>\n",
              "      <td>4.800000</td>\n",
              "      <td>5.000000</td>\n",
              "    </tr>\n",
              "    <tr>\n",
              "      <th>75%</th>\n",
              "      <td>85.242500</td>\n",
              "      <td>4.800000</td>\n",
              "      <td>5.000000</td>\n",
              "    </tr>\n",
              "    <tr>\n",
              "      <th>max</th>\n",
              "      <td>175.000000</td>\n",
              "      <td>5.000000</td>\n",
              "      <td>316.000000</td>\n",
              "    </tr>\n",
              "  </tbody>\n",
              "</table>\n",
              "</div>\n",
              "      <button class=\"colab-df-convert\" onclick=\"convertToInteractive('df-029e7e7c-3c29-4208-b4dd-32510caf57fb')\"\n",
              "              title=\"Convert this dataframe to an interactive table.\"\n",
              "              style=\"display:none;\">\n",
              "        \n",
              "  <svg xmlns=\"http://www.w3.org/2000/svg\" height=\"24px\"viewBox=\"0 0 24 24\"\n",
              "       width=\"24px\">\n",
              "    <path d=\"M0 0h24v24H0V0z\" fill=\"none\"/>\n",
              "    <path d=\"M18.56 5.44l.94 2.06.94-2.06 2.06-.94-2.06-.94-.94-2.06-.94 2.06-2.06.94zm-11 1L8.5 8.5l.94-2.06 2.06-.94-2.06-.94L8.5 2.5l-.94 2.06-2.06.94zm10 10l.94 2.06.94-2.06 2.06-.94-2.06-.94-.94-2.06-.94 2.06-2.06.94z\"/><path d=\"M17.41 7.96l-1.37-1.37c-.4-.4-.92-.59-1.43-.59-.52 0-1.04.2-1.43.59L10.3 9.45l-7.72 7.72c-.78.78-.78 2.05 0 2.83L4 21.41c.39.39.9.59 1.41.59.51 0 1.02-.2 1.41-.59l7.78-7.78 2.81-2.81c.8-.78.8-2.07 0-2.86zM5.41 20L4 18.59l7.72-7.72 1.47 1.35L5.41 20z\"/>\n",
              "  </svg>\n",
              "      </button>\n",
              "      \n",
              "  <style>\n",
              "    .colab-df-container {\n",
              "      display:flex;\n",
              "      flex-wrap:wrap;\n",
              "      gap: 12px;\n",
              "    }\n",
              "\n",
              "    .colab-df-convert {\n",
              "      background-color: #E8F0FE;\n",
              "      border: none;\n",
              "      border-radius: 50%;\n",
              "      cursor: pointer;\n",
              "      display: none;\n",
              "      fill: #1967D2;\n",
              "      height: 32px;\n",
              "      padding: 0 0 0 0;\n",
              "      width: 32px;\n",
              "    }\n",
              "\n",
              "    .colab-df-convert:hover {\n",
              "      background-color: #E2EBFA;\n",
              "      box-shadow: 0px 1px 2px rgba(60, 64, 67, 0.3), 0px 1px 3px 1px rgba(60, 64, 67, 0.15);\n",
              "      fill: #174EA6;\n",
              "    }\n",
              "\n",
              "    [theme=dark] .colab-df-convert {\n",
              "      background-color: #3B4455;\n",
              "      fill: #D2E3FC;\n",
              "    }\n",
              "\n",
              "    [theme=dark] .colab-df-convert:hover {\n",
              "      background-color: #434B5C;\n",
              "      box-shadow: 0px 1px 3px 1px rgba(0, 0, 0, 0.15);\n",
              "      filter: drop-shadow(0px 1px 2px rgba(0, 0, 0, 0.3));\n",
              "      fill: #FFFFFF;\n",
              "    }\n",
              "  </style>\n",
              "\n",
              "      <script>\n",
              "        const buttonEl =\n",
              "          document.querySelector('#df-029e7e7c-3c29-4208-b4dd-32510caf57fb button.colab-df-convert');\n",
              "        buttonEl.style.display =\n",
              "          google.colab.kernel.accessAllowed ? 'block' : 'none';\n",
              "\n",
              "        async function convertToInteractive(key) {\n",
              "          const element = document.querySelector('#df-029e7e7c-3c29-4208-b4dd-32510caf57fb');\n",
              "          const dataTable =\n",
              "            await google.colab.kernel.invokeFunction('convertToInteractive',\n",
              "                                                     [key], {});\n",
              "          if (!dataTable) return;\n",
              "\n",
              "          const docLinkHtml = 'Like what you see? Visit the ' +\n",
              "            '<a target=\"_blank\" href=https://colab.research.google.com/notebooks/data_table.ipynb>data table notebook</a>'\n",
              "            + ' to learn more about interactive tables.';\n",
              "          element.innerHTML = '';\n",
              "          dataTable['output_type'] = 'display_data';\n",
              "          await google.colab.output.renderOutput(dataTable, element);\n",
              "          const docLink = document.createElement('div');\n",
              "          docLink.innerHTML = docLinkHtml;\n",
              "          element.appendChild(docLink);\n",
              "        }\n",
              "      </script>\n",
              "    </div>\n",
              "  </div>\n",
              "  "
            ]
          },
          "metadata": {},
          "execution_count": 22
        }
      ]
    },
    {
      "cell_type": "code",
      "source": [
        "nike['color'] = nike['color'].fillna(nike['color'].mode()[0])\n",
        "nike['availability'] = nike['availability'].fillna(nike['availability'].mode()[0])\n",
        "nike['available_sizes'] = nike['available_sizes'].fillna(nike['available_sizes'].mode()[0])"
      ],
      "metadata": {
        "id": "yc7Sx4KpMTme"
      },
      "execution_count": 23,
      "outputs": []
    },
    {
      "cell_type": "code",
      "source": [
        "# Since all the three values were categorical which is obj type we have used mode to handle null values"
      ],
      "metadata": {
        "id": "hTD9iMwQVDVR"
      },
      "execution_count": null,
      "outputs": []
    },
    {
      "cell_type": "code",
      "source": [
        "nike.describe(include='object')"
      ],
      "metadata": {
        "colab": {
          "base_uri": "https://localhost:8080/",
          "height": 175
        },
        "id": "pmft-N2zMTpg",
        "outputId": "f49c3597-9541-4d59-9549-b870d5916079"
      },
      "execution_count": 24,
      "outputs": [
        {
          "output_type": "execute_result",
          "data": {
            "text/plain": [
              "                   name    sub_title  color availability  \\\n",
              "count               112          112    112          112   \n",
              "unique               96           80     76            2   \n",
              "top     Nike Sportswear  Men's Shoes  Black      InStock   \n",
              "freq                  6            5     17           71   \n",
              "\n",
              "             available_sizes        scraped_at  \n",
              "count                    112               112  \n",
              "unique                    35                21  \n",
              "top     S | M | L | XL | 2XL  20-09-2022 23:52  \n",
              "freq                      68                12  "
            ],
            "text/html": [
              "\n",
              "  <div id=\"df-e719f471-19f9-4330-b6c7-675d529b2cea\">\n",
              "    <div class=\"colab-df-container\">\n",
              "      <div>\n",
              "<style scoped>\n",
              "    .dataframe tbody tr th:only-of-type {\n",
              "        vertical-align: middle;\n",
              "    }\n",
              "\n",
              "    .dataframe tbody tr th {\n",
              "        vertical-align: top;\n",
              "    }\n",
              "\n",
              "    .dataframe thead th {\n",
              "        text-align: right;\n",
              "    }\n",
              "</style>\n",
              "<table border=\"1\" class=\"dataframe\">\n",
              "  <thead>\n",
              "    <tr style=\"text-align: right;\">\n",
              "      <th></th>\n",
              "      <th>name</th>\n",
              "      <th>sub_title</th>\n",
              "      <th>color</th>\n",
              "      <th>availability</th>\n",
              "      <th>available_sizes</th>\n",
              "      <th>scraped_at</th>\n",
              "    </tr>\n",
              "  </thead>\n",
              "  <tbody>\n",
              "    <tr>\n",
              "      <th>count</th>\n",
              "      <td>112</td>\n",
              "      <td>112</td>\n",
              "      <td>112</td>\n",
              "      <td>112</td>\n",
              "      <td>112</td>\n",
              "      <td>112</td>\n",
              "    </tr>\n",
              "    <tr>\n",
              "      <th>unique</th>\n",
              "      <td>96</td>\n",
              "      <td>80</td>\n",
              "      <td>76</td>\n",
              "      <td>2</td>\n",
              "      <td>35</td>\n",
              "      <td>21</td>\n",
              "    </tr>\n",
              "    <tr>\n",
              "      <th>top</th>\n",
              "      <td>Nike Sportswear</td>\n",
              "      <td>Men's Shoes</td>\n",
              "      <td>Black</td>\n",
              "      <td>InStock</td>\n",
              "      <td>S | M | L | XL | 2XL</td>\n",
              "      <td>20-09-2022 23:52</td>\n",
              "    </tr>\n",
              "    <tr>\n",
              "      <th>freq</th>\n",
              "      <td>6</td>\n",
              "      <td>5</td>\n",
              "      <td>17</td>\n",
              "      <td>71</td>\n",
              "      <td>68</td>\n",
              "      <td>12</td>\n",
              "    </tr>\n",
              "  </tbody>\n",
              "</table>\n",
              "</div>\n",
              "      <button class=\"colab-df-convert\" onclick=\"convertToInteractive('df-e719f471-19f9-4330-b6c7-675d529b2cea')\"\n",
              "              title=\"Convert this dataframe to an interactive table.\"\n",
              "              style=\"display:none;\">\n",
              "        \n",
              "  <svg xmlns=\"http://www.w3.org/2000/svg\" height=\"24px\"viewBox=\"0 0 24 24\"\n",
              "       width=\"24px\">\n",
              "    <path d=\"M0 0h24v24H0V0z\" fill=\"none\"/>\n",
              "    <path d=\"M18.56 5.44l.94 2.06.94-2.06 2.06-.94-2.06-.94-.94-2.06-.94 2.06-2.06.94zm-11 1L8.5 8.5l.94-2.06 2.06-.94-2.06-.94L8.5 2.5l-.94 2.06-2.06.94zm10 10l.94 2.06.94-2.06 2.06-.94-2.06-.94-.94-2.06-.94 2.06-2.06.94z\"/><path d=\"M17.41 7.96l-1.37-1.37c-.4-.4-.92-.59-1.43-.59-.52 0-1.04.2-1.43.59L10.3 9.45l-7.72 7.72c-.78.78-.78 2.05 0 2.83L4 21.41c.39.39.9.59 1.41.59.51 0 1.02-.2 1.41-.59l7.78-7.78 2.81-2.81c.8-.78.8-2.07 0-2.86zM5.41 20L4 18.59l7.72-7.72 1.47 1.35L5.41 20z\"/>\n",
              "  </svg>\n",
              "      </button>\n",
              "      \n",
              "  <style>\n",
              "    .colab-df-container {\n",
              "      display:flex;\n",
              "      flex-wrap:wrap;\n",
              "      gap: 12px;\n",
              "    }\n",
              "\n",
              "    .colab-df-convert {\n",
              "      background-color: #E8F0FE;\n",
              "      border: none;\n",
              "      border-radius: 50%;\n",
              "      cursor: pointer;\n",
              "      display: none;\n",
              "      fill: #1967D2;\n",
              "      height: 32px;\n",
              "      padding: 0 0 0 0;\n",
              "      width: 32px;\n",
              "    }\n",
              "\n",
              "    .colab-df-convert:hover {\n",
              "      background-color: #E2EBFA;\n",
              "      box-shadow: 0px 1px 2px rgba(60, 64, 67, 0.3), 0px 1px 3px 1px rgba(60, 64, 67, 0.15);\n",
              "      fill: #174EA6;\n",
              "    }\n",
              "\n",
              "    [theme=dark] .colab-df-convert {\n",
              "      background-color: #3B4455;\n",
              "      fill: #D2E3FC;\n",
              "    }\n",
              "\n",
              "    [theme=dark] .colab-df-convert:hover {\n",
              "      background-color: #434B5C;\n",
              "      box-shadow: 0px 1px 3px 1px rgba(0, 0, 0, 0.15);\n",
              "      filter: drop-shadow(0px 1px 2px rgba(0, 0, 0, 0.3));\n",
              "      fill: #FFFFFF;\n",
              "    }\n",
              "  </style>\n",
              "\n",
              "      <script>\n",
              "        const buttonEl =\n",
              "          document.querySelector('#df-e719f471-19f9-4330-b6c7-675d529b2cea button.colab-df-convert');\n",
              "        buttonEl.style.display =\n",
              "          google.colab.kernel.accessAllowed ? 'block' : 'none';\n",
              "\n",
              "        async function convertToInteractive(key) {\n",
              "          const element = document.querySelector('#df-e719f471-19f9-4330-b6c7-675d529b2cea');\n",
              "          const dataTable =\n",
              "            await google.colab.kernel.invokeFunction('convertToInteractive',\n",
              "                                                     [key], {});\n",
              "          if (!dataTable) return;\n",
              "\n",
              "          const docLinkHtml = 'Like what you see? Visit the ' +\n",
              "            '<a target=\"_blank\" href=https://colab.research.google.com/notebooks/data_table.ipynb>data table notebook</a>'\n",
              "            + ' to learn more about interactive tables.';\n",
              "          element.innerHTML = '';\n",
              "          dataTable['output_type'] = 'display_data';\n",
              "          await google.colab.output.renderOutput(dataTable, element);\n",
              "          const docLink = document.createElement('div');\n",
              "          docLink.innerHTML = docLinkHtml;\n",
              "          element.appendChild(docLink);\n",
              "        }\n",
              "      </script>\n",
              "    </div>\n",
              "  </div>\n",
              "  "
            ]
          },
          "metadata": {},
          "execution_count": 24
        }
      ]
    },
    {
      "cell_type": "code",
      "source": [],
      "metadata": {
        "id": "lSqrFfGgOBNT"
      },
      "execution_count": null,
      "outputs": []
    },
    {
      "cell_type": "code",
      "source": [],
      "metadata": {
        "id": "Om-2qR_kLt4Q"
      },
      "execution_count": null,
      "outputs": []
    },
    {
      "cell_type": "markdown",
      "source": [
        "**Correlation**"
      ],
      "metadata": {
        "id": "tpgrDPb_LuPs"
      }
    },
    {
      "cell_type": "code",
      "source": [
        "plt.figure(figsize=(7,7))\n",
        "sns.heatmap(nike.corr(),annot=True)\n",
        "plt.show()\n",
        "nike.corr()"
      ],
      "metadata": {
        "colab": {
          "base_uri": "https://localhost:8080/",
          "height": 559
        },
        "id": "hFIrfajhMTsY",
        "outputId": "cdf81e67-cbcb-4c66-8307-abf81f711439"
      },
      "execution_count": 25,
      "outputs": [
        {
          "output_type": "display_data",
          "data": {
            "text/plain": [
              "<Figure size 504x504 with 2 Axes>"
            ],
            "image/png": "[encoded data removed]"
          },
          "metadata": {
            "needs_background": "light"
          }
        },
        {
          "output_type": "execute_result",
          "data": {
            "text/plain": [
              "                 price  avg_rating  review_count\n",
              "price         1.000000   -0.049675     -0.045953\n",
              "avg_rating   -0.049675    1.000000     -0.245673\n",
              "review_count -0.045953   -0.245673      1.000000"
            ],
            "text/html": [
              "\n",
              "  <div id=\"df-64657e29-24b1-4967-a06b-3f25e7a54800\">\n",
              "    <div class=\"colab-df-container\">\n",
              "      <div>\n",
              "<style scoped>\n",
              "    .dataframe tbody tr th:only-of-type {\n",
              "        vertical-align: middle;\n",
              "    }\n",
              "\n",
              "    .dataframe tbody tr th {\n",
              "        vertical-align: top;\n",
              "    }\n",
              "\n",
              "    .dataframe thead th {\n",
              "        text-align: right;\n",
              "    }\n",
              "</style>\n",
              "<table border=\"1\" class=\"dataframe\">\n",
              "  <thead>\n",
              "    <tr style=\"text-align: right;\">\n",
              "      <th></th>\n",
              "      <th>price</th>\n",
              "      <th>avg_rating</th>\n",
              "      <th>review_count</th>\n",
              "    </tr>\n",
              "  </thead>\n",
              "  <tbody>\n",
              "    <tr>\n",
              "      <th>price</th>\n",
              "      <td>1.000000</td>\n",
              "      <td>-0.049675</td>\n",
              "      <td>-0.045953</td>\n",
              "    </tr>\n",
              "    <tr>\n",
              "      <th>avg_rating</th>\n",
              "      <td>-0.049675</td>\n",
              "      <td>1.000000</td>\n",
              "      <td>-0.245673</td>\n",
              "    </tr>\n",
              "    <tr>\n",
              "      <th>review_count</th>\n",
              "      <td>-0.045953</td>\n",
              "      <td>-0.245673</td>\n",
              "      <td>1.000000</td>\n",
              "    </tr>\n",
              "  </tbody>\n",
              "</table>\n",
              "</div>\n",
              "      <button class=\"colab-df-convert\" onclick=\"convertToInteractive('df-64657e29-24b1-4967-a06b-3f25e7a54800')\"\n",
              "              title=\"Convert this dataframe to an interactive table.\"\n",
              "              style=\"display:none;\">\n",
              "        \n",
              "  <svg xmlns=\"http://www.w3.org/2000/svg\" height=\"24px\"viewBox=\"0 0 24 24\"\n",
              "       width=\"24px\">\n",
              "    <path d=\"M0 0h24v24H0V0z\" fill=\"none\"/>\n",
              "    <path d=\"M18.56 5.44l.94 2.06.94-2.06 2.06-.94-2.06-.94-.94-2.06-.94 2.06-2.06.94zm-11 1L8.5 8.5l.94-2.06 2.06-.94-2.06-.94L8.5 2.5l-.94 2.06-2.06.94zm10 10l.94 2.06.94-2.06 2.06-.94-2.06-.94-.94-2.06-.94 2.06-2.06.94z\"/><path d=\"M17.41 7.96l-1.37-1.37c-.4-.4-.92-.59-1.43-.59-.52 0-1.04.2-1.43.59L10.3 9.45l-7.72 7.72c-.78.78-.78 2.05 0 2.83L4 21.41c.39.39.9.59 1.41.59.51 0 1.02-.2 1.41-.59l7.78-7.78 2.81-2.81c.8-.78.8-2.07 0-2.86zM5.41 20L4 18.59l7.72-7.72 1.47 1.35L5.41 20z\"/>\n",
              "  </svg>\n",
              "      </button>\n",
              "      \n",
              "  <style>\n",
              "    .colab-df-container {\n",
              "      display:flex;\n",
              "      flex-wrap:wrap;\n",
              "      gap: 12px;\n",
              "    }\n",
              "\n",
              "    .colab-df-convert {\n",
              "      background-color: #E8F0FE;\n",
              "      border: none;\n",
              "      border-radius: 50%;\n",
              "      cursor: pointer;\n",
              "      display: none;\n",
              "      fill: #1967D2;\n",
              "      height: 32px;\n",
              "      padding: 0 0 0 0;\n",
              "      width: 32px;\n",
              "    }\n",
              "\n",
              "    .colab-df-convert:hover {\n",
              "      background-color: #E2EBFA;\n",
              "      box-shadow: 0px 1px 2px rgba(60, 64, 67, 0.3), 0px 1px 3px 1px rgba(60, 64, 67, 0.15);\n",
              "      fill: #174EA6;\n",
              "    }\n",
              "\n",
              "    [theme=dark] .colab-df-convert {\n",
              "      background-color: #3B4455;\n",
              "      fill: #D2E3FC;\n",
              "    }\n",
              "\n",
              "    [theme=dark] .colab-df-convert:hover {\n",
              "      background-color: #434B5C;\n",
              "      box-shadow: 0px 1px 3px 1px rgba(0, 0, 0, 0.15);\n",
              "      filter: drop-shadow(0px 1px 2px rgba(0, 0, 0, 0.3));\n",
              "      fill: #FFFFFF;\n",
              "    }\n",
              "  </style>\n",
              "\n",
              "      <script>\n",
              "        const buttonEl =\n",
              "          document.querySelector('#df-64657e29-24b1-4967-a06b-3f25e7a54800 button.colab-df-convert');\n",
              "        buttonEl.style.display =\n",
              "          google.colab.kernel.accessAllowed ? 'block' : 'none';\n",
              "\n",
              "        async function convertToInteractive(key) {\n",
              "          const element = document.querySelector('#df-64657e29-24b1-4967-a06b-3f25e7a54800');\n",
              "          const dataTable =\n",
              "            await google.colab.kernel.invokeFunction('convertToInteractive',\n",
              "                                                     [key], {});\n",
              "          if (!dataTable) return;\n",
              "\n",
              "          const docLinkHtml = 'Like what you see? Visit the ' +\n",
              "            '<a target=\"_blank\" href=https://colab.research.google.com/notebooks/data_table.ipynb>data table notebook</a>'\n",
              "            + ' to learn more about interactive tables.';\n",
              "          element.innerHTML = '';\n",
              "          dataTable['output_type'] = 'display_data';\n",
              "          await google.colab.output.renderOutput(dataTable, element);\n",
              "          const docLink = document.createElement('div');\n",
              "          docLink.innerHTML = docLinkHtml;\n",
              "          element.appendChild(docLink);\n",
              "        }\n",
              "      </script>\n",
              "    </div>\n",
              "  </div>\n",
              "  "
            ]
          },
          "metadata": {},
          "execution_count": 25
        }
      ]
    },
    {
      "cell_type": "code",
      "source": [
        "#Through the correlation chart we could easily identify that all the values are negatively correlated.Thus, have no correlation "
      ],
      "metadata": {
        "id": "higyI67cVQLH"
      },
      "execution_count": null,
      "outputs": []
    },
    {
      "cell_type": "code",
      "source": [],
      "metadata": {
        "id": "kivZysRIVsno"
      },
      "execution_count": null,
      "outputs": []
    },
    {
      "cell_type": "markdown",
      "source": [
        "**Visualization**"
      ],
      "metadata": {
        "id": "Wqx7hH1PVuAL"
      }
    },
    {
      "cell_type": "code",
      "source": [
        "plt.axvline(nike['price'].mean(), 0,1, color = 'yellow')\n",
        "sns.distplot(nike['price'], color='green',bins = 5, kde = True)"
      ],
      "metadata": {
        "colab": {
          "base_uri": "https://localhost:8080/",
          "height": 297
        },
        "id": "wqHq45iEMTvi",
        "outputId": "5947d2b5-4216-47bb-bd2b-c3b4230cd0aa"
      },
      "execution_count": 26,
      "outputs": [
        {
          "output_type": "execute_result",
          "data": {
            "text/plain": [
              "<matplotlib.axes._subplots.AxesSubplot at 0x7f66d3cdf9d0>"
            ]
          },
          "metadata": {},
          "execution_count": 26
        },
        {
          "output_type": "display_data",
          "data": {
            "text/plain": [
              "<Figure size 432x288 with 1 Axes>"
            ],
            "image/png": "[encoded data removed]"
          },
          "metadata": {
            "needs_background": "light"
          }
        }
      ]
    },
    {
      "cell_type": "code",
      "source": [
        "plt.axvline(nike['avg_rating'].mean(), 0,1, color = 'yellow')\n",
        "sns.distplot(nike['avg_rating'], color='green',bins = 5, kde = True)"
      ],
      "metadata": {
        "colab": {
          "base_uri": "https://localhost:8080/",
          "height": 298
        },
        "id": "DsAVcPRcMTzD",
        "outputId": "52ffb5be-ab3c-4e97-d64f-b75325bba79d"
      },
      "execution_count": 27,
      "outputs": [
        {
          "output_type": "execute_result",
          "data": {
            "text/plain": [
              "<matplotlib.axes._subplots.AxesSubplot at 0x7f66d3c79690>"
            ]
          },
          "metadata": {},
          "execution_count": 27
        },
        {
          "output_type": "display_data",
          "data": {
            "text/plain": [
              "<Figure size 432x288 with 1 Axes>"
            ],
            "image/png": "[encoded data removed]"
          },
          "metadata": {
            "needs_background": "light"
          }
        }
      ]
    },
    {
      "cell_type": "code",
      "source": [
        "px.scatter(nike,x=\"avg_rating\", y=\"price\", size=\"review_count\", color=\"review_count\",hover_name=\"name\",log_x=True, \n",
        "                 size_max=100)"
      ],
      "metadata": {
        "colab": {
          "base_uri": "https://localhost:8080/",
          "height": 542
        },
        "id": "0k-IwP1hMUH5",
        "outputId": "8e651d2e-df8d-42c4-ae3c-dcb79066005c"
      },
      "execution_count": 28,
      "outputs": [
        {
          "output_type": "display_data",
          "data": {
            "text/html": [
              "<html>\n",
              "<head><meta charset=\"utf-8\" /></head>\n",
              "<body>\n",
              "    <div>            <script src=\"https://cdnjs.cloudflare.com/ajax/libs/mathjax/2.7.5/MathJax.js?config=TeX-AMS-MML_SVG\"></script><script type=\"text/javascript\">if (window.MathJax) {MathJax.Hub.Config({SVG: {font: \"STIX-Web\"}});}</script>                <script type=\"text/javascript\">window.PlotlyConfig = {MathJaxConfig: 'local'};</script>\n",
              "        <script src=\"https://cdn.plot.ly/plotly-2.8.3.min.js\"></script>                <div id=\"52559e79-8bf3-4465-b219-21cfb35255fb\" class=\"plotly-graph-div\" style=\"height:525px; width:100%;\"></div>            <script type=\"text/javascript\">                                    window.PLOTLYENV=window.PLOTLYENV || {};                                    if (document.getElementById(\"52559e79-8bf3-4465-b219-21cfb35255fb\")) {                    Plotly.newPlot(                        \"52559e79-8bf3-4465-b219-21cfb35255fb\",                        [{\"hovertemplate\":\"<b>%{hovertext}</b><br><br>avg_rating=%{x}<br>price=%{y}<br>review_count=%{marker.color}<extra></extra>\",\"hovertext\":[\"Nike Dri-FIT Team (MLB Minnesota Twins)\",\"Club Am\\u00e9rica\",\"Nike Sportswear Swoosh\",\"Nike Dri-FIT One Luxe\",\"Paris Saint-Germain Repel Academy AWF\",\"NFL Miami Dolphins (Mike Gesicki)\",\"Kristaps Porzi\\u0146\\u0123is Knicks Icon Edition\",\"Nike College (Oregon)\",\"Nike Sportswear\",\"Nike Therma Crucial Catch (NFL Miami Dolphins)\",\"Nike Sportswear Tech Fleece\",\"Paris Saint-Germain Strike\",\"Croatia 2022/23 Stadium Away\",\"Nike Therma Lockup (NFL Kansas City Chiefs)\",\"Nike Dri-FIT Primetime Logo (MLB San Francisco Giants)\",\"Nike City Connect Wordmark (MLB Kansas City Royals)\",\"Nike College Therma (Michigan State)\",\"Portugal 2022/23 Stadium Home\",\"Nike College Legacy91 (UNC)\",\"Nike Rewind Playback Helmet (NFL Tennessee Titans)\",\"Denver Nuggets Nike x Filip Pagowski\",\"Hurley Palmdale\",\"NFL Minnesota Vikings Nike Vapor Untouchable (Randy Moss)\",\"Air Jordan 1 Zoom CMFT\",\"Nike Air Pegasus 83 Premium\",\"Nike College (Alabama)\",\"Nike\",\"Nike Fury\",\"Nike Myriad\",\"Nike Dri-FIT Crucial Catch (NFL Buffalo Bills)\",\"Nike Air Force 1 LV8 Utility\",\"Chelsea FC Strike\",\"MLB Boston Red Sox\",\"MLB Arizona Diamondbacks City Connect\",\"Nike College Max 90 (Gonzaga)\",\"Nike Dri-FIT\",\"Nike Therma Crucial Catch (NFL Atlanta Falcons)\",\"Zion 2\",\"Jordan\",\"Nike Dri-FIT Sideline Velocity Lockup (NFL Buffalo Bills)\",\"Jordan\",\"Nike Air Max 90 SE\",\"Nike Dri-FIT Athletic Arch Jersey (NFL Pittsburgh Steelers)\",\"Sylvia Fowles Lynx Explorer Edition\",\"Nike Air\",\"Paris-Saint Germain 2021/22 Stadium Third\",\"Nike Dri-FIT City Connect Striped (MLB San Francisco Giants)\",\"Nike Team (NFL Buffalo Bills)\",\"Nike Pro\",\"Nike SFB Gen 2 8\\u201d\",\"Nike Air Force 1 '07 LV8\",\"Nike\",\"Nike Heritage86 (MLB Yankees)\",\"Nike Essential\",\"Nike\",\"Heat Heritage86\",\"Nike 8-Pound \",\"Club Am\\u00e9rica\",\"Nike Sportswear\",\"Nike College (Georgia)\",\"Charlotte Hornets\",\"Nike College (Tennessee)\",\"Nike Court Naomi Osaka Collection\",\"Nike College Dri-FIT Coach (Duke)\",\"Nike Overview (MLB Philadelphia Phillies)\",\"Nike\",\"Nike Dri-FIT Performance Select\",\"Air Jordan 1 Low SE\",\"Air Jordan XXXVI Low Luka PF\",\"Nike\",\"Nike Offline Pack\",\"Nike Dri-FIT Sideline Velocity Lockup (NFL Green Bay Packers)\",\"Philadelphia 76ers\",\"Nike Sportswear\",\"Team 31\",\"Nike Dri-FIT (NFL San Francisco 49ers)\",\"Nike Therma City Connect (MLB Boston Red Sox)\",\"Nike Brasilia\",\"Chelsea FC Repel Academy AWF\",\"MLB Boston Red Sox (Andrew Benintendi)\",\"Nike Dri-FIT\",\"Jordan France\",\"Nike Sportswear\",\"Nike Dri-FIT Stretch (NFL Chicago Bears)\",\"Nike Sportswear Club\",\"Nike Dri-FIT (NFL Los Angeles Chargers)\",\"Nike Dri-FIT\",\"Air Jordan Legacy 312 Low\",\"Nike Sportswear\",\"Nike Dri-FIT Player\",\"Nike Dri-FIT Swoosh\",\"Nike Dri-FIT Infograph (NFL Buffalo Bills)\",\"U.S. Academy Pro\",\"Nike Air Deschutz+ SE\",\"Nike Dri-FIT\",\"Sacramento Kings Icon Edition\",\"MLB Houston Astros\",\"Nike ACG AW84\",\"Nike College Heritage86 (Texas)\",\"New York Knicks\",\"Paris Saint-Germain 2022/23 Stadium Home\",\"Nike College Dri-FIT (Michigan State)\",\"Nike Dri-FIT Crucial Catch (NFL Tampa Bay Buccaneers)\",\"Nike Zoned Support\",\"Nike\",\"Nike Dri-FIT Vapor\",\"Nike Sportswear\",\"Air Jordan XXXV Low DS PF\",\"Nike College Dri-FIT (UCLA)\",\"Jordan\",\"NFL Los Angeles Rams Nike Vapor Untouchable (Matthew Stafford)\",\"Nike Team First (MLB Houston Astros)\"],\"legendgroup\":\"\",\"marker\":{\"color\":[5.0,1.0,11.0,5.0,5.0,5.0,3.0,5.0,1.0,5.0,5.0,5.0,5.0,5.0,5.0,5.0,5.0,5.0,5.0,5.0,1.0,5.0,5.0,120.0,5.0,5.0,5.0,5.0,1.0,5.0,5.0,5.0,5.0,5.0,5.0,1.0,5.0,3.0,5.0,5.0,5.0,31.0,5.0,5.0,5.0,5.0,5.0,5.0,152.0,28.0,5.0,1.0,5.0,316.0,5.0,5.0,1.0,5.0,5.0,5.0,5.0,5.0,5.0,5.0,5.0,5.0,5.0,5.0,5.0,5.0,5.0,5.0,5.0,5.0,5.0,5.0,5.0,5.0,5.0,5.0,5.0,5.0,5.0,5.0,5.0,5.0,5.0,5.0,5.0,5.0,5.0,5.0,5.0,5.0,6.0,5.0,5.0,1.0,5.0,5.0,5.0,5.0,5.0,11.0,15.0,5.0,3.0,5.0,5.0,5.0,5.0,5.0],\"coloraxis\":\"coloraxis\",\"size\":[5.0,1.0,11.0,5.0,5.0,5.0,3.0,5.0,1.0,5.0,5.0,5.0,5.0,5.0,5.0,5.0,5.0,5.0,5.0,5.0,1.0,5.0,5.0,120.0,5.0,5.0,5.0,5.0,1.0,5.0,5.0,5.0,5.0,5.0,5.0,1.0,5.0,3.0,5.0,5.0,5.0,31.0,5.0,5.0,5.0,5.0,5.0,5.0,152.0,28.0,5.0,1.0,5.0,316.0,5.0,5.0,1.0,5.0,5.0,5.0,5.0,5.0,5.0,5.0,5.0,5.0,5.0,5.0,5.0,5.0,5.0,5.0,5.0,5.0,5.0,5.0,5.0,5.0,5.0,5.0,5.0,5.0,5.0,5.0,5.0,5.0,5.0,5.0,5.0,5.0,5.0,5.0,5.0,5.0,6.0,5.0,5.0,1.0,5.0,5.0,5.0,5.0,5.0,11.0,15.0,5.0,3.0,5.0,5.0,5.0,5.0,5.0],\"sizemode\":\"area\",\"sizeref\":0.0316,\"symbol\":\"circle\"},\"mode\":\"markers\",\"name\":\"\",\"orientation\":\"v\",\"showlegend\":false,\"x\":[4.8,5.0,4.9,4.8,4.8,4.8,5.0,4.8,5.0,4.8,4.8,4.8,4.8,4.8,4.8,4.8,4.8,4.8,4.8,4.8,5.0,4.8,4.8,4.8,4.8,4.8,4.8,4.8,5.0,4.8,4.8,4.8,4.8,4.8,4.8,5.0,4.8,4.7,4.8,4.8,4.8,4.8,4.8,4.8,4.8,4.8,4.8,4.8,4.3,3.8,4.8,5.0,4.8,4.7,4.8,4.8,5.0,4.8,4.8,4.8,4.8,4.8,4.8,4.8,4.8,4.8,4.8,4.8,4.8,4.8,4.8,4.8,4.8,4.8,4.8,4.8,4.8,4.8,4.8,4.8,4.8,4.8,4.8,4.8,4.8,4.8,4.8,4.8,4.8,4.8,4.8,4.8,4.8,4.8,4.7,4.8,4.8,5.0,4.8,4.8,4.8,4.8,4.8,4.8,3.9,4.8,5.0,4.8,4.8,4.8,4.8,4.8],\"xaxis\":\"x\",\"y\":[40.0,90.0,140.0,22.97,70.0,130.0,104.99,18.97,28.97,85.0,45.97,45.0,95.0,95.0,45.0,30.0,40.97,52.0,21.97,55.0,21.97,40.0,160.0,150.0,89.97,18.97,18.0,13.97,69.97,85.0,76.97,90.0,115.0,135.0,26.97,36.0,85.0,119.97,33.97,40.0,34.97,119.97,100.0,100.0,34.97,75.0,65.0,35.0,24.97,140.0,130.0,36.97,21.97,12.0,15.97,30.0,26.97,78.97,38.97,35.0,35.0,24.97,30.97,45.0,110.0,12.97,58.0,95.0,175.0,9.97,92.97,40.0,48.0,53.97,35.0,65.0,80.0,50.0,75.0,135.0,15.97,60.0,31.97,45.0,63.97,40.0,28.0,85.97,34.97,76.97,30.0,40.0,30.0,85.0,36.97,80.0,115.0,28.0,22.97,28.0,90.0,37.97,40.0,45.0,10.97,55.97,32.97,165.0,50.0,75.0,160.0,35.0],\"yaxis\":\"y\",\"type\":\"scatter\"}],                        {\"template\":{\"data\":{\"bar\":[{\"error_x\":{\"color\":\"#2a3f5f\"},\"error_y\":{\"color\":\"#2a3f5f\"},\"marker\":{\"line\":{\"color\":\"#E5ECF6\",\"width\":0.5},\"pattern\":{\"fillmode\":\"overlay\",\"size\":10,\"solidity\":0.2}},\"type\":\"bar\"}],\"barpolar\":[{\"marker\":{\"line\":{\"color\":\"#E5ECF6\",\"width\":0.5},\"pattern\":{\"fillmode\":\"overlay\",\"size\":10,\"solidity\":0.2}},\"type\":\"barpolar\"}],\"carpet\":[{\"aaxis\":{\"endlinecolor\":\"#2a3f5f\",\"gridcolor\":\"white\",\"linecolor\":\"white\",\"minorgridcolor\":\"white\",\"startlinecolor\":\"#2a3f5f\"},\"baxis\":{\"endlinecolor\":\"#2a3f5f\",\"gridcolor\":\"white\",\"linecolor\":\"white\",\"minorgridcolor\":\"white\",\"startlinecolor\":\"#2a3f5f\"},\"type\":\"carpet\"}],\"choropleth\":[{\"colorbar\":{\"outlinewidth\":0,\"ticks\":\"\"},\"type\":\"choropleth\"}],\"contour\":[{\"colorbar\":{\"outlinewidth\":0,\"ticks\":\"\"},\"colorscale\":[[0.0,\"#0d0887\"],[0.1111111111111111,\"#46039f\"],[0.2222222222222222,\"#7201a8\"],[0.3333333333333333,\"#9c179e\"],[0.4444444444444444,\"#bd3786\"],[0.5555555555555556,\"#d8576b\"],[0.6666666666666666,\"#ed7953\"],[0.7777777777777778,\"#fb9f3a\"],[0.8888888888888888,\"#fdca26\"],[1.0,\"#f0f921\"]],\"type\":\"contour\"}],\"contourcarpet\":[{\"colorbar\":{\"outlinewidth\":0,\"ticks\":\"\"},\"type\":\"contourcarpet\"}],\"heatmap\":[{\"colorbar\":{\"outlinewidth\":0,\"ticks\":\"\"},\"colorscale\":[[0.0,\"#0d0887\"],[0.1111111111111111,\"#46039f\"],[0.2222222222222222,\"#7201a8\"],[0.3333333333333333,\"#9c179e\"],[0.4444444444444444,\"#bd3786\"],[0.5555555555555556,\"#d8576b\"],[0.6666666666666666,\"#ed7953\"],[0.7777777777777778,\"#fb9f3a\"],[0.8888888888888888,\"#fdca26\"],[1.0,\"#f0f921\"]],\"type\":\"heatmap\"}],\"heatmapgl\":[{\"colorbar\":{\"outlinewidth\":0,\"ticks\":\"\"},\"colorscale\":[[0.0,\"#0d0887\"],[0.1111111111111111,\"#46039f\"],[0.2222222222222222,\"#7201a8\"],[0.3333333333333333,\"#9c179e\"],[0.4444444444444444,\"#bd3786\"],[0.5555555555555556,\"#d8576b\"],[0.6666666666666666,\"#ed7953\"],[0.7777777777777778,\"#fb9f3a\"],[0.8888888888888888,\"#fdca26\"],[1.0,\"#f0f921\"]],\"type\":\"heatmapgl\"}],\"histogram\":[{\"marker\":{\"pattern\":{\"fillmode\":\"overlay\",\"size\":10,\"solidity\":0.2}},\"type\":\"histogram\"}],\"histogram2d\":[{\"colorbar\":{\"outlinewidth\":0,\"ticks\":\"\"},\"colorscale\":[[0.0,\"#0d0887\"],[0.1111111111111111,\"#46039f\"],[0.2222222222222222,\"#7201a8\"],[0.3333333333333333,\"#9c179e\"],[0.4444444444444444,\"#bd3786\"],[0.5555555555555556,\"#d8576b\"],[0.6666666666666666,\"#ed7953\"],[0.7777777777777778,\"#fb9f3a\"],[0.8888888888888888,\"#fdca26\"],[1.0,\"#f0f921\"]],\"type\":\"histogram2d\"}],\"histogram2dcontour\":[{\"colorbar\":{\"outlinewidth\":0,\"ticks\":\"\"},\"colorscale\":[[0.0,\"#0d0887\"],[0.1111111111111111,\"#46039f\"],[0.2222222222222222,\"#7201a8\"],[0.3333333333333333,\"#9c179e\"],[0.4444444444444444,\"#bd3786\"],[0.5555555555555556,\"#d8576b\"],[0.6666666666666666,\"#ed7953\"],[0.7777777777777778,\"#fb9f3a\"],[0.8888888888888888,\"#fdca26\"],[1.0,\"#f0f921\"]],\"type\":\"histogram2dcontour\"}],\"mesh3d\":[{\"colorbar\":{\"outlinewidth\":0,\"ticks\":\"\"},\"type\":\"mesh3d\"}],\"parcoords\":[{\"line\":{\"colorbar\":{\"outlinewidth\":0,\"ticks\":\"\"}},\"type\":\"parcoords\"}],\"pie\":[{\"automargin\":true,\"type\":\"pie\"}],\"scatter\":[{\"marker\":{\"colorbar\":{\"outlinewidth\":0,\"ticks\":\"\"}},\"type\":\"scatter\"}],\"scatter3d\":[{\"line\":{\"colorbar\":{\"outlinewidth\":0,\"ticks\":\"\"}},\"marker\":{\"colorbar\":{\"outlinewidth\":0,\"ticks\":\"\"}},\"type\":\"scatter3d\"}],\"scattercarpet\":[{\"marker\":{\"colorbar\":{\"outlinewidth\":0,\"ticks\":\"\"}},\"type\":\"scattercarpet\"}],\"scattergeo\":[{\"marker\":{\"colorbar\":{\"outlinewidth\":0,\"ticks\":\"\"}},\"type\":\"scattergeo\"}],\"scattergl\":[{\"marker\":{\"colorbar\":{\"outlinewidth\":0,\"ticks\":\"\"}},\"type\":\"scattergl\"}],\"scattermapbox\":[{\"marker\":{\"colorbar\":{\"outlinewidth\":0,\"ticks\":\"\"}},\"type\":\"scattermapbox\"}],\"scatterpolar\":[{\"marker\":{\"colorbar\":{\"outlinewidth\":0,\"ticks\":\"\"}},\"type\":\"scatterpolar\"}],\"scatterpolargl\":[{\"marker\":{\"colorbar\":{\"outlinewidth\":0,\"ticks\":\"\"}},\"type\":\"scatterpolargl\"}],\"scatterternary\":[{\"marker\":{\"colorbar\":{\"outlinewidth\":0,\"ticks\":\"\"}},\"type\":\"scatterternary\"}],\"surface\":[{\"colorbar\":{\"outlinewidth\":0,\"ticks\":\"\"},\"colorscale\":[[0.0,\"#0d0887\"],[0.1111111111111111,\"#46039f\"],[0.2222222222222222,\"#7201a8\"],[0.3333333333333333,\"#9c179e\"],[0.4444444444444444,\"#bd3786\"],[0.5555555555555556,\"#d8576b\"],[0.6666666666666666,\"#ed7953\"],[0.7777777777777778,\"#fb9f3a\"],[0.8888888888888888,\"#fdca26\"],[1.0,\"#f0f921\"]],\"type\":\"surface\"}],\"table\":[{\"cells\":{\"fill\":{\"color\":\"#EBF0F8\"},\"line\":{\"color\":\"white\"}},\"header\":{\"fill\":{\"color\":\"#C8D4E3\"},\"line\":{\"color\":\"white\"}},\"type\":\"table\"}]},\"layout\":{\"annotationdefaults\":{\"arrowcolor\":\"#2a3f5f\",\"arrowhead\":0,\"arrowwidth\":1},\"autotypenumbers\":\"strict\",\"coloraxis\":{\"colorbar\":{\"outlinewidth\":0,\"ticks\":\"\"}},\"colorscale\":{\"diverging\":[[0,\"#8e0152\"],[0.1,\"#c51b7d\"],[0.2,\"#de77ae\"],[0.3,\"#f1b6da\"],[0.4,\"#fde0ef\"],[0.5,\"#f7f7f7\"],[0.6,\"#e6f5d0\"],[0.7,\"#b8e186\"],[0.8,\"#7fbc41\"],[0.9,\"#4d9221\"],[1,\"#276419\"]],\"sequential\":[[0.0,\"#0d0887\"],[0.1111111111111111,\"#46039f\"],[0.2222222222222222,\"#7201a8\"],[0.3333333333333333,\"#9c179e\"],[0.4444444444444444,\"#bd3786\"],[0.5555555555555556,\"#d8576b\"],[0.6666666666666666,\"#ed7953\"],[0.7777777777777778,\"#fb9f3a\"],[0.8888888888888888,\"#fdca26\"],[1.0,\"#f0f921\"]],\"sequentialminus\":[[0.0,\"#0d0887\"],[0.1111111111111111,\"#46039f\"],[0.2222222222222222,\"#7201a8\"],[0.3333333333333333,\"#9c179e\"],[0.4444444444444444,\"#bd3786\"],[0.5555555555555556,\"#d8576b\"],[0.6666666666666666,\"#ed7953\"],[0.7777777777777778,\"#fb9f3a\"],[0.8888888888888888,\"#fdca26\"],[1.0,\"#f0f921\"]]},\"colorway\":[\"#636efa\",\"#EF553B\",\"#00cc96\",\"#ab63fa\",\"#FFA15A\",\"#19d3f3\",\"#FF6692\",\"#B6E880\",\"#FF97FF\",\"#FECB52\"],\"font\":{\"color\":\"#2a3f5f\"},\"geo\":{\"bgcolor\":\"white\",\"lakecolor\":\"white\",\"landcolor\":\"#E5ECF6\",\"showlakes\":true,\"showland\":true,\"subunitcolor\":\"white\"},\"hoverlabel\":{\"align\":\"left\"},\"hovermode\":\"closest\",\"mapbox\":{\"style\":\"light\"},\"paper_bgcolor\":\"white\",\"plot_bgcolor\":\"#E5ECF6\",\"polar\":{\"angularaxis\":{\"gridcolor\":\"white\",\"linecolor\":\"white\",\"ticks\":\"\"},\"bgcolor\":\"#E5ECF6\",\"radialaxis\":{\"gridcolor\":\"white\",\"linecolor\":\"white\",\"ticks\":\"\"}},\"scene\":{\"xaxis\":{\"backgroundcolor\":\"#E5ECF6\",\"gridcolor\":\"white\",\"gridwidth\":2,\"linecolor\":\"white\",\"showbackground\":true,\"ticks\":\"\",\"zerolinecolor\":\"white\"},\"yaxis\":{\"backgroundcolor\":\"#E5ECF6\",\"gridcolor\":\"white\",\"gridwidth\":2,\"linecolor\":\"white\",\"showbackground\":true,\"ticks\":\"\",\"zerolinecolor\":\"white\"},\"zaxis\":{\"backgroundcolor\":\"#E5ECF6\",\"gridcolor\":\"white\",\"gridwidth\":2,\"linecolor\":\"white\",\"showbackground\":true,\"ticks\":\"\",\"zerolinecolor\":\"white\"}},\"shapedefaults\":{\"line\":{\"color\":\"#2a3f5f\"}},\"ternary\":{\"aaxis\":{\"gridcolor\":\"white\",\"linecolor\":\"white\",\"ticks\":\"\"},\"baxis\":{\"gridcolor\":\"white\",\"linecolor\":\"white\",\"ticks\":\"\"},\"bgcolor\":\"#E5ECF6\",\"caxis\":{\"gridcolor\":\"white\",\"linecolor\":\"white\",\"ticks\":\"\"}},\"title\":{\"x\":0.05},\"xaxis\":{\"automargin\":true,\"gridcolor\":\"white\",\"linecolor\":\"white\",\"ticks\":\"\",\"title\":{\"standoff\":15},\"zerolinecolor\":\"white\",\"zerolinewidth\":2},\"yaxis\":{\"automargin\":true,\"gridcolor\":\"white\",\"linecolor\":\"white\",\"ticks\":\"\",\"title\":{\"standoff\":15},\"zerolinecolor\":\"white\",\"zerolinewidth\":2}}},\"xaxis\":{\"anchor\":\"y\",\"domain\":[0.0,1.0],\"title\":{\"text\":\"avg_rating\"},\"type\":\"log\"},\"yaxis\":{\"anchor\":\"x\",\"domain\":[0.0,1.0],\"title\":{\"text\":\"price\"}},\"coloraxis\":{\"colorbar\":{\"title\":{\"text\":\"review_count\"}},\"colorscale\":[[0.0,\"#0d0887\"],[0.1111111111111111,\"#46039f\"],[0.2222222222222222,\"#7201a8\"],[0.3333333333333333,\"#9c179e\"],[0.4444444444444444,\"#bd3786\"],[0.5555555555555556,\"#d8576b\"],[0.6666666666666666,\"#ed7953\"],[0.7777777777777778,\"#fb9f3a\"],[0.8888888888888888,\"#fdca26\"],[1.0,\"#f0f921\"]]},\"legend\":{\"tracegroupgap\":0,\"itemsizing\":\"constant\"},\"margin\":{\"t\":60}},                        {\"responsive\": true}                    ).then(function(){\n",
              "                            \n",
              "var gd = document.getElementById('52559e79-8bf3-4465-b219-21cfb35255fb');\n",
              "var x = new MutationObserver(function (mutations, observer) {{\n",
              "        var display = window.getComputedStyle(gd).display;\n",
              "        if (!display || display === 'none') {{\n",
              "            console.log([gd, 'removed!']);\n",
              "            Plotly.purge(gd);\n",
              "            observer.disconnect();\n",
              "        }}\n",
              "}});\n",
              "\n",
              "// Listen for the removal of the full notebook cells\n",
              "var notebookContainer = gd.closest('#notebook-container');\n",
              "if (notebookContainer) {{\n",
              "    x.observe(notebookContainer, {childList: true});\n",
              "}}\n",
              "\n",
              "// Listen for the clearing of the current output cell\n",
              "var outputEl = gd.closest('.output');\n",
              "if (outputEl) {{\n",
              "    x.observe(outputEl, {childList: true});\n",
              "}}\n",
              "\n",
              "                        })                };                            </script>        </div>\n",
              "</body>\n",
              "</html>"
            ]
          },
          "metadata": {}
        }
      ]
    },
    {
      "cell_type": "code",
      "source": [
        "sns.countplot(nike['availability'],palette='husl')"
      ],
      "metadata": {
        "colab": {
          "base_uri": "https://localhost:8080/",
          "height": 297
        },
        "id": "yz2vnzkPOMPQ",
        "outputId": "f9b46105-9a7b-43fd-fec4-2b9c54d21b3f"
      },
      "execution_count": 29,
      "outputs": [
        {
          "output_type": "execute_result",
          "data": {
            "text/plain": [
              "<matplotlib.axes._subplots.AxesSubplot at 0x7f66d3055410>"
            ]
          },
          "metadata": {},
          "execution_count": 29
        },
        {
          "output_type": "display_data",
          "data": {
            "text/plain": [
              "<Figure size 432x288 with 1 Axes>"
            ],
            "image/png": "[encoded data removed]"
          },
          "metadata": {
            "needs_background": "light"
          }
        }
      ]
    },
    {
      "cell_type": "code",
      "source": [
        "try:\n",
        "  name= nike['name'].value_counts()[:5]\n",
        "  plt.figure(figsize=(20,7))\n",
        "  ax = sns.barplot(x=list(name.keys()),y=list(name.values),palette='Blues')\n",
        "  for container in ax.containers:\n",
        "    ax.bar_label(container)\n",
        "\n",
        "except AttributeError:\n",
        "  print('AttributeError Spotted')\n",
        "\n",
        "finally:\n",
        "  print('Top 5 Nike Names')"
      ],
      "metadata": {
        "colab": {
          "base_uri": "https://localhost:8080/",
          "height": 464
        },
        "id": "lulswrceOMSE",
        "outputId": "e8caf335-d276-44cc-cf6f-5703b997e432"
      },
      "execution_count": 41,
      "outputs": [
        {
          "output_type": "stream",
          "name": "stdout",
          "text": [
            "AttributeError Spotted\n",
            "Top 5 Nike Names\n"
          ]
        },
        {
          "output_type": "display_data",
          "data": {
            "text/plain": [
              "<Figure size 1440x504 with 1 Axes>"
            ],
            "image/png": "[encoded data removed]"
          },
          "metadata": {
            "needs_background": "light"
          }
        }
      ]
    },
    {
      "cell_type": "code",
      "source": [
        "try:\n",
        "  color = nike['color'].value_counts()[:5]\n",
        "  plt.figure(figsize=(20,7))\n",
        "  ax = sns.barplot(x=list(color.keys()),y=list(color.values),palette='Greens')\n",
        "  for container in ax.containers:\n",
        "    ax.bar_label(container)\n",
        "\n",
        "except AttributeError:\n",
        "  print('AttributeError Spotted')\n",
        "\n",
        "finally:\n",
        "  print('Top 5 Nike Colors')"
      ],
      "metadata": {
        "colab": {
          "base_uri": "https://localhost:8080/",
          "height": 464
        },
        "id": "loWdJf-0OMVF",
        "outputId": "b8d8f301-2fec-4e73-b9f1-fbbb4695ec31"
      },
      "execution_count": 40,
      "outputs": [
        {
          "output_type": "stream",
          "name": "stdout",
          "text": [
            "AttributeError Spotted\n",
            "Top 5 Nike Colors\n"
          ]
        },
        {
          "output_type": "display_data",
          "data": {
            "text/plain": [
              "<Figure size 1440x504 with 1 Axes>"
            ],
            "image/png": "[encoded data removed]"
          },
          "metadata": {
            "needs_background": "light"
          }
        }
      ]
    },
    {
      "cell_type": "code",
      "source": [
        "try:\n",
        "  available = nike['available_sizes'].value_counts()[:5]\n",
        "  plt.figure(figsize=(20,7))\n",
        "  ax = sns.barplot(x=list(available.keys()),y=list(available.values),palette='Reds')\n",
        "  for container in ax.containers:\n",
        "    ax.bar_label(container)\n",
        "\n",
        "except AttributeError:\n",
        "  print('AttributeError Spotted')\n",
        "\n",
        "finally:\n",
        "  print('Top 5 Available Sizes')"
      ],
      "metadata": {
        "colab": {
          "base_uri": "https://localhost:8080/",
          "height": 465
        },
        "id": "wXkwA6zGOMYn",
        "outputId": "66ed9963-94ab-4ae8-93a2-9fbab5f5d2af"
      },
      "execution_count": 39,
      "outputs": [
        {
          "output_type": "stream",
          "name": "stdout",
          "text": [
            "AttributeError Spotted\n",
            "Top 5 Available Sizes\n"
          ]
        },
        {
          "output_type": "display_data",
          "data": {
            "text/plain": [
              "<Figure size 1440x504 with 1 Axes>"
            ],
            "image/png": "[encoded data removed]"
          },
          "metadata": {
            "needs_background": "light"
          }
        }
      ]
    },
    {
      "cell_type": "code",
      "source": [],
      "metadata": {
        "id": "jrL70_uUOMlz"
      },
      "execution_count": null,
      "outputs": []
    },
    {
      "cell_type": "markdown",
      "source": [
        "**Analysis**\n",
        "\n",
        "> Most feasible price was around 40-50 USD\n",
        "\n",
        "> Average rating of Nike was of 4.5\n",
        "\n",
        "> Avg rating of 4.8 has recieved numerous review count of 5 within various price range\n",
        "\n",
        "> Maimum review count at avg rate 4.8 is of 120 which is Air Jordan 1 Zoom CMFT of price 150 USD\n",
        "\n",
        "> Nike Essentials within the price range of 12 USD has the avg rating of 4.7 and contains heighest review count of 316\n",
        "\n",
        "> Top 5 Purchase from Nike has been of Nike spotswear being the heighest followed by Nike, Nike dri FIT, Jordan and Club America\n",
        "\n",
        "> Top 5 Colors in purchase was of Black being the heighest followed by White, Navy, Black/white and Multicolor\n",
        "\n",
        "> Size which is most available is S|M|L|XL|2XL\n",
        "\n",
        "\n",
        "\n",
        "\n",
        "\n",
        "\n",
        "\n",
        "\n",
        "\n",
        "\n",
        "\n",
        "\n",
        "\n",
        "\n",
        "\n"
      ],
      "metadata": {
        "id": "vbq30ykYV9QQ"
      }
    }
  ]
}