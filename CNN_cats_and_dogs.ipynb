{
  "nbformat": 4,
  "nbformat_minor": 0,
  "metadata": {
    "colab": {
      "name": "CNN.cats and dogs.ipynb",
      "provenance": [],
      "collapsed_sections": [],
      "authorship_tag": "ABX9TyMRmRPIqYz39ZSKZ8UPX+qp",
      "include_colab_link": true
    },
    "kernelspec": {
      "name": "python3",
      "display_name": "Python 3"
    },
    "language_info": {
      "name": "python"
    },
    "accelerator": "GPU",
    "gpuClass": "standard"
  },
  "cells": [
    {
      "cell_type": "markdown",
      "metadata": {
        "id": "view-in-github",
        "colab_type": "text"
      },
      "source": [
        "<a href=\"https://colab.research.google.com/github/pranamyasin/projects/blob/main/CNN_cats_and_dogs.ipynb\" target=\"_parent\"><img src=\"https://colab.research.google.com/assets/colab-badge.svg\" alt=\"Open In Colab\"/></a>"
      ]
    },
    {
      "cell_type": "code",
      "execution_count": null,
      "metadata": {
        "id": "RZ8rYScbFt2W"
      },
      "outputs": [],
      "source": [
        "import tensorflow as tf\n",
        "import os"
      ]
    },
    {
      "cell_type": "code",
      "source": [
        "url='http://storage.googleapis.com/mledu-datasets/cats_and_dogs_filtered.zip'\n",
        "zip_dir= tf.keras.utils.get_file('cats_and_dogs_filtered.zip',origin=url,extract=True)"
      ],
      "metadata": {
        "id": "mZoPEhbKHp2q"
      },
      "execution_count": null,
      "outputs": []
    },
    {
      "cell_type": "code",
      "source": [
        "os.path.dirname(zip_dir) "
      ],
      "metadata": {
        "colab": {
          "base_uri": "https://localhost:8080/",
          "height": 36
        },
        "id": "Z59fpkEvHwbI",
        "outputId": "13228488-2c02-46dc-d04c-d4df15567796"
      },
      "execution_count": null,
      "outputs": [
        {
          "output_type": "execute_result",
          "data": {
            "text/plain": [
              "'/root/.keras/datasets'"
            ],
            "application/vnd.google.colaboratory.intrinsic+json": {
              "type": "string"
            }
          },
          "metadata": {},
          "execution_count": 36
        }
      ]
    },
    {
      "cell_type": "code",
      "source": [
        "cd/root/.keras/datasets"
      ],
      "metadata": {
        "colab": {
          "base_uri": "https://localhost:8080/"
        },
        "id": "vOfUobO8KGT_",
        "outputId": "29be6120-9d91-40b2-fd44-ebaf6586c178"
      },
      "execution_count": null,
      "outputs": [
        {
          "output_type": "stream",
          "name": "stdout",
          "text": [
            "/root/.keras/datasets\n"
          ]
        }
      ]
    },
    {
      "cell_type": "code",
      "source": [
        "ls"
      ],
      "metadata": {
        "colab": {
          "base_uri": "https://localhost:8080/"
        },
        "id": "QCMb-VX_KM-a",
        "outputId": "ab4dedbf-b58a-4d18-f76b-6455a862ff52"
      },
      "execution_count": null,
      "outputs": [
        {
          "output_type": "stream",
          "name": "stdout",
          "text": [
            "\u001b[0m\u001b[01;34mcats_and_dogs_filtered\u001b[0m/  cats_and_dogs_filtered.zip\n"
          ]
        }
      ]
    },
    {
      "cell_type": "code",
      "source": [
        "cd cats_and_dogs_filtered"
      ],
      "metadata": {
        "colab": {
          "base_uri": "https://localhost:8080/"
        },
        "id": "5JZ4WWGeKPf9",
        "outputId": "00b1c809-114a-460c-a030-73084aa1e739"
      },
      "execution_count": null,
      "outputs": [
        {
          "output_type": "stream",
          "name": "stdout",
          "text": [
            "/root/.keras/datasets/cats_and_dogs_filtered\n"
          ]
        }
      ]
    },
    {
      "cell_type": "code",
      "source": [
        "ls"
      ],
      "metadata": {
        "colab": {
          "base_uri": "https://localhost:8080/"
        },
        "id": "kHKboczrKXpR",
        "outputId": "ab460a6b-52e9-4743-ab85-a42231451aeb"
      },
      "execution_count": null,
      "outputs": [
        {
          "output_type": "stream",
          "name": "stdout",
          "text": [
            "\u001b[0m\u001b[01;34mtrain\u001b[0m/  \u001b[01;34mvalidation\u001b[0m/  vectorize.py\n"
          ]
        }
      ]
    },
    {
      "cell_type": "code",
      "source": [
        "cd train"
      ],
      "metadata": {
        "colab": {
          "base_uri": "https://localhost:8080/"
        },
        "id": "RPIN6b63KZ3y",
        "outputId": "89b50984-d365-4637-d62a-f1b35ca29f1c"
      },
      "execution_count": null,
      "outputs": [
        {
          "output_type": "stream",
          "name": "stdout",
          "text": [
            "/root/.keras/datasets/cats_and_dogs_filtered/train\n"
          ]
        }
      ]
    },
    {
      "cell_type": "code",
      "source": [
        "ls"
      ],
      "metadata": {
        "colab": {
          "base_uri": "https://localhost:8080/"
        },
        "id": "-6dB_Qm1KcXq",
        "outputId": "bff532c1-2a31-40b5-c513-de289e508b77"
      },
      "execution_count": null,
      "outputs": [
        {
          "output_type": "stream",
          "name": "stdout",
          "text": [
            "\u001b[0m\u001b[01;34mcats\u001b[0m/  \u001b[01;34mdogs\u001b[0m/\n"
          ]
        }
      ]
    },
    {
      "cell_type": "code",
      "source": [
        "cd cats"
      ],
      "metadata": {
        "colab": {
          "base_uri": "https://localhost:8080/"
        },
        "id": "cpyXtGq5Kgi2",
        "outputId": "7c0bcd88-9d54-4dfa-d13a-c8e2ee471e97"
      },
      "execution_count": null,
      "outputs": [
        {
          "output_type": "stream",
          "name": "stdout",
          "text": [
            "/root/.keras/datasets/cats_and_dogs_filtered/train/cats\n"
          ]
        }
      ]
    },
    {
      "cell_type": "code",
      "source": [
        "ls"
      ],
      "metadata": {
        "colab": {
          "base_uri": "https://localhost:8080/"
        },
        "id": "ba2YpvwjKi8B",
        "outputId": "e78d068a-74a6-4a86-fbd8-64c6a5f35ca6"
      },
      "execution_count": null,
      "outputs": [
        {
          "output_type": "stream",
          "name": "stdout",
          "text": [
            "cat.0.jpg    cat.250.jpg  cat.400.jpg  cat.551.jpg  cat.701.jpg  cat.852.jpg\n",
            "cat.100.jpg  cat.251.jpg  cat.401.jpg  cat.552.jpg  cat.702.jpg  cat.853.jpg\n",
            "cat.101.jpg  cat.252.jpg  cat.402.jpg  cat.553.jpg  cat.703.jpg  cat.854.jpg\n",
            "cat.102.jpg  cat.253.jpg  cat.403.jpg  cat.554.jpg  cat.704.jpg  cat.855.jpg\n",
            "cat.103.jpg  cat.254.jpg  cat.404.jpg  cat.555.jpg  cat.705.jpg  cat.856.jpg\n",
            "cat.104.jpg  cat.255.jpg  cat.405.jpg  cat.556.jpg  cat.706.jpg  cat.857.jpg\n",
            "cat.105.jpg  cat.256.jpg  cat.406.jpg  cat.557.jpg  cat.707.jpg  cat.858.jpg\n",
            "cat.106.jpg  cat.257.jpg  cat.407.jpg  cat.558.jpg  cat.708.jpg  cat.859.jpg\n",
            "cat.107.jpg  cat.258.jpg  cat.408.jpg  cat.559.jpg  cat.709.jpg  cat.85.jpg\n",
            "cat.108.jpg  cat.259.jpg  cat.409.jpg  cat.55.jpg   cat.70.jpg   cat.860.jpg\n",
            "cat.109.jpg  cat.25.jpg   cat.40.jpg   cat.560.jpg  cat.710.jpg  cat.861.jpg\n",
            "cat.10.jpg   cat.260.jpg  cat.410.jpg  cat.561.jpg  cat.711.jpg  cat.862.jpg\n",
            "cat.110.jpg  cat.261.jpg  cat.411.jpg  cat.562.jpg  cat.712.jpg  cat.863.jpg\n",
            "cat.111.jpg  cat.262.jpg  cat.412.jpg  cat.563.jpg  cat.713.jpg  cat.864.jpg\n",
            "cat.112.jpg  cat.263.jpg  cat.413.jpg  cat.564.jpg  cat.714.jpg  cat.865.jpg\n",
            "cat.113.jpg  cat.264.jpg  cat.414.jpg  cat.565.jpg  cat.715.jpg  cat.866.jpg\n",
            "cat.114.jpg  cat.265.jpg  cat.415.jpg  cat.566.jpg  cat.716.jpg  cat.867.jpg\n",
            "cat.115.jpg  cat.266.jpg  cat.416.jpg  cat.567.jpg  cat.717.jpg  cat.868.jpg\n",
            "cat.116.jpg  cat.267.jpg  cat.417.jpg  cat.568.jpg  cat.718.jpg  cat.869.jpg\n",
            "cat.117.jpg  cat.268.jpg  cat.418.jpg  cat.569.jpg  cat.719.jpg  cat.86.jpg\n",
            "cat.118.jpg  cat.269.jpg  cat.419.jpg  cat.56.jpg   cat.71.jpg   cat.870.jpg\n",
            "cat.119.jpg  cat.26.jpg   cat.41.jpg   cat.570.jpg  cat.720.jpg  cat.871.jpg\n",
            "cat.11.jpg   cat.270.jpg  cat.420.jpg  cat.571.jpg  cat.721.jpg  cat.872.jpg\n",
            "cat.120.jpg  cat.271.jpg  cat.421.jpg  cat.572.jpg  cat.722.jpg  cat.873.jpg\n",
            "cat.121.jpg  cat.272.jpg  cat.422.jpg  cat.573.jpg  cat.723.jpg  cat.874.jpg\n",
            "cat.122.jpg  cat.273.jpg  cat.423.jpg  cat.574.jpg  cat.724.jpg  cat.875.jpg\n",
            "cat.123.jpg  cat.274.jpg  cat.424.jpg  cat.575.jpg  cat.725.jpg  cat.876.jpg\n",
            "cat.124.jpg  cat.275.jpg  cat.425.jpg  cat.576.jpg  cat.726.jpg  cat.877.jpg\n",
            "cat.125.jpg  cat.276.jpg  cat.426.jpg  cat.577.jpg  cat.727.jpg  cat.878.jpg\n",
            "cat.126.jpg  cat.277.jpg  cat.427.jpg  cat.578.jpg  cat.728.jpg  cat.879.jpg\n",
            "cat.127.jpg  cat.278.jpg  cat.428.jpg  cat.579.jpg  cat.729.jpg  cat.87.jpg\n",
            "cat.128.jpg  cat.279.jpg  cat.429.jpg  cat.57.jpg   cat.72.jpg   cat.880.jpg\n",
            "cat.129.jpg  cat.27.jpg   cat.42.jpg   cat.580.jpg  cat.730.jpg  cat.881.jpg\n",
            "cat.12.jpg   cat.280.jpg  cat.430.jpg  cat.581.jpg  cat.731.jpg  cat.882.jpg\n",
            "cat.130.jpg  cat.281.jpg  cat.431.jpg  cat.582.jpg  cat.732.jpg  cat.883.jpg\n",
            "cat.131.jpg  cat.282.jpg  cat.432.jpg  cat.583.jpg  cat.733.jpg  cat.884.jpg\n",
            "cat.132.jpg  cat.283.jpg  cat.433.jpg  cat.584.jpg  cat.734.jpg  cat.885.jpg\n",
            "cat.133.jpg  cat.284.jpg  cat.434.jpg  cat.585.jpg  cat.735.jpg  cat.886.jpg\n",
            "cat.134.jpg  cat.285.jpg  cat.435.jpg  cat.586.jpg  cat.736.jpg  cat.887.jpg\n",
            "cat.135.jpg  cat.286.jpg  cat.436.jpg  cat.587.jpg  cat.737.jpg  cat.888.jpg\n",
            "cat.136.jpg  cat.287.jpg  cat.437.jpg  cat.588.jpg  cat.738.jpg  cat.889.jpg\n",
            "cat.137.jpg  cat.288.jpg  cat.438.jpg  cat.589.jpg  cat.739.jpg  cat.88.jpg\n",
            "cat.138.jpg  cat.289.jpg  cat.439.jpg  cat.58.jpg   cat.73.jpg   cat.890.jpg\n",
            "cat.139.jpg  cat.28.jpg   cat.43.jpg   cat.590.jpg  cat.740.jpg  cat.891.jpg\n",
            "cat.13.jpg   cat.290.jpg  cat.440.jpg  cat.591.jpg  cat.741.jpg  cat.892.jpg\n",
            "cat.140.jpg  cat.291.jpg  cat.441.jpg  cat.592.jpg  cat.742.jpg  cat.893.jpg\n",
            "cat.141.jpg  cat.292.jpg  cat.442.jpg  cat.593.jpg  cat.743.jpg  cat.894.jpg\n",
            "cat.142.jpg  cat.293.jpg  cat.443.jpg  cat.594.jpg  cat.744.jpg  cat.895.jpg\n",
            "cat.143.jpg  cat.294.jpg  cat.444.jpg  cat.595.jpg  cat.745.jpg  cat.896.jpg\n",
            "cat.144.jpg  cat.295.jpg  cat.445.jpg  cat.596.jpg  cat.746.jpg  cat.897.jpg\n",
            "cat.145.jpg  cat.296.jpg  cat.446.jpg  cat.597.jpg  cat.747.jpg  cat.898.jpg\n",
            "cat.146.jpg  cat.297.jpg  cat.447.jpg  cat.598.jpg  cat.748.jpg  cat.899.jpg\n",
            "cat.147.jpg  cat.298.jpg  cat.448.jpg  cat.599.jpg  cat.749.jpg  cat.89.jpg\n",
            "cat.148.jpg  cat.299.jpg  cat.449.jpg  cat.59.jpg   cat.74.jpg   cat.8.jpg\n",
            "cat.149.jpg  cat.29.jpg   cat.44.jpg   cat.5.jpg    cat.750.jpg  cat.900.jpg\n",
            "cat.14.jpg   cat.2.jpg    cat.450.jpg  cat.600.jpg  cat.751.jpg  cat.901.jpg\n",
            "cat.150.jpg  cat.300.jpg  cat.451.jpg  cat.601.jpg  cat.752.jpg  cat.902.jpg\n",
            "cat.151.jpg  cat.301.jpg  cat.452.jpg  cat.602.jpg  cat.753.jpg  cat.903.jpg\n",
            "cat.152.jpg  cat.302.jpg  cat.453.jpg  cat.603.jpg  cat.754.jpg  cat.904.jpg\n",
            "cat.153.jpg  cat.303.jpg  cat.454.jpg  cat.604.jpg  cat.755.jpg  cat.905.jpg\n",
            "cat.154.jpg  cat.304.jpg  cat.455.jpg  cat.605.jpg  cat.756.jpg  cat.906.jpg\n",
            "cat.155.jpg  cat.305.jpg  cat.456.jpg  cat.606.jpg  cat.757.jpg  cat.907.jpg\n",
            "cat.156.jpg  cat.306.jpg  cat.457.jpg  cat.607.jpg  cat.758.jpg  cat.908.jpg\n",
            "cat.157.jpg  cat.307.jpg  cat.458.jpg  cat.608.jpg  cat.759.jpg  cat.909.jpg\n",
            "cat.158.jpg  cat.308.jpg  cat.459.jpg  cat.609.jpg  cat.75.jpg   cat.90.jpg\n",
            "cat.159.jpg  cat.309.jpg  cat.45.jpg   cat.60.jpg   cat.760.jpg  cat.910.jpg\n",
            "cat.15.jpg   cat.30.jpg   cat.460.jpg  cat.610.jpg  cat.761.jpg  cat.911.jpg\n",
            "cat.160.jpg  cat.310.jpg  cat.461.jpg  cat.611.jpg  cat.762.jpg  cat.912.jpg\n",
            "cat.161.jpg  cat.311.jpg  cat.462.jpg  cat.612.jpg  cat.763.jpg  cat.913.jpg\n",
            "cat.162.jpg  cat.312.jpg  cat.463.jpg  cat.613.jpg  cat.764.jpg  cat.914.jpg\n",
            "cat.163.jpg  cat.313.jpg  cat.464.jpg  cat.614.jpg  cat.765.jpg  cat.915.jpg\n",
            "cat.164.jpg  cat.314.jpg  cat.465.jpg  cat.615.jpg  cat.766.jpg  cat.916.jpg\n",
            "cat.165.jpg  cat.315.jpg  cat.466.jpg  cat.616.jpg  cat.767.jpg  cat.917.jpg\n",
            "cat.166.jpg  cat.316.jpg  cat.467.jpg  cat.617.jpg  cat.768.jpg  cat.918.jpg\n",
            "cat.167.jpg  cat.317.jpg  cat.468.jpg  cat.618.jpg  cat.769.jpg  cat.919.jpg\n",
            "cat.168.jpg  cat.318.jpg  cat.469.jpg  cat.619.jpg  cat.76.jpg   cat.91.jpg\n",
            "cat.169.jpg  cat.319.jpg  cat.46.jpg   cat.61.jpg   cat.770.jpg  cat.920.jpg\n",
            "cat.16.jpg   cat.31.jpg   cat.470.jpg  cat.620.jpg  cat.771.jpg  cat.921.jpg\n",
            "cat.170.jpg  cat.320.jpg  cat.471.jpg  cat.621.jpg  cat.772.jpg  cat.922.jpg\n",
            "cat.171.jpg  cat.321.jpg  cat.472.jpg  cat.622.jpg  cat.773.jpg  cat.923.jpg\n",
            "cat.172.jpg  cat.322.jpg  cat.473.jpg  cat.623.jpg  cat.774.jpg  cat.924.jpg\n",
            "cat.173.jpg  cat.323.jpg  cat.474.jpg  cat.624.jpg  cat.775.jpg  cat.925.jpg\n",
            "cat.174.jpg  cat.324.jpg  cat.475.jpg  cat.625.jpg  cat.776.jpg  cat.926.jpg\n",
            "cat.175.jpg  cat.325.jpg  cat.476.jpg  cat.626.jpg  cat.777.jpg  cat.927.jpg\n",
            "cat.176.jpg  cat.326.jpg  cat.477.jpg  cat.627.jpg  cat.778.jpg  cat.928.jpg\n",
            "cat.177.jpg  cat.327.jpg  cat.478.jpg  cat.628.jpg  cat.779.jpg  cat.929.jpg\n",
            "cat.178.jpg  cat.328.jpg  cat.479.jpg  cat.629.jpg  cat.77.jpg   cat.92.jpg\n",
            "cat.179.jpg  cat.329.jpg  cat.47.jpg   cat.62.jpg   cat.780.jpg  cat.930.jpg\n",
            "cat.17.jpg   cat.32.jpg   cat.480.jpg  cat.630.jpg  cat.781.jpg  cat.931.jpg\n",
            "cat.180.jpg  cat.330.jpg  cat.481.jpg  cat.631.jpg  cat.782.jpg  cat.932.jpg\n",
            "cat.181.jpg  cat.331.jpg  cat.482.jpg  cat.632.jpg  cat.783.jpg  cat.933.jpg\n",
            "cat.182.jpg  cat.332.jpg  cat.483.jpg  cat.633.jpg  cat.784.jpg  cat.934.jpg\n",
            "cat.183.jpg  cat.333.jpg  cat.484.jpg  cat.634.jpg  cat.785.jpg  cat.935.jpg\n",
            "cat.184.jpg  cat.334.jpg  cat.485.jpg  cat.635.jpg  cat.786.jpg  cat.936.jpg\n",
            "cat.185.jpg  cat.335.jpg  cat.486.jpg  cat.636.jpg  cat.787.jpg  cat.937.jpg\n",
            "cat.186.jpg  cat.336.jpg  cat.487.jpg  cat.637.jpg  cat.788.jpg  cat.938.jpg\n",
            "cat.187.jpg  cat.337.jpg  cat.488.jpg  cat.638.jpg  cat.789.jpg  cat.939.jpg\n",
            "cat.188.jpg  cat.338.jpg  cat.489.jpg  cat.639.jpg  cat.78.jpg   cat.93.jpg\n",
            "cat.189.jpg  cat.339.jpg  cat.48.jpg   cat.63.jpg   cat.790.jpg  cat.940.jpg\n",
            "cat.18.jpg   cat.33.jpg   cat.490.jpg  cat.640.jpg  cat.791.jpg  cat.941.jpg\n",
            "cat.190.jpg  cat.340.jpg  cat.491.jpg  cat.641.jpg  cat.792.jpg  cat.942.jpg\n",
            "cat.191.jpg  cat.341.jpg  cat.492.jpg  cat.642.jpg  cat.793.jpg  cat.943.jpg\n",
            "cat.192.jpg  cat.342.jpg  cat.493.jpg  cat.643.jpg  cat.794.jpg  cat.944.jpg\n",
            "cat.193.jpg  cat.343.jpg  cat.494.jpg  cat.644.jpg  cat.795.jpg  cat.945.jpg\n",
            "cat.194.jpg  cat.344.jpg  cat.495.jpg  cat.645.jpg  cat.796.jpg  cat.946.jpg\n",
            "cat.195.jpg  cat.345.jpg  cat.496.jpg  cat.646.jpg  cat.797.jpg  cat.947.jpg\n",
            "cat.196.jpg  cat.346.jpg  cat.497.jpg  cat.647.jpg  cat.798.jpg  cat.948.jpg\n",
            "cat.197.jpg  cat.347.jpg  cat.498.jpg  cat.648.jpg  cat.799.jpg  cat.949.jpg\n",
            "cat.198.jpg  cat.348.jpg  cat.499.jpg  cat.649.jpg  cat.79.jpg   cat.94.jpg\n",
            "cat.199.jpg  cat.349.jpg  cat.49.jpg   cat.64.jpg   cat.7.jpg    cat.950.jpg\n",
            "cat.19.jpg   cat.34.jpg   cat.4.jpg    cat.650.jpg  cat.800.jpg  cat.951.jpg\n",
            "cat.1.jpg    cat.350.jpg  cat.500.jpg  cat.651.jpg  cat.801.jpg  cat.952.jpg\n",
            "cat.200.jpg  cat.351.jpg  cat.501.jpg  cat.652.jpg  cat.802.jpg  cat.953.jpg\n",
            "cat.201.jpg  cat.352.jpg  cat.502.jpg  cat.653.jpg  cat.803.jpg  cat.954.jpg\n",
            "cat.202.jpg  cat.353.jpg  cat.503.jpg  cat.654.jpg  cat.804.jpg  cat.955.jpg\n",
            "cat.203.jpg  cat.354.jpg  cat.504.jpg  cat.655.jpg  cat.805.jpg  cat.956.jpg\n",
            "cat.204.jpg  cat.355.jpg  cat.505.jpg  cat.656.jpg  cat.806.jpg  cat.957.jpg\n",
            "cat.205.jpg  cat.356.jpg  cat.506.jpg  cat.657.jpg  cat.807.jpg  cat.958.jpg\n",
            "cat.206.jpg  cat.357.jpg  cat.507.jpg  cat.658.jpg  cat.808.jpg  cat.959.jpg\n",
            "cat.207.jpg  cat.358.jpg  cat.508.jpg  cat.659.jpg  cat.809.jpg  cat.95.jpg\n",
            "cat.208.jpg  cat.359.jpg  cat.509.jpg  cat.65.jpg   cat.80.jpg   cat.960.jpg\n",
            "cat.209.jpg  cat.35.jpg   cat.50.jpg   cat.660.jpg  cat.810.jpg  cat.961.jpg\n",
            "cat.20.jpg   cat.360.jpg  cat.510.jpg  cat.661.jpg  cat.811.jpg  cat.962.jpg\n",
            "cat.210.jpg  cat.361.jpg  cat.511.jpg  cat.662.jpg  cat.812.jpg  cat.963.jpg\n",
            "cat.211.jpg  cat.362.jpg  cat.512.jpg  cat.663.jpg  cat.813.jpg  cat.964.jpg\n",
            "cat.212.jpg  cat.363.jpg  cat.513.jpg  cat.664.jpg  cat.814.jpg  cat.965.jpg\n",
            "cat.213.jpg  cat.364.jpg  cat.514.jpg  cat.665.jpg  cat.815.jpg  cat.966.jpg\n",
            "cat.214.jpg  cat.365.jpg  cat.515.jpg  cat.666.jpg  cat.816.jpg  cat.967.jpg\n",
            "cat.215.jpg  cat.366.jpg  cat.516.jpg  cat.667.jpg  cat.817.jpg  cat.968.jpg\n",
            "cat.216.jpg  cat.367.jpg  cat.517.jpg  cat.668.jpg  cat.818.jpg  cat.969.jpg\n",
            "cat.217.jpg  cat.368.jpg  cat.518.jpg  cat.669.jpg  cat.819.jpg  cat.96.jpg\n",
            "cat.218.jpg  cat.369.jpg  cat.519.jpg  cat.66.jpg   cat.81.jpg   cat.970.jpg\n",
            "cat.219.jpg  cat.36.jpg   cat.51.jpg   cat.670.jpg  cat.820.jpg  cat.971.jpg\n",
            "cat.21.jpg   cat.370.jpg  cat.520.jpg  cat.671.jpg  cat.821.jpg  cat.972.jpg\n",
            "cat.220.jpg  cat.371.jpg  cat.521.jpg  cat.672.jpg  cat.822.jpg  cat.973.jpg\n",
            "cat.221.jpg  cat.372.jpg  cat.522.jpg  cat.673.jpg  cat.823.jpg  cat.974.jpg\n",
            "cat.222.jpg  cat.373.jpg  cat.523.jpg  cat.674.jpg  cat.824.jpg  cat.975.jpg\n",
            "cat.223.jpg  cat.374.jpg  cat.524.jpg  cat.675.jpg  cat.825.jpg  cat.976.jpg\n",
            "cat.224.jpg  cat.375.jpg  cat.525.jpg  cat.676.jpg  cat.826.jpg  cat.977.jpg\n",
            "cat.225.jpg  cat.376.jpg  cat.526.jpg  cat.677.jpg  cat.827.jpg  cat.978.jpg\n",
            "cat.226.jpg  cat.377.jpg  cat.527.jpg  cat.678.jpg  cat.828.jpg  cat.979.jpg\n",
            "cat.227.jpg  cat.378.jpg  cat.528.jpg  cat.679.jpg  cat.829.jpg  cat.97.jpg\n",
            "cat.228.jpg  cat.379.jpg  cat.529.jpg  cat.67.jpg   cat.82.jpg   cat.980.jpg\n",
            "cat.229.jpg  cat.37.jpg   cat.52.jpg   cat.680.jpg  cat.830.jpg  cat.981.jpg\n",
            "cat.22.jpg   cat.380.jpg  cat.530.jpg  cat.681.jpg  cat.831.jpg  cat.982.jpg\n",
            "cat.230.jpg  cat.381.jpg  cat.531.jpg  cat.682.jpg  cat.832.jpg  cat.983.jpg\n",
            "cat.231.jpg  cat.382.jpg  cat.532.jpg  cat.683.jpg  cat.833.jpg  cat.984.jpg\n",
            "cat.232.jpg  cat.383.jpg  cat.533.jpg  cat.684.jpg  cat.834.jpg  cat.985.jpg\n",
            "cat.233.jpg  cat.384.jpg  cat.534.jpg  cat.685.jpg  cat.835.jpg  cat.986.jpg\n",
            "cat.234.jpg  cat.385.jpg  cat.535.jpg  cat.686.jpg  cat.836.jpg  cat.987.jpg\n",
            "cat.235.jpg  cat.386.jpg  cat.536.jpg  cat.687.jpg  cat.837.jpg  cat.988.jpg\n",
            "cat.236.jpg  cat.387.jpg  cat.537.jpg  cat.688.jpg  cat.838.jpg  cat.989.jpg\n",
            "cat.237.jpg  cat.388.jpg  cat.538.jpg  cat.689.jpg  cat.839.jpg  cat.98.jpg\n",
            "cat.238.jpg  cat.389.jpg  cat.539.jpg  cat.68.jpg   cat.83.jpg   cat.990.jpg\n",
            "cat.239.jpg  cat.38.jpg   cat.53.jpg   cat.690.jpg  cat.840.jpg  cat.991.jpg\n",
            "cat.23.jpg   cat.390.jpg  cat.540.jpg  cat.691.jpg  cat.841.jpg  cat.992.jpg\n",
            "cat.240.jpg  cat.391.jpg  cat.541.jpg  cat.692.jpg  cat.842.jpg  cat.993.jpg\n",
            "cat.241.jpg  cat.392.jpg  cat.542.jpg  cat.693.jpg  cat.843.jpg  cat.994.jpg\n",
            "cat.242.jpg  cat.393.jpg  cat.543.jpg  cat.694.jpg  cat.844.jpg  cat.995.jpg\n",
            "cat.243.jpg  cat.394.jpg  cat.544.jpg  cat.695.jpg  cat.845.jpg  cat.996.jpg\n",
            "cat.244.jpg  cat.395.jpg  cat.545.jpg  cat.696.jpg  cat.846.jpg  cat.997.jpg\n",
            "cat.245.jpg  cat.396.jpg  cat.546.jpg  cat.697.jpg  cat.847.jpg  cat.998.jpg\n",
            "cat.246.jpg  cat.397.jpg  cat.547.jpg  cat.698.jpg  cat.848.jpg  cat.999.jpg\n",
            "cat.247.jpg  cat.398.jpg  cat.548.jpg  cat.699.jpg  cat.849.jpg  cat.99.jpg\n",
            "cat.248.jpg  cat.399.jpg  cat.549.jpg  cat.69.jpg   cat.84.jpg   cat.9.jpg\n",
            "cat.249.jpg  cat.39.jpg   cat.54.jpg   cat.6.jpg    cat.850.jpg\n",
            "cat.24.jpg   cat.3.jpg    cat.550.jpg  cat.700.jpg  cat.851.jpg\n"
          ]
        }
      ]
    },
    {
      "cell_type": "code",
      "source": [
        "zip_path=os.path.dirname(zip_dir)\n",
        "dir_dataset='cats_and_dogs_filtered'\n",
        "base_dir = os.path.join(zip_path, dir_dataset)\n",
        "train_dir=os.path.join(base_dir,'train')\n",
        "val_dir=os.path.join(base_dir,'validation')"
      ],
      "metadata": {
        "id": "P0F7x9ufKjuo"
      },
      "execution_count": null,
      "outputs": []
    },
    {
      "cell_type": "code",
      "source": [
        "print('path of base directory is-\\n ' ,base_dir)\n",
        "print('path of train directory is-\\n',train_dir)\n",
        "print('path of validation directory is-\\n',val_dir)"
      ],
      "metadata": {
        "colab": {
          "base_uri": "https://localhost:8080/"
        },
        "id": "Wk_p3wFxL3mf",
        "outputId": "98167b81-9cb2-4e99-c7ed-6b6274ffbd50"
      },
      "execution_count": null,
      "outputs": [
        {
          "output_type": "stream",
          "name": "stdout",
          "text": [
            "path of base directory is-\n",
            "  /root/.keras/datasets/cats_and_dogs_filtered\n",
            "path of train directory is-\n",
            " /root/.keras/datasets/cats_and_dogs_filtered/train\n",
            "path of validation directory is-\n",
            " /root/.keras/datasets/cats_and_dogs_filtered/validation\n"
          ]
        }
      ]
    },
    {
      "cell_type": "code",
      "source": [
        "print(base_dir)"
      ],
      "metadata": {
        "colab": {
          "base_uri": "https://localhost:8080/"
        },
        "id": "bJxhwjooMrDW",
        "outputId": "978af67e-3327-4999-abc2-36016d5ad848"
      },
      "execution_count": null,
      "outputs": [
        {
          "output_type": "stream",
          "name": "stdout",
          "text": [
            "/root/.keras/datasets/cats_and_dogs_filtered\n"
          ]
        }
      ]
    },
    {
      "cell_type": "code",
      "source": [
        "train_cats=os.path.join(train_dir,'cats')\n",
        "train_dogs=os.path.join(train_dir,'dogs')\n",
        "val_cats=os.path.join(val_dir,'cats')\n",
        "val_dogs=os.path.join(val_dir,'dogs')\n",
        "print('path of train directory of cats is-\\n',train_cats)\n",
        "print('path of train directory of dogsis-\\n',train_dogs)\n",
        "print('path of validation directory of cats is-\\n',val_cats)\n",
        "print('path of validation directory of dogs is-\\n',val_dogs)"
      ],
      "metadata": {
        "colab": {
          "base_uri": "https://localhost:8080/"
        },
        "id": "uuOfJFiEMxKP",
        "outputId": "6fc354fc-b40b-4dce-e0ee-80a05a39b47b"
      },
      "execution_count": null,
      "outputs": [
        {
          "output_type": "stream",
          "name": "stdout",
          "text": [
            "path of train directory of cats is-\n",
            " /root/.keras/datasets/cats_and_dogs_filtered/train/cats\n",
            "path of train directory of dogsis-\n",
            " /root/.keras/datasets/cats_and_dogs_filtered/train/dogs\n",
            "path of validation directory of cats is-\n",
            " /root/.keras/datasets/cats_and_dogs_filtered/validation/cats\n",
            "path of validation directory of dogs is-\n",
            " /root/.keras/datasets/cats_and_dogs_filtered/validation/dogs\n"
          ]
        }
      ]
    },
    {
      "cell_type": "code",
      "source": [
        "num_cat_train =len(os.listdir(train_cats))\n",
        "num_cat_train"
      ],
      "metadata": {
        "colab": {
          "base_uri": "https://localhost:8080/"
        },
        "id": "8cw8_owBmTow",
        "outputId": "857074a9-d2c9-47ae-a303-26957d656ac4"
      },
      "execution_count": null,
      "outputs": [
        {
          "output_type": "execute_result",
          "data": {
            "text/plain": [
              "1000"
            ]
          },
          "metadata": {},
          "execution_count": 49
        }
      ]
    },
    {
      "cell_type": "code",
      "source": [
        "num_dog_train =len(os.listdir(train_dogs))\n",
        "num_dog_train"
      ],
      "metadata": {
        "colab": {
          "base_uri": "https://localhost:8080/"
        },
        "id": "ASK8ZpzQnNC7",
        "outputId": "8950f648-046e-448b-e3d0-0a9d6b14ce38"
      },
      "execution_count": null,
      "outputs": [
        {
          "output_type": "execute_result",
          "data": {
            "text/plain": [
              "1000"
            ]
          },
          "metadata": {},
          "execution_count": 50
        }
      ]
    },
    {
      "cell_type": "code",
      "source": [
        "num_cat_val =len(os.listdir(val_cats))\n",
        "num_cat_val"
      ],
      "metadata": {
        "colab": {
          "base_uri": "https://localhost:8080/"
        },
        "id": "gm3b2Gqinbzp",
        "outputId": "e414c3f3-a364-4b64-fadf-b700b58366ad"
      },
      "execution_count": null,
      "outputs": [
        {
          "output_type": "execute_result",
          "data": {
            "text/plain": [
              "500"
            ]
          },
          "metadata": {},
          "execution_count": 51
        }
      ]
    },
    {
      "cell_type": "code",
      "source": [
        "num_dog_val =len(os.listdir(val_dogs))\n",
        "num_dog_val"
      ],
      "metadata": {
        "colab": {
          "base_uri": "https://localhost:8080/"
        },
        "id": "JZNYAu7pnqUe",
        "outputId": "9494e747-56f6-4ddf-9cfd-417ad7b4caf3"
      },
      "execution_count": null,
      "outputs": [
        {
          "output_type": "execute_result",
          "data": {
            "text/plain": [
              "500"
            ]
          },
          "metadata": {},
          "execution_count": 52
        }
      ]
    },
    {
      "cell_type": "code",
      "source": [
        "total_cats= num_cat_train + num_cat_val    #similiarly dogs too are 1500\n",
        "total_cats"
      ],
      "metadata": {
        "colab": {
          "base_uri": "https://localhost:8080/"
        },
        "id": "ZcY6W3isn0fz",
        "outputId": "2ddfb63b-0f36-4c60-e6fe-d219b81a59ce"
      },
      "execution_count": null,
      "outputs": [
        {
          "output_type": "execute_result",
          "data": {
            "text/plain": [
              "1500"
            ]
          },
          "metadata": {},
          "execution_count": 53
        }
      ]
    },
    {
      "cell_type": "code",
      "source": [
        "total_train= num_cat_train + num_dog_train\n",
        "total_train"
      ],
      "metadata": {
        "colab": {
          "base_uri": "https://localhost:8080/"
        },
        "id": "vRSv3OiZoPnF",
        "outputId": "7be42d01-810a-4fcd-bc89-13114f47a0b5"
      },
      "execution_count": null,
      "outputs": [
        {
          "output_type": "execute_result",
          "data": {
            "text/plain": [
              "2000"
            ]
          },
          "metadata": {},
          "execution_count": 54
        }
      ]
    },
    {
      "cell_type": "code",
      "source": [
        "total_val= num_cat_val + num_dog_val\n",
        "total_val"
      ],
      "metadata": {
        "colab": {
          "base_uri": "https://localhost:8080/"
        },
        "id": "i6NVDpT0osdI",
        "outputId": "2939810d-f549-4d10-e59d-bdbc91415f4d"
      },
      "execution_count": null,
      "outputs": [
        {
          "output_type": "execute_result",
          "data": {
            "text/plain": [
              "1000"
            ]
          },
          "metadata": {},
          "execution_count": 55
        }
      ]
    },
    {
      "cell_type": "code",
      "source": [
        "import cv2\n",
        "path= os.path.join(train_cats,'cat.0.jpg' )    #for every img the size different thus it is not unique\n",
        "img= cv2.imread(path)\n",
        "img.shape"
      ],
      "metadata": {
        "colab": {
          "base_uri": "https://localhost:8080/"
        },
        "id": "AXv1Sdtzs2vM",
        "outputId": "354faaa6-567a-491f-ada8-54079cf4f886"
      },
      "execution_count": null,
      "outputs": [
        {
          "output_type": "execute_result",
          "data": {
            "text/plain": [
              "(374, 500, 3)"
            ]
          },
          "metadata": {},
          "execution_count": 56
        }
      ]
    },
    {
      "cell_type": "code",
      "source": [
        "train_image_generator = tf.keras.preprocessing.image.ImageDataGenerator(rescale=1/255)\n",
        "train_image_generator = tf.keras.preprocessing.image.ImageDataGenerator(rescale=1/255)"
      ],
      "metadata": {
        "id": "mBteBaU4o2MH"
      },
      "execution_count": null,
      "outputs": []
    },
    {
      "cell_type": "code",
      "source": [
        "train_data_generator= train_image_generator.flow_from_directory(directory=train_dir,\n",
        "                                                                target_size=(150,150),\n",
        "                                                                class_mode=\"binary\")"
      ],
      "metadata": {
        "colab": {
          "base_uri": "https://localhost:8080/"
        },
        "id": "kNgAWOy2rseT",
        "outputId": "3276cd43-3368-42e4-d602-c1b3a2e81c91"
      },
      "execution_count": null,
      "outputs": [
        {
          "output_type": "stream",
          "name": "stdout",
          "text": [
            "Found 2000 images belonging to 2 classes.\n"
          ]
        }
      ]
    },
    {
      "cell_type": "code",
      "source": [
        "val_data_generator= train_image_generator.flow_from_directory(directory=val_dir,\n",
        "                                                                target_size=(150,150),\n",
        "                                                                class_mode=\"binary\")"
      ],
      "metadata": {
        "colab": {
          "base_uri": "https://localhost:8080/"
        },
        "id": "V73sFF9yvTQA",
        "outputId": "214d43c4-f62e-471c-fa64-0826421cb5ad"
      },
      "execution_count": null,
      "outputs": [
        {
          "output_type": "stream",
          "name": "stdout",
          "text": [
            "Found 1000 images belonging to 2 classes.\n"
          ]
        }
      ]
    },
    {
      "cell_type": "code",
      "source": [
        "#BUILDING CNN MODEL"
      ],
      "metadata": {
        "id": "KMLoBFdYvdMQ"
      },
      "execution_count": null,
      "outputs": []
    },
    {
      "cell_type": "code",
      "source": [
        "cnn1 = tf.keras.Sequential()\n",
        "cnn1.add(tf.keras.layers.Conv2D(32,kernel_size=(3,3),activation='relu',input_shape=(150,150,3)))\n",
        "cnn1.add(tf.keras.layers.MaxPooling2D())\n",
        "cnn1.add(tf.keras.layers.Conv2D(64,kernel_size=(3,3),activation='relu'))\n",
        "cnn1.add(tf.keras.layers.MaxPooling2D())\n",
        "cnn1.add(tf.keras.layers.Conv2D(32,kernel_size=(3,3),activation='relu'))\n",
        "cnn1.add(tf.keras.layers.Dropout(0.5))  \n",
        "cnn1.add(tf.keras.layers.Flatten())\n",
        "cnn1.add(tf.keras.layers.Dense(64,activation='relu'))\n",
        "cnn1.add(tf.keras.layers.Dense(2,activation='softmax'))"
      ],
      "metadata": {
        "id": "U43YwrObvw-C"
      },
      "execution_count": null,
      "outputs": []
    },
    {
      "cell_type": "code",
      "source": [
        "cnn1.summary()"
      ],
      "metadata": {
        "colab": {
          "base_uri": "https://localhost:8080/"
        },
        "id": "OIqKKC5pOWGN",
        "outputId": "bf133d8a-a88e-4d9e-8aed-a1b2e51da161"
      },
      "execution_count": null,
      "outputs": [
        {
          "output_type": "stream",
          "name": "stdout",
          "text": [
            "Model: \"sequential_1\"\n",
            "_________________________________________________________________\n",
            " Layer (type)                Output Shape              Param #   \n",
            "=================================================================\n",
            " conv2d_3 (Conv2D)           (None, 148, 148, 32)      896       \n",
            "                                                                 \n",
            " max_pooling2d_2 (MaxPooling  (None, 74, 74, 32)       0         \n",
            " 2D)                                                             \n",
            "                                                                 \n",
            " conv2d_4 (Conv2D)           (None, 72, 72, 64)        18496     \n",
            "                                                                 \n",
            " max_pooling2d_3 (MaxPooling  (None, 36, 36, 64)       0         \n",
            " 2D)                                                             \n",
            "                                                                 \n",
            " conv2d_5 (Conv2D)           (None, 34, 34, 32)        18464     \n",
            "                                                                 \n",
            " dropout_1 (Dropout)         (None, 34, 34, 32)        0         \n",
            "                                                                 \n",
            " flatten_1 (Flatten)         (None, 36992)             0         \n",
            "                                                                 \n",
            " dense_2 (Dense)             (None, 64)                2367552   \n",
            "                                                                 \n",
            " dense_3 (Dense)             (None, 2)                 130       \n",
            "                                                                 \n",
            "=================================================================\n",
            "Total params: 2,405,538\n",
            "Trainable params: 2,405,538\n",
            "Non-trainable params: 0\n",
            "_________________________________________________________________\n"
          ]
        }
      ]
    },
    {
      "cell_type": "code",
      "source": [
        " cnn1.compile(loss=tf.keras.losses.SparseCategoricalCrossentropy(),\n",
        "             optimizer='adam',\n",
        "             metrics=['accuracy'])"
      ],
      "metadata": {
        "id": "JA4a3dMwOZQa"
      },
      "execution_count": null,
      "outputs": []
    },
    {
      "cell_type": "code",
      "source": [
        "early_stop= tf.keras.callbacks.EarlyStopping(monitor='val_accuracy',patience=10)\n",
        "batch_size=100       #initially was 32 since training data set is large we are redefining it\n",
        "model_fit = cnn1.fit(train_data_generator,validation_data=val_data_generator,epochs=100,\n",
        "                      steps_per_epoch=total_train/batch_size,validation_steps=total_val/batch_size,    #steps_perepoch=total_train/batch_sze=2000/100    #20 batch will be present for 1 epoch\n",
        "                     callbacks=[early_stop])"
      ],
      "metadata": {
        "colab": {
          "base_uri": "https://localhost:8080/"
        },
        "id": "tr3mVxLHO0MD",
        "outputId": "2187be96-b250-477b-f836-0ff946d58b43"
      },
      "execution_count": null,
      "outputs": [
        {
          "output_type": "stream",
          "name": "stdout",
          "text": [
            "Epoch 1/100\n",
            "20/20 [==============================] - 3s 156ms/step - loss: 0.8760 - accuracy: 0.4968 - val_loss: 0.6926 - val_accuracy: 0.5094\n",
            "Epoch 2/100\n",
            "20/20 [==============================] - 3s 150ms/step - loss: 0.6975 - accuracy: 0.4984 - val_loss: 0.6932 - val_accuracy: 0.4781\n",
            "Epoch 3/100\n",
            "20/20 [==============================] - 3s 143ms/step - loss: 0.6929 - accuracy: 0.5272 - val_loss: 0.6930 - val_accuracy: 0.5125\n",
            "Epoch 4/100\n",
            "20/20 [==============================] - 3s 142ms/step - loss: 0.6931 - accuracy: 0.5064 - val_loss: 0.6929 - val_accuracy: 0.5156\n",
            "Epoch 5/100\n",
            "20/20 [==============================] - 3s 142ms/step - loss: 0.6933 - accuracy: 0.4936 - val_loss: 0.6931 - val_accuracy: 0.5063\n",
            "Epoch 6/100\n",
            "20/20 [==============================] - 3s 142ms/step - loss: 0.6933 - accuracy: 0.4952 - val_loss: 0.6938 - val_accuracy: 0.4656\n",
            "Epoch 7/100\n",
            "20/20 [==============================] - 3s 144ms/step - loss: 0.6932 - accuracy: 0.5016 - val_loss: 0.6930 - val_accuracy: 0.5469\n",
            "Epoch 8/100\n",
            "20/20 [==============================] - 3s 143ms/step - loss: 0.6947 - accuracy: 0.5656 - val_loss: 0.6926 - val_accuracy: 0.5281\n",
            "Epoch 9/100\n",
            "20/20 [==============================] - 3s 142ms/step - loss: 0.6924 - accuracy: 0.5417 - val_loss: 0.6921 - val_accuracy: 0.4938\n",
            "Epoch 10/100\n",
            "20/20 [==============================] - 3s 142ms/step - loss: 0.6895 - accuracy: 0.5453 - val_loss: 0.6920 - val_accuracy: 0.5188\n",
            "Epoch 11/100\n",
            "20/20 [==============================] - 3s 142ms/step - loss: 0.6887 - accuracy: 0.5547 - val_loss: 0.6997 - val_accuracy: 0.5094\n",
            "Epoch 12/100\n",
            "20/20 [==============================] - 3s 141ms/step - loss: 0.7051 - accuracy: 0.5240 - val_loss: 0.6932 - val_accuracy: 0.5125\n",
            "Epoch 13/100\n",
            "20/20 [==============================] - 3s 145ms/step - loss: 0.6908 - accuracy: 0.5359 - val_loss: 0.6951 - val_accuracy: 0.5125\n",
            "Epoch 14/100\n",
            "20/20 [==============================] - 3s 148ms/step - loss: 0.6935 - accuracy: 0.5224 - val_loss: 0.6934 - val_accuracy: 0.5281\n",
            "Epoch 15/100\n",
            "20/20 [==============================] - 3s 146ms/step - loss: 0.6908 - accuracy: 0.5064 - val_loss: 0.6907 - val_accuracy: 0.5156\n",
            "Epoch 16/100\n",
            "20/20 [==============================] - 3s 145ms/step - loss: 0.6814 - accuracy: 0.5594 - val_loss: 0.6815 - val_accuracy: 0.5813\n",
            "Epoch 17/100\n",
            "20/20 [==============================] - 3s 161ms/step - loss: 0.6610 - accuracy: 0.5817 - val_loss: 0.6646 - val_accuracy: 0.6062\n",
            "Epoch 18/100\n",
            "20/20 [==============================] - 3s 143ms/step - loss: 0.6516 - accuracy: 0.6138 - val_loss: 0.6908 - val_accuracy: 0.5344\n",
            "Epoch 19/100\n",
            "20/20 [==============================] - 3s 143ms/step - loss: 0.6331 - accuracy: 0.6362 - val_loss: 0.7109 - val_accuracy: 0.5781\n",
            "Epoch 20/100\n",
            "20/20 [==============================] - 3s 145ms/step - loss: 0.6145 - accuracy: 0.6422 - val_loss: 0.6795 - val_accuracy: 0.5625\n",
            "Epoch 21/100\n",
            "20/20 [==============================] - 3s 145ms/step - loss: 0.6241 - accuracy: 0.6297 - val_loss: 0.6597 - val_accuracy: 0.6250\n",
            "Epoch 22/100\n",
            "20/20 [==============================] - 3s 161ms/step - loss: 0.5896 - accuracy: 0.6562 - val_loss: 0.6788 - val_accuracy: 0.6031\n",
            "Epoch 23/100\n",
            "20/20 [==============================] - 3s 142ms/step - loss: 0.5744 - accuracy: 0.7019 - val_loss: 0.7204 - val_accuracy: 0.6094\n",
            "Epoch 24/100\n",
            "20/20 [==============================] - 3s 143ms/step - loss: 0.5516 - accuracy: 0.6827 - val_loss: 0.7532 - val_accuracy: 0.6000\n",
            "Epoch 25/100\n",
            "20/20 [==============================] - 3s 143ms/step - loss: 0.5138 - accuracy: 0.7500 - val_loss: 0.7579 - val_accuracy: 0.5406\n",
            "Epoch 26/100\n",
            "20/20 [==============================] - 3s 145ms/step - loss: 0.5314 - accuracy: 0.7266 - val_loss: 0.7055 - val_accuracy: 0.5656\n",
            "Epoch 27/100\n",
            "20/20 [==============================] - 3s 143ms/step - loss: 0.5000 - accuracy: 0.7437 - val_loss: 0.8017 - val_accuracy: 0.6000\n",
            "Epoch 28/100\n",
            "20/20 [==============================] - 3s 148ms/step - loss: 0.5127 - accuracy: 0.7516 - val_loss: 0.7697 - val_accuracy: 0.5562\n",
            "Epoch 29/100\n",
            "20/20 [==============================] - 3s 144ms/step - loss: 0.4977 - accuracy: 0.7548 - val_loss: 0.7751 - val_accuracy: 0.6094\n",
            "Epoch 30/100\n",
            "20/20 [==============================] - 3s 147ms/step - loss: 0.4153 - accuracy: 0.8062 - val_loss: 0.8074 - val_accuracy: 0.5750\n",
            "Epoch 31/100\n",
            "20/20 [==============================] - 3s 147ms/step - loss: 0.4164 - accuracy: 0.8125 - val_loss: 0.7250 - val_accuracy: 0.6469\n",
            "Epoch 32/100\n",
            "20/20 [==============================] - 3s 146ms/step - loss: 0.4197 - accuracy: 0.7953 - val_loss: 0.7424 - val_accuracy: 0.6313\n",
            "Epoch 33/100\n",
            "20/20 [==============================] - 3s 142ms/step - loss: 0.3780 - accuracy: 0.8253 - val_loss: 0.8426 - val_accuracy: 0.5625\n",
            "Epoch 34/100\n",
            "20/20 [==============================] - 3s 142ms/step - loss: 0.3719 - accuracy: 0.8397 - val_loss: 0.9719 - val_accuracy: 0.5750\n",
            "Epoch 35/100\n",
            "20/20 [==============================] - 3s 141ms/step - loss: 0.3766 - accuracy: 0.8237 - val_loss: 0.7676 - val_accuracy: 0.6156\n",
            "Epoch 36/100\n",
            "20/20 [==============================] - 3s 144ms/step - loss: 0.3177 - accuracy: 0.8641 - val_loss: 0.9303 - val_accuracy: 0.5906\n",
            "Epoch 37/100\n",
            "20/20 [==============================] - 3s 145ms/step - loss: 0.3882 - accuracy: 0.8266 - val_loss: 0.7973 - val_accuracy: 0.6281\n",
            "Epoch 38/100\n",
            "20/20 [==============================] - 3s 146ms/step - loss: 0.3177 - accuracy: 0.8687 - val_loss: 0.8437 - val_accuracy: 0.6562\n",
            "Epoch 39/100\n",
            "20/20 [==============================] - 3s 162ms/step - loss: 0.3023 - accuracy: 0.8766 - val_loss: 0.9573 - val_accuracy: 0.5875\n",
            "Epoch 40/100\n",
            "20/20 [==============================] - 3s 144ms/step - loss: 0.2795 - accuracy: 0.8878 - val_loss: 0.9930 - val_accuracy: 0.5938\n",
            "Epoch 41/100\n",
            "20/20 [==============================] - 3s 142ms/step - loss: 0.2677 - accuracy: 0.8910 - val_loss: 1.0284 - val_accuracy: 0.6125\n",
            "Epoch 42/100\n",
            "20/20 [==============================] - 3s 146ms/step - loss: 0.2170 - accuracy: 0.9031 - val_loss: 0.9299 - val_accuracy: 0.6250\n",
            "Epoch 43/100\n",
            "20/20 [==============================] - 3s 160ms/step - loss: 0.2060 - accuracy: 0.9203 - val_loss: 1.0595 - val_accuracy: 0.6438\n",
            "Epoch 44/100\n",
            "20/20 [==============================] - 3s 143ms/step - loss: 0.2237 - accuracy: 0.9062 - val_loss: 1.0376 - val_accuracy: 0.6500\n",
            "Epoch 45/100\n",
            "20/20 [==============================] - 3s 145ms/step - loss: 0.1784 - accuracy: 0.9250 - val_loss: 1.2656 - val_accuracy: 0.5656\n",
            "Epoch 46/100\n",
            "20/20 [==============================] - 3s 149ms/step - loss: 0.1575 - accuracy: 0.9500 - val_loss: 1.2315 - val_accuracy: 0.6156\n",
            "Epoch 47/100\n",
            "20/20 [==============================] - 3s 139ms/step - loss: 0.1762 - accuracy: 0.9327 - val_loss: 1.3833 - val_accuracy: 0.5938\n",
            "Epoch 48/100\n",
            "20/20 [==============================] - 3s 142ms/step - loss: 0.1525 - accuracy: 0.9406 - val_loss: 0.9861 - val_accuracy: 0.6250\n"
          ]
        }
      ]
    },
    {
      "cell_type": "code",
      "source": [
        "import matplotlib.pyplot as plt\n",
        "plt.plot(model_fit.history['loss'])\n",
        "plt.plot(model_fit.history['val_loss'])"
      ],
      "metadata": {
        "colab": {
          "base_uri": "https://localhost:8080/",
          "height": 283
        },
        "id": "SMEaOxYxRZmz",
        "outputId": "2e61a327-08b6-4fca-c40b-71d112c2de89"
      },
      "execution_count": null,
      "outputs": [
        {
          "output_type": "execute_result",
          "data": {
            "text/plain": [
              "[<matplotlib.lines.Line2D at 0x7fe1ce37a7d0>]"
            ]
          },
          "metadata": {},
          "execution_count": 65
        },
        {
          "output_type": "display_data",
          "data": {
            "text/plain": [
              "<Figure size 432x288 with 1 Axes>"
            ],
            "image/png": "[encoded data removed]"
          },
          "metadata": {
            "needs_background": "light"
          }
        }
      ]
    },
    {
      "cell_type": "code",
      "source": [
        " #model is overfitting\n"
      ],
      "metadata": {
        "id": "jsHTAL6VWW30"
      },
      "execution_count": null,
      "outputs": []
    }
  ]
}