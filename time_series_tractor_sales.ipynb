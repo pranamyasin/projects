{
  "nbformat": 4,
  "nbformat_minor": 0,
  "metadata": {
    "colab": {
      "name": "time series tractor sales.ipynb",
      "provenance": [],
      "authorship_tag": "ABX9TyOMN6asBcEEZxtKM+UwNxl4",
      "include_colab_link": true
    },
    "kernelspec": {
      "name": "python3",
      "display_name": "Python 3"
    },
    "language_info": {
      "name": "python"
    },
    "accelerator": "GPU",
    "gpuClass": "standard"
  },
  "cells": [
    {
      "cell_type": "markdown",
      "metadata": {
        "id": "view-in-github",
        "colab_type": "text"
      },
      "source": [
        "<a href=\"https://colab.research.google.com/github/pranamyasin/projects/blob/main/time_series_tractor_sales.ipynb\" target=\"_parent\"><img src=\"https://colab.research.google.com/assets/colab-badge.svg\" alt=\"Open In Colab\"/></a>"
      ]
    },
    {
      "cell_type": "code",
      "execution_count": 1,
      "metadata": {
        "id": "yeEsALHFD5X5",
        "colab": {
          "base_uri": "https://localhost:8080/"
        },
        "outputId": "44790e5d-2ad3-439b-9a52-f494b3b02e20"
      },
      "outputs": [
        {
          "output_type": "stream",
          "name": "stderr",
          "text": [
            "/usr/local/lib/python3.7/dist-packages/statsmodels/tools/_testing.py:19: FutureWarning: pandas.util.testing is deprecated. Use the functions in the public API at pandas.testing instead.\n",
            "  import pandas.util.testing as tm\n"
          ]
        }
      ],
      "source": [
        "import warnings\n",
        "import itertools\n",
        "import pandas as pd\n",
        "import numpy as np\n",
        "import statsmodels.api as sm\n",
        "import statsmodels.tsa.api as smt\n",
        "import statsmodels.formula.api as smf\n",
        "from statsmodels.tsa.stattools import adfuller\n",
        "from io import StringIO\n",
        "import requests\n",
        "import calendar\n",
        "import matplotlib.pyplot as plt\n",
        "%matplotlib inline"
      ]
    },
    {
      "cell_type": "code",
      "source": [
        "data = pd.read_csv(r'http://www.ucanalytics.com/blogs/wp-content/uploads/2015/06/Tractor-Sales.csv')\n",
        "data"
      ],
      "metadata": {
        "colab": {
          "base_uri": "https://localhost:8080/",
          "height": 424
        },
        "id": "ak-miEx0EOEX",
        "outputId": "05875a6e-b06f-4192-9348-0cb713b30a2b"
      },
      "execution_count": 2,
      "outputs": [
        {
          "output_type": "execute_result",
          "data": {
            "text/plain": [
              "    Month-Year  Number of Tractor Sold\n",
              "0       Jan-03                     141\n",
              "1       Feb-03                     157\n",
              "2       Mar-03                     185\n",
              "3       Apr-03                     199\n",
              "4       May-03                     203\n",
              "..         ...                     ...\n",
              "139     Aug-14                     848\n",
              "140     Sep-14                     640\n",
              "141     Oct-14                     581\n",
              "142     Nov-14                     519\n",
              "143     Dec-14                     605\n",
              "\n",
              "[144 rows x 2 columns]"
            ],
            "text/html": [
              "\n",
              "  <div id=\"df-52c29e3e-9042-416a-b9d5-873482ddb027\">\n",
              "    <div class=\"colab-df-container\">\n",
              "      <div>\n",
              "<style scoped>\n",
              "    .dataframe tbody tr th:only-of-type {\n",
              "        vertical-align: middle;\n",
              "    }\n",
              "\n",
              "    .dataframe tbody tr th {\n",
              "        vertical-align: top;\n",
              "    }\n",
              "\n",
              "    .dataframe thead th {\n",
              "        text-align: right;\n",
              "    }\n",
              "</style>\n",
              "<table border=\"1\" class=\"dataframe\">\n",
              "  <thead>\n",
              "    <tr style=\"text-align: right;\">\n",
              "      <th></th>\n",
              "      <th>Month-Year</th>\n",
              "      <th>Number of Tractor Sold</th>\n",
              "    </tr>\n",
              "  </thead>\n",
              "  <tbody>\n",
              "    <tr>\n",
              "      <th>0</th>\n",
              "      <td>Jan-03</td>\n",
              "      <td>141</td>\n",
              "    </tr>\n",
              "    <tr>\n",
              "      <th>1</th>\n",
              "      <td>Feb-03</td>\n",
              "      <td>157</td>\n",
              "    </tr>\n",
              "    <tr>\n",
              "      <th>2</th>\n",
              "      <td>Mar-03</td>\n",
              "      <td>185</td>\n",
              "    </tr>\n",
              "    <tr>\n",
              "      <th>3</th>\n",
              "      <td>Apr-03</td>\n",
              "      <td>199</td>\n",
              "    </tr>\n",
              "    <tr>\n",
              "      <th>4</th>\n",
              "      <td>May-03</td>\n",
              "      <td>203</td>\n",
              "    </tr>\n",
              "    <tr>\n",
              "      <th>...</th>\n",
              "      <td>...</td>\n",
              "      <td>...</td>\n",
              "    </tr>\n",
              "    <tr>\n",
              "      <th>139</th>\n",
              "      <td>Aug-14</td>\n",
              "      <td>848</td>\n",
              "    </tr>\n",
              "    <tr>\n",
              "      <th>140</th>\n",
              "      <td>Sep-14</td>\n",
              "      <td>640</td>\n",
              "    </tr>\n",
              "    <tr>\n",
              "      <th>141</th>\n",
              "      <td>Oct-14</td>\n",
              "      <td>581</td>\n",
              "    </tr>\n",
              "    <tr>\n",
              "      <th>142</th>\n",
              "      <td>Nov-14</td>\n",
              "      <td>519</td>\n",
              "    </tr>\n",
              "    <tr>\n",
              "      <th>143</th>\n",
              "      <td>Dec-14</td>\n",
              "      <td>605</td>\n",
              "    </tr>\n",
              "  </tbody>\n",
              "</table>\n",
              "<p>144 rows × 2 columns</p>\n",
              "</div>\n",
              "      <button class=\"colab-df-convert\" onclick=\"convertToInteractive('df-52c29e3e-9042-416a-b9d5-873482ddb027')\"\n",
              "              title=\"Convert this dataframe to an interactive table.\"\n",
              "              style=\"display:none;\">\n",
              "        \n",
              "  <svg xmlns=\"http://www.w3.org/2000/svg\" height=\"24px\"viewBox=\"0 0 24 24\"\n",
              "       width=\"24px\">\n",
              "    <path d=\"M0 0h24v24H0V0z\" fill=\"none\"/>\n",
              "    <path d=\"M18.56 5.44l.94 2.06.94-2.06 2.06-.94-2.06-.94-.94-2.06-.94 2.06-2.06.94zm-11 1L8.5 8.5l.94-2.06 2.06-.94-2.06-.94L8.5 2.5l-.94 2.06-2.06.94zm10 10l.94 2.06.94-2.06 2.06-.94-2.06-.94-.94-2.06-.94 2.06-2.06.94z\"/><path d=\"M17.41 7.96l-1.37-1.37c-.4-.4-.92-.59-1.43-.59-.52 0-1.04.2-1.43.59L10.3 9.45l-7.72 7.72c-.78.78-.78 2.05 0 2.83L4 21.41c.39.39.9.59 1.41.59.51 0 1.02-.2 1.41-.59l7.78-7.78 2.81-2.81c.8-.78.8-2.07 0-2.86zM5.41 20L4 18.59l7.72-7.72 1.47 1.35L5.41 20z\"/>\n",
              "  </svg>\n",
              "      </button>\n",
              "      \n",
              "  <style>\n",
              "    .colab-df-container {\n",
              "      display:flex;\n",
              "      flex-wrap:wrap;\n",
              "      gap: 12px;\n",
              "    }\n",
              "\n",
              "    .colab-df-convert {\n",
              "      background-color: #E8F0FE;\n",
              "      border: none;\n",
              "      border-radius: 50%;\n",
              "      cursor: pointer;\n",
              "      display: none;\n",
              "      fill: #1967D2;\n",
              "      height: 32px;\n",
              "      padding: 0 0 0 0;\n",
              "      width: 32px;\n",
              "    }\n",
              "\n",
              "    .colab-df-convert:hover {\n",
              "      background-color: #E2EBFA;\n",
              "      box-shadow: 0px 1px 2px rgba(60, 64, 67, 0.3), 0px 1px 3px 1px rgba(60, 64, 67, 0.15);\n",
              "      fill: #174EA6;\n",
              "    }\n",
              "\n",
              "    [theme=dark] .colab-df-convert {\n",
              "      background-color: #3B4455;\n",
              "      fill: #D2E3FC;\n",
              "    }\n",
              "\n",
              "    [theme=dark] .colab-df-convert:hover {\n",
              "      background-color: #434B5C;\n",
              "      box-shadow: 0px 1px 3px 1px rgba(0, 0, 0, 0.15);\n",
              "      filter: drop-shadow(0px 1px 2px rgba(0, 0, 0, 0.3));\n",
              "      fill: #FFFFFF;\n",
              "    }\n",
              "  </style>\n",
              "\n",
              "      <script>\n",
              "        const buttonEl =\n",
              "          document.querySelector('#df-52c29e3e-9042-416a-b9d5-873482ddb027 button.colab-df-convert');\n",
              "        buttonEl.style.display =\n",
              "          google.colab.kernel.accessAllowed ? 'block' : 'none';\n",
              "\n",
              "        async function convertToInteractive(key) {\n",
              "          const element = document.querySelector('#df-52c29e3e-9042-416a-b9d5-873482ddb027');\n",
              "          const dataTable =\n",
              "            await google.colab.kernel.invokeFunction('convertToInteractive',\n",
              "                                                     [key], {});\n",
              "          if (!dataTable) return;\n",
              "\n",
              "          const docLinkHtml = 'Like what you see? Visit the ' +\n",
              "            '<a target=\"_blank\" href=https://colab.research.google.com/notebooks/data_table.ipynb>data table notebook</a>'\n",
              "            + ' to learn more about interactive tables.';\n",
              "          element.innerHTML = '';\n",
              "          dataTable['output_type'] = 'display_data';\n",
              "          await google.colab.output.renderOutput(dataTable, element);\n",
              "          const docLink = document.createElement('div');\n",
              "          docLink.innerHTML = docLinkHtml;\n",
              "          element.appendChild(docLink);\n",
              "        }\n",
              "      </script>\n",
              "    </div>\n",
              "  </div>\n",
              "  "
            ]
          },
          "metadata": {},
          "execution_count": 2
        }
      ]
    },
    {
      "cell_type": "code",
      "source": [
        "data.info()       #No null values are prsent  "
      ],
      "metadata": {
        "id": "4zXRBANtEt8U",
        "colab": {
          "base_uri": "https://localhost:8080/"
        },
        "outputId": "23257eab-84d3-4838-ff30-6939c59d4c70"
      },
      "execution_count": 3,
      "outputs": [
        {
          "output_type": "stream",
          "name": "stdout",
          "text": [
            "<class 'pandas.core.frame.DataFrame'>\n",
            "RangeIndex: 144 entries, 0 to 143\n",
            "Data columns (total 2 columns):\n",
            " #   Column                  Non-Null Count  Dtype \n",
            "---  ------                  --------------  ----- \n",
            " 0   Month-Year              144 non-null    object\n",
            " 1   Number of Tractor Sold  144 non-null    int64 \n",
            "dtypes: int64(1), object(1)\n",
            "memory usage: 2.4+ KB\n"
          ]
        }
      ]
    },
    {
      "cell_type": "code",
      "source": [
        ""
      ],
      "metadata": {
        "id": "3N46A3--4thI"
      },
      "execution_count": 3,
      "outputs": []
    },
    {
      "cell_type": "markdown",
      "source": [
        "# PREPROCESSING"
      ],
      "metadata": {
        "id": "rKo6QDBK4wrc"
      }
    },
    {
      "cell_type": "code",
      "source": [
        "dates = pd.date_range(start = \"2003-01-01\", freq=\"MS\", periods= len(data))\n",
        "dates"
      ],
      "metadata": {
        "colab": {
          "base_uri": "https://localhost:8080/"
        },
        "id": "ohVrdOooyR_G",
        "outputId": "a7abd968-fc91-4077-a3f0-78071387e3cf"
      },
      "execution_count": 4,
      "outputs": [
        {
          "output_type": "execute_result",
          "data": {
            "text/plain": [
              "DatetimeIndex(['2003-01-01', '2003-02-01', '2003-03-01', '2003-04-01',\n",
              "               '2003-05-01', '2003-06-01', '2003-07-01', '2003-08-01',\n",
              "               '2003-09-01', '2003-10-01',\n",
              "               ...\n",
              "               '2014-03-01', '2014-04-01', '2014-05-01', '2014-06-01',\n",
              "               '2014-07-01', '2014-08-01', '2014-09-01', '2014-10-01',\n",
              "               '2014-11-01', '2014-12-01'],\n",
              "              dtype='datetime64[ns]', length=144, freq='MS')"
            ]
          },
          "metadata": {},
          "execution_count": 4
        }
      ]
    },
    {
      "cell_type": "code",
      "source": [
        "data[\"Months\"] = dates.month\n",
        "data[\"Months\"] = data[\"Months\"].apply(lambda x: calendar.month_abbr[x])   #Because of this line we will get(Jan, Feb) instead of (1st, 2nd) month\n",
        "\n",
        "data[\"Year\"] = dates.year\n",
        "data.rename(columns = {\"Number of Tractor Sold\":\"Tractor-Sales\"}, inplace= True)  \n",
        "data.drop([\"Month-Year\"], axis=1, inplace= True)        #since months and years have already been seperated "
      ],
      "metadata": {
        "id": "4U6wExIkyzKk"
      },
      "execution_count": 5,
      "outputs": []
    },
    {
      "cell_type": "code",
      "source": [
        "data.head()"
      ],
      "metadata": {
        "colab": {
          "base_uri": "https://localhost:8080/",
          "height": 206
        },
        "id": "6IEYMkY1zNG4",
        "outputId": "b3eee13f-0553-4ce6-a9b6-2f371f9e3548"
      },
      "execution_count": 6,
      "outputs": [
        {
          "output_type": "execute_result",
          "data": {
            "text/plain": [
              "   Tractor-Sales Months  Year\n",
              "0            141    Jan  2003\n",
              "1            157    Feb  2003\n",
              "2            185    Mar  2003\n",
              "3            199    Apr  2003\n",
              "4            203    May  2003"
            ],
            "text/html": [
              "\n",
              "  <div id=\"df-24bc53a2-1d41-408e-9197-c84d183ef694\">\n",
              "    <div class=\"colab-df-container\">\n",
              "      <div>\n",
              "<style scoped>\n",
              "    .dataframe tbody tr th:only-of-type {\n",
              "        vertical-align: middle;\n",
              "    }\n",
              "\n",
              "    .dataframe tbody tr th {\n",
              "        vertical-align: top;\n",
              "    }\n",
              "\n",
              "    .dataframe thead th {\n",
              "        text-align: right;\n",
              "    }\n",
              "</style>\n",
              "<table border=\"1\" class=\"dataframe\">\n",
              "  <thead>\n",
              "    <tr style=\"text-align: right;\">\n",
              "      <th></th>\n",
              "      <th>Tractor-Sales</th>\n",
              "      <th>Months</th>\n",
              "      <th>Year</th>\n",
              "    </tr>\n",
              "  </thead>\n",
              "  <tbody>\n",
              "    <tr>\n",
              "      <th>0</th>\n",
              "      <td>141</td>\n",
              "      <td>Jan</td>\n",
              "      <td>2003</td>\n",
              "    </tr>\n",
              "    <tr>\n",
              "      <th>1</th>\n",
              "      <td>157</td>\n",
              "      <td>Feb</td>\n",
              "      <td>2003</td>\n",
              "    </tr>\n",
              "    <tr>\n",
              "      <th>2</th>\n",
              "      <td>185</td>\n",
              "      <td>Mar</td>\n",
              "      <td>2003</td>\n",
              "    </tr>\n",
              "    <tr>\n",
              "      <th>3</th>\n",
              "      <td>199</td>\n",
              "      <td>Apr</td>\n",
              "      <td>2003</td>\n",
              "    </tr>\n",
              "    <tr>\n",
              "      <th>4</th>\n",
              "      <td>203</td>\n",
              "      <td>May</td>\n",
              "      <td>2003</td>\n",
              "    </tr>\n",
              "  </tbody>\n",
              "</table>\n",
              "</div>\n",
              "      <button class=\"colab-df-convert\" onclick=\"convertToInteractive('df-24bc53a2-1d41-408e-9197-c84d183ef694')\"\n",
              "              title=\"Convert this dataframe to an interactive table.\"\n",
              "              style=\"display:none;\">\n",
              "        \n",
              "  <svg xmlns=\"http://www.w3.org/2000/svg\" height=\"24px\"viewBox=\"0 0 24 24\"\n",
              "       width=\"24px\">\n",
              "    <path d=\"M0 0h24v24H0V0z\" fill=\"none\"/>\n",
              "    <path d=\"M18.56 5.44l.94 2.06.94-2.06 2.06-.94-2.06-.94-.94-2.06-.94 2.06-2.06.94zm-11 1L8.5 8.5l.94-2.06 2.06-.94-2.06-.94L8.5 2.5l-.94 2.06-2.06.94zm10 10l.94 2.06.94-2.06 2.06-.94-2.06-.94-.94-2.06-.94 2.06-2.06.94z\"/><path d=\"M17.41 7.96l-1.37-1.37c-.4-.4-.92-.59-1.43-.59-.52 0-1.04.2-1.43.59L10.3 9.45l-7.72 7.72c-.78.78-.78 2.05 0 2.83L4 21.41c.39.39.9.59 1.41.59.51 0 1.02-.2 1.41-.59l7.78-7.78 2.81-2.81c.8-.78.8-2.07 0-2.86zM5.41 20L4 18.59l7.72-7.72 1.47 1.35L5.41 20z\"/>\n",
              "  </svg>\n",
              "      </button>\n",
              "      \n",
              "  <style>\n",
              "    .colab-df-container {\n",
              "      display:flex;\n",
              "      flex-wrap:wrap;\n",
              "      gap: 12px;\n",
              "    }\n",
              "\n",
              "    .colab-df-convert {\n",
              "      background-color: #E8F0FE;\n",
              "      border: none;\n",
              "      border-radius: 50%;\n",
              "      cursor: pointer;\n",
              "      display: none;\n",
              "      fill: #1967D2;\n",
              "      height: 32px;\n",
              "      padding: 0 0 0 0;\n",
              "      width: 32px;\n",
              "    }\n",
              "\n",
              "    .colab-df-convert:hover {\n",
              "      background-color: #E2EBFA;\n",
              "      box-shadow: 0px 1px 2px rgba(60, 64, 67, 0.3), 0px 1px 3px 1px rgba(60, 64, 67, 0.15);\n",
              "      fill: #174EA6;\n",
              "    }\n",
              "\n",
              "    [theme=dark] .colab-df-convert {\n",
              "      background-color: #3B4455;\n",
              "      fill: #D2E3FC;\n",
              "    }\n",
              "\n",
              "    [theme=dark] .colab-df-convert:hover {\n",
              "      background-color: #434B5C;\n",
              "      box-shadow: 0px 1px 3px 1px rgba(0, 0, 0, 0.15);\n",
              "      filter: drop-shadow(0px 1px 2px rgba(0, 0, 0, 0.3));\n",
              "      fill: #FFFFFF;\n",
              "    }\n",
              "  </style>\n",
              "\n",
              "      <script>\n",
              "        const buttonEl =\n",
              "          document.querySelector('#df-24bc53a2-1d41-408e-9197-c84d183ef694 button.colab-df-convert');\n",
              "        buttonEl.style.display =\n",
              "          google.colab.kernel.accessAllowed ? 'block' : 'none';\n",
              "\n",
              "        async function convertToInteractive(key) {\n",
              "          const element = document.querySelector('#df-24bc53a2-1d41-408e-9197-c84d183ef694');\n",
              "          const dataTable =\n",
              "            await google.colab.kernel.invokeFunction('convertToInteractive',\n",
              "                                                     [key], {});\n",
              "          if (!dataTable) return;\n",
              "\n",
              "          const docLinkHtml = 'Like what you see? Visit the ' +\n",
              "            '<a target=\"_blank\" href=https://colab.research.google.com/notebooks/data_table.ipynb>data table notebook</a>'\n",
              "            + ' to learn more about interactive tables.';\n",
              "          element.innerHTML = '';\n",
              "          dataTable['output_type'] = 'display_data';\n",
              "          await google.colab.output.renderOutput(dataTable, element);\n",
              "          const docLink = document.createElement('div');\n",
              "          docLink.innerHTML = docLinkHtml;\n",
              "          element.appendChild(docLink);\n",
              "        }\n",
              "      </script>\n",
              "    </div>\n",
              "  </div>\n",
              "  "
            ]
          },
          "metadata": {},
          "execution_count": 6
        }
      ]
    },
    {
      "cell_type": "code",
      "source": [
        "data.set_index(dates, inplace=True)\n",
        "data.head()"
      ],
      "metadata": {
        "colab": {
          "base_uri": "https://localhost:8080/",
          "height": 206
        },
        "id": "4YZsOhg4zZ9N",
        "outputId": "530fcb23-9a6a-4602-9ff4-b2d67fc44ae6"
      },
      "execution_count": 7,
      "outputs": [
        {
          "output_type": "execute_result",
          "data": {
            "text/plain": [
              "            Tractor-Sales Months  Year\n",
              "2003-01-01            141    Jan  2003\n",
              "2003-02-01            157    Feb  2003\n",
              "2003-03-01            185    Mar  2003\n",
              "2003-04-01            199    Apr  2003\n",
              "2003-05-01            203    May  2003"
            ],
            "text/html": [
              "\n",
              "  <div id=\"df-588e4142-8b06-4e49-976c-e8415e04df05\">\n",
              "    <div class=\"colab-df-container\">\n",
              "      <div>\n",
              "<style scoped>\n",
              "    .dataframe tbody tr th:only-of-type {\n",
              "        vertical-align: middle;\n",
              "    }\n",
              "\n",
              "    .dataframe tbody tr th {\n",
              "        vertical-align: top;\n",
              "    }\n",
              "\n",
              "    .dataframe thead th {\n",
              "        text-align: right;\n",
              "    }\n",
              "</style>\n",
              "<table border=\"1\" class=\"dataframe\">\n",
              "  <thead>\n",
              "    <tr style=\"text-align: right;\">\n",
              "      <th></th>\n",
              "      <th>Tractor-Sales</th>\n",
              "      <th>Months</th>\n",
              "      <th>Year</th>\n",
              "    </tr>\n",
              "  </thead>\n",
              "  <tbody>\n",
              "    <tr>\n",
              "      <th>2003-01-01</th>\n",
              "      <td>141</td>\n",
              "      <td>Jan</td>\n",
              "      <td>2003</td>\n",
              "    </tr>\n",
              "    <tr>\n",
              "      <th>2003-02-01</th>\n",
              "      <td>157</td>\n",
              "      <td>Feb</td>\n",
              "      <td>2003</td>\n",
              "    </tr>\n",
              "    <tr>\n",
              "      <th>2003-03-01</th>\n",
              "      <td>185</td>\n",
              "      <td>Mar</td>\n",
              "      <td>2003</td>\n",
              "    </tr>\n",
              "    <tr>\n",
              "      <th>2003-04-01</th>\n",
              "      <td>199</td>\n",
              "      <td>Apr</td>\n",
              "      <td>2003</td>\n",
              "    </tr>\n",
              "    <tr>\n",
              "      <th>2003-05-01</th>\n",
              "      <td>203</td>\n",
              "      <td>May</td>\n",
              "      <td>2003</td>\n",
              "    </tr>\n",
              "  </tbody>\n",
              "</table>\n",
              "</div>\n",
              "      <button class=\"colab-df-convert\" onclick=\"convertToInteractive('df-588e4142-8b06-4e49-976c-e8415e04df05')\"\n",
              "              title=\"Convert this dataframe to an interactive table.\"\n",
              "              style=\"display:none;\">\n",
              "        \n",
              "  <svg xmlns=\"http://www.w3.org/2000/svg\" height=\"24px\"viewBox=\"0 0 24 24\"\n",
              "       width=\"24px\">\n",
              "    <path d=\"M0 0h24v24H0V0z\" fill=\"none\"/>\n",
              "    <path d=\"M18.56 5.44l.94 2.06.94-2.06 2.06-.94-2.06-.94-.94-2.06-.94 2.06-2.06.94zm-11 1L8.5 8.5l.94-2.06 2.06-.94-2.06-.94L8.5 2.5l-.94 2.06-2.06.94zm10 10l.94 2.06.94-2.06 2.06-.94-2.06-.94-.94-2.06-.94 2.06-2.06.94z\"/><path d=\"M17.41 7.96l-1.37-1.37c-.4-.4-.92-.59-1.43-.59-.52 0-1.04.2-1.43.59L10.3 9.45l-7.72 7.72c-.78.78-.78 2.05 0 2.83L4 21.41c.39.39.9.59 1.41.59.51 0 1.02-.2 1.41-.59l7.78-7.78 2.81-2.81c.8-.78.8-2.07 0-2.86zM5.41 20L4 18.59l7.72-7.72 1.47 1.35L5.41 20z\"/>\n",
              "  </svg>\n",
              "      </button>\n",
              "      \n",
              "  <style>\n",
              "    .colab-df-container {\n",
              "      display:flex;\n",
              "      flex-wrap:wrap;\n",
              "      gap: 12px;\n",
              "    }\n",
              "\n",
              "    .colab-df-convert {\n",
              "      background-color: #E8F0FE;\n",
              "      border: none;\n",
              "      border-radius: 50%;\n",
              "      cursor: pointer;\n",
              "      display: none;\n",
              "      fill: #1967D2;\n",
              "      height: 32px;\n",
              "      padding: 0 0 0 0;\n",
              "      width: 32px;\n",
              "    }\n",
              "\n",
              "    .colab-df-convert:hover {\n",
              "      background-color: #E2EBFA;\n",
              "      box-shadow: 0px 1px 2px rgba(60, 64, 67, 0.3), 0px 1px 3px 1px rgba(60, 64, 67, 0.15);\n",
              "      fill: #174EA6;\n",
              "    }\n",
              "\n",
              "    [theme=dark] .colab-df-convert {\n",
              "      background-color: #3B4455;\n",
              "      fill: #D2E3FC;\n",
              "    }\n",
              "\n",
              "    [theme=dark] .colab-df-convert:hover {\n",
              "      background-color: #434B5C;\n",
              "      box-shadow: 0px 1px 3px 1px rgba(0, 0, 0, 0.15);\n",
              "      filter: drop-shadow(0px 1px 2px rgba(0, 0, 0, 0.3));\n",
              "      fill: #FFFFFF;\n",
              "    }\n",
              "  </style>\n",
              "\n",
              "      <script>\n",
              "        const buttonEl =\n",
              "          document.querySelector('#df-588e4142-8b06-4e49-976c-e8415e04df05 button.colab-df-convert');\n",
              "        buttonEl.style.display =\n",
              "          google.colab.kernel.accessAllowed ? 'block' : 'none';\n",
              "\n",
              "        async function convertToInteractive(key) {\n",
              "          const element = document.querySelector('#df-588e4142-8b06-4e49-976c-e8415e04df05');\n",
              "          const dataTable =\n",
              "            await google.colab.kernel.invokeFunction('convertToInteractive',\n",
              "                                                     [key], {});\n",
              "          if (!dataTable) return;\n",
              "\n",
              "          const docLinkHtml = 'Like what you see? Visit the ' +\n",
              "            '<a target=\"_blank\" href=https://colab.research.google.com/notebooks/data_table.ipynb>data table notebook</a>'\n",
              "            + ' to learn more about interactive tables.';\n",
              "          element.innerHTML = '';\n",
              "          dataTable['output_type'] = 'display_data';\n",
              "          await google.colab.output.renderOutput(dataTable, element);\n",
              "          const docLink = document.createElement('div');\n",
              "          docLink.innerHTML = docLinkHtml;\n",
              "          element.appendChild(docLink);\n",
              "        }\n",
              "      </script>\n",
              "    </div>\n",
              "  </div>\n",
              "  "
            ]
          },
          "metadata": {},
          "execution_count": 7
        }
      ]
    },
    {
      "cell_type": "code",
      "source": [
        "data.columns"
      ],
      "metadata": {
        "colab": {
          "base_uri": "https://localhost:8080/"
        },
        "id": "tfhOvZ7B0GgR",
        "outputId": "4d0bd788-0245-4a7e-ac1c-eb6fb3902882"
      },
      "execution_count": 8,
      "outputs": [
        {
          "output_type": "execute_result",
          "data": {
            "text/plain": [
              "Index(['Tractor-Sales', 'Months', 'Year'], dtype='object')"
            ]
          },
          "metadata": {},
          "execution_count": 8
        }
      ]
    },
    {
      "cell_type": "code",
      "source": [
        "#BY PLOTTING\n",
        "data_ts= data[\"Tractor-Sales\"]\n",
        "plt.figure(figsize=(10,5))\n",
        "plt.plot(data_ts)\n",
        "plt.xlabel(\"Years\")\n",
        "plt.ylabel(\"Tractor Sales\")"
      ],
      "metadata": {
        "colab": {
          "base_uri": "https://localhost:8080/",
          "height": 353
        },
        "id": "9AwTVuXD1Ivg",
        "outputId": "6d5771d8-1bde-4fb7-ab0e-2a8599bfe02c"
      },
      "execution_count": 9,
      "outputs": [
        {
          "output_type": "execute_result",
          "data": {
            "text/plain": [
              "Text(0, 0.5, 'Tractor Sales')"
            ]
          },
          "metadata": {},
          "execution_count": 9
        },
        {
          "output_type": "display_data",
          "data": {
            "text/plain": [
              "<Figure size 720x360 with 1 Axes>"
            ],
            "image/png": "[encoded data removed]"
          },
          "metadata": {
            "needs_background": "light"
          }
        }
      ]
    },
    {
      "cell_type": "code",
      "source": [
        "#Through graph we can see that the tractor salaes in non stationary"
      ],
      "metadata": {
        "id": "pUI5HxYp1gtJ"
      },
      "execution_count": 10,
      "outputs": []
    },
    {
      "cell_type": "code",
      "source": [
        "X = data[\"Tractor-Sales\"].values            #For futher confirmation \n",
        "result = adfuller(X)\n",
        "print('ADF Statistic: %f' % result[0])\n",
        "print('p-value: %f' % result[1])\n",
        "print('Critical Values:')\n",
        "for key, value in result[4].items():\n",
        "    print('\\t%s: %.3f' % (key, value))\n",
        "    \n",
        "if result[0] < result[4][\"5%\"]:\n",
        "    print (\"Reject Ho - Time Series is Stationary\")\n",
        "else:\n",
        "    print (\"Failed to Reject Ho - Time Series is Non-Stationary\") "
      ],
      "metadata": {
        "colab": {
          "base_uri": "https://localhost:8080/"
        },
        "id": "vCfBWbyL1BV3",
        "outputId": "46173591-b19f-4871-d9e0-d24fc490ff80"
      },
      "execution_count": 11,
      "outputs": [
        {
          "output_type": "stream",
          "name": "stdout",
          "text": [
            "ADF Statistic: 1.108825\n",
            "p-value: 0.995291\n",
            "Critical Values:\n",
            "\t1%: -3.482\n",
            "\t5%: -2.884\n",
            "\t10%: -2.579\n",
            "Failed to Reject Ho - Time Series is Non-Stationary\n"
          ]
        }
      ]
    },
    {
      "cell_type": "code",
      "source": [
        ""
      ],
      "metadata": {
        "id": "FcNCHpqy2EG1"
      },
      "execution_count": 11,
      "outputs": []
    },
    {
      "cell_type": "markdown",
      "source": [
        "# Decomposition\n"
      ],
      "metadata": {
        "id": "r0QWWylq4mr9"
      }
    },
    {
      "cell_type": "code",
      "source": [
        "roll_mean = data_ts.rolling(window=12).mean()\n",
        "roll_std = data_ts.rolling(window=12).std()\n"
      ],
      "metadata": {
        "id": "8z3-Ot5Z3Uv6"
      },
      "execution_count": 12,
      "outputs": []
    },
    {
      "cell_type": "code",
      "source": [
        "#Plotting Rolling Stats\n",
        "orig = plt.plot(data_ts, label=\"Orignal\")\n",
        "mean = plt.plot(roll_mean, label=\"Rolling Mean\")\n",
        "std = plt.plot(roll_std, label=\"Rolling Std\")\n",
        "plt.legend(loc=\"best\")\n",
        "plt.title(\"Rolling Mean & Standard Deviation\")\n",
        "plt.show()"
      ],
      "metadata": {
        "colab": {
          "base_uri": "https://localhost:8080/",
          "height": 281
        },
        "id": "fGto3_EN5AJO",
        "outputId": "0629ff9b-0a4d-42b2-c9d7-a6f7d17e3b15"
      },
      "execution_count": 13,
      "outputs": [
        {
          "output_type": "display_data",
          "data": {
            "text/plain": [
              "<Figure size 432x288 with 1 Axes>"
            ],
            "image/png": "[encoded data removed]"
          },
          "metadata": {
            "needs_background": "light"
          }
        }
      ]
    },
    {
      "cell_type": "code",
      "source": [
        ""
      ],
      "metadata": {
        "id": "OTfeU5Of5Jx5"
      },
      "execution_count": 13,
      "outputs": []
    },
    {
      "cell_type": "markdown",
      "source": [
        "###Pivot Table for monthly sales"
      ],
      "metadata": {
        "id": "zi-SwM825dnY"
      }
    },
    {
      "cell_type": "code",
      "source": [
        "monthly_sales = pd.pivot_table(data, values= \"Tractor-Sales\",columns=\"Year\",index=\"Months\")\n",
        "monthly_sales"
      ],
      "metadata": {
        "colab": {
          "base_uri": "https://localhost:8080/",
          "height": 457
        },
        "id": "0uvo-eAT5l3d",
        "outputId": "2c15a79c-7912-41ad-f774-11c008bd9cf3"
      },
      "execution_count": 14,
      "outputs": [
        {
          "output_type": "execute_result",
          "data": {
            "text/plain": [
              "Year    2003  2004  2005  2006  2007  2008  2009  2010  2011  2012  2013  2014\n",
              "Months                                                                        \n",
              "Apr      199   208   251   279   362   350   414   482   536   536   610   710\n",
              "Aug      207   238   279   339   381   410   486   567   654   707   783   848\n",
              "Dec      165   196   232   272   281   321   389   428   470   472   567   605\n",
              "Feb      157   168   200   239   261   250   310   368   400   423   455   520\n",
              "Jan      141   145   183   215   247   257   305   358   397   428   454   525\n",
              "Jul      207   238   279   322   370   423   510   578   651   687   767   871\n",
              "Jun      189   209   249   305   340   370   441   524   591   609   661   749\n",
              "Mar      185   197   249   270   330   329   374   444   498   507   568   587\n",
              "May      203   210   289   307   385   393   454   534   596   610   706   793\n",
              "Nov      138   152   194   229   239   270   315   360   406   412   481   519\n",
              "Oct      150   168   204   241   266   289   345   386   437   452   513   581\n",
              "Sep      171   199   232   263   299   326   393   447   509   509   583   640"
            ],
            "text/html": [
              "\n",
              "  <div id=\"df-24d8f89c-1186-471a-87d4-afbe7b3ae088\">\n",
              "    <div class=\"colab-df-container\">\n",
              "      <div>\n",
              "<style scoped>\n",
              "    .dataframe tbody tr th:only-of-type {\n",
              "        vertical-align: middle;\n",
              "    }\n",
              "\n",
              "    .dataframe tbody tr th {\n",
              "        vertical-align: top;\n",
              "    }\n",
              "\n",
              "    .dataframe thead th {\n",
              "        text-align: right;\n",
              "    }\n",
              "</style>\n",
              "<table border=\"1\" class=\"dataframe\">\n",
              "  <thead>\n",
              "    <tr style=\"text-align: right;\">\n",
              "      <th>Year</th>\n",
              "      <th>2003</th>\n",
              "      <th>2004</th>\n",
              "      <th>2005</th>\n",
              "      <th>2006</th>\n",
              "      <th>2007</th>\n",
              "      <th>2008</th>\n",
              "      <th>2009</th>\n",
              "      <th>2010</th>\n",
              "      <th>2011</th>\n",
              "      <th>2012</th>\n",
              "      <th>2013</th>\n",
              "      <th>2014</th>\n",
              "    </tr>\n",
              "    <tr>\n",
              "      <th>Months</th>\n",
              "      <th></th>\n",
              "      <th></th>\n",
              "      <th></th>\n",
              "      <th></th>\n",
              "      <th></th>\n",
              "      <th></th>\n",
              "      <th></th>\n",
              "      <th></th>\n",
              "      <th></th>\n",
              "      <th></th>\n",
              "      <th></th>\n",
              "      <th></th>\n",
              "    </tr>\n",
              "  </thead>\n",
              "  <tbody>\n",
              "    <tr>\n",
              "      <th>Apr</th>\n",
              "      <td>199</td>\n",
              "      <td>208</td>\n",
              "      <td>251</td>\n",
              "      <td>279</td>\n",
              "      <td>362</td>\n",
              "      <td>350</td>\n",
              "      <td>414</td>\n",
              "      <td>482</td>\n",
              "      <td>536</td>\n",
              "      <td>536</td>\n",
              "      <td>610</td>\n",
              "      <td>710</td>\n",
              "    </tr>\n",
              "    <tr>\n",
              "      <th>Aug</th>\n",
              "      <td>207</td>\n",
              "      <td>238</td>\n",
              "      <td>279</td>\n",
              "      <td>339</td>\n",
              "      <td>381</td>\n",
              "      <td>410</td>\n",
              "      <td>486</td>\n",
              "      <td>567</td>\n",
              "      <td>654</td>\n",
              "      <td>707</td>\n",
              "      <td>783</td>\n",
              "      <td>848</td>\n",
              "    </tr>\n",
              "    <tr>\n",
              "      <th>Dec</th>\n",
              "      <td>165</td>\n",
              "      <td>196</td>\n",
              "      <td>232</td>\n",
              "      <td>272</td>\n",
              "      <td>281</td>\n",
              "      <td>321</td>\n",
              "      <td>389</td>\n",
              "      <td>428</td>\n",
              "      <td>470</td>\n",
              "      <td>472</td>\n",
              "      <td>567</td>\n",
              "      <td>605</td>\n",
              "    </tr>\n",
              "    <tr>\n",
              "      <th>Feb</th>\n",
              "      <td>157</td>\n",
              "      <td>168</td>\n",
              "      <td>200</td>\n",
              "      <td>239</td>\n",
              "      <td>261</td>\n",
              "      <td>250</td>\n",
              "      <td>310</td>\n",
              "      <td>368</td>\n",
              "      <td>400</td>\n",
              "      <td>423</td>\n",
              "      <td>455</td>\n",
              "      <td>520</td>\n",
              "    </tr>\n",
              "    <tr>\n",
              "      <th>Jan</th>\n",
              "      <td>141</td>\n",
              "      <td>145</td>\n",
              "      <td>183</td>\n",
              "      <td>215</td>\n",
              "      <td>247</td>\n",
              "      <td>257</td>\n",
              "      <td>305</td>\n",
              "      <td>358</td>\n",
              "      <td>397</td>\n",
              "      <td>428</td>\n",
              "      <td>454</td>\n",
              "      <td>525</td>\n",
              "    </tr>\n",
              "    <tr>\n",
              "      <th>Jul</th>\n",
              "      <td>207</td>\n",
              "      <td>238</td>\n",
              "      <td>279</td>\n",
              "      <td>322</td>\n",
              "      <td>370</td>\n",
              "      <td>423</td>\n",
              "      <td>510</td>\n",
              "      <td>578</td>\n",
              "      <td>651</td>\n",
              "      <td>687</td>\n",
              "      <td>767</td>\n",
              "      <td>871</td>\n",
              "    </tr>\n",
              "    <tr>\n",
              "      <th>Jun</th>\n",
              "      <td>189</td>\n",
              "      <td>209</td>\n",
              "      <td>249</td>\n",
              "      <td>305</td>\n",
              "      <td>340</td>\n",
              "      <td>370</td>\n",
              "      <td>441</td>\n",
              "      <td>524</td>\n",
              "      <td>591</td>\n",
              "      <td>609</td>\n",
              "      <td>661</td>\n",
              "      <td>749</td>\n",
              "    </tr>\n",
              "    <tr>\n",
              "      <th>Mar</th>\n",
              "      <td>185</td>\n",
              "      <td>197</td>\n",
              "      <td>249</td>\n",
              "      <td>270</td>\n",
              "      <td>330</td>\n",
              "      <td>329</td>\n",
              "      <td>374</td>\n",
              "      <td>444</td>\n",
              "      <td>498</td>\n",
              "      <td>507</td>\n",
              "      <td>568</td>\n",
              "      <td>587</td>\n",
              "    </tr>\n",
              "    <tr>\n",
              "      <th>May</th>\n",
              "      <td>203</td>\n",
              "      <td>210</td>\n",
              "      <td>289</td>\n",
              "      <td>307</td>\n",
              "      <td>385</td>\n",
              "      <td>393</td>\n",
              "      <td>454</td>\n",
              "      <td>534</td>\n",
              "      <td>596</td>\n",
              "      <td>610</td>\n",
              "      <td>706</td>\n",
              "      <td>793</td>\n",
              "    </tr>\n",
              "    <tr>\n",
              "      <th>Nov</th>\n",
              "      <td>138</td>\n",
              "      <td>152</td>\n",
              "      <td>194</td>\n",
              "      <td>229</td>\n",
              "      <td>239</td>\n",
              "      <td>270</td>\n",
              "      <td>315</td>\n",
              "      <td>360</td>\n",
              "      <td>406</td>\n",
              "      <td>412</td>\n",
              "      <td>481</td>\n",
              "      <td>519</td>\n",
              "    </tr>\n",
              "    <tr>\n",
              "      <th>Oct</th>\n",
              "      <td>150</td>\n",
              "      <td>168</td>\n",
              "      <td>204</td>\n",
              "      <td>241</td>\n",
              "      <td>266</td>\n",
              "      <td>289</td>\n",
              "      <td>345</td>\n",
              "      <td>386</td>\n",
              "      <td>437</td>\n",
              "      <td>452</td>\n",
              "      <td>513</td>\n",
              "      <td>581</td>\n",
              "    </tr>\n",
              "    <tr>\n",
              "      <th>Sep</th>\n",
              "      <td>171</td>\n",
              "      <td>199</td>\n",
              "      <td>232</td>\n",
              "      <td>263</td>\n",
              "      <td>299</td>\n",
              "      <td>326</td>\n",
              "      <td>393</td>\n",
              "      <td>447</td>\n",
              "      <td>509</td>\n",
              "      <td>509</td>\n",
              "      <td>583</td>\n",
              "      <td>640</td>\n",
              "    </tr>\n",
              "  </tbody>\n",
              "</table>\n",
              "</div>\n",
              "      <button class=\"colab-df-convert\" onclick=\"convertToInteractive('df-24d8f89c-1186-471a-87d4-afbe7b3ae088')\"\n",
              "              title=\"Convert this dataframe to an interactive table.\"\n",
              "              style=\"display:none;\">\n",
              "        \n",
              "  <svg xmlns=\"http://www.w3.org/2000/svg\" height=\"24px\"viewBox=\"0 0 24 24\"\n",
              "       width=\"24px\">\n",
              "    <path d=\"M0 0h24v24H0V0z\" fill=\"none\"/>\n",
              "    <path d=\"M18.56 5.44l.94 2.06.94-2.06 2.06-.94-2.06-.94-.94-2.06-.94 2.06-2.06.94zm-11 1L8.5 8.5l.94-2.06 2.06-.94-2.06-.94L8.5 2.5l-.94 2.06-2.06.94zm10 10l.94 2.06.94-2.06 2.06-.94-2.06-.94-.94-2.06-.94 2.06-2.06.94z\"/><path d=\"M17.41 7.96l-1.37-1.37c-.4-.4-.92-.59-1.43-.59-.52 0-1.04.2-1.43.59L10.3 9.45l-7.72 7.72c-.78.78-.78 2.05 0 2.83L4 21.41c.39.39.9.59 1.41.59.51 0 1.02-.2 1.41-.59l7.78-7.78 2.81-2.81c.8-.78.8-2.07 0-2.86zM5.41 20L4 18.59l7.72-7.72 1.47 1.35L5.41 20z\"/>\n",
              "  </svg>\n",
              "      </button>\n",
              "      \n",
              "  <style>\n",
              "    .colab-df-container {\n",
              "      display:flex;\n",
              "      flex-wrap:wrap;\n",
              "      gap: 12px;\n",
              "    }\n",
              "\n",
              "    .colab-df-convert {\n",
              "      background-color: #E8F0FE;\n",
              "      border: none;\n",
              "      border-radius: 50%;\n",
              "      cursor: pointer;\n",
              "      display: none;\n",
              "      fill: #1967D2;\n",
              "      height: 32px;\n",
              "      padding: 0 0 0 0;\n",
              "      width: 32px;\n",
              "    }\n",
              "\n",
              "    .colab-df-convert:hover {\n",
              "      background-color: #E2EBFA;\n",
              "      box-shadow: 0px 1px 2px rgba(60, 64, 67, 0.3), 0px 1px 3px 1px rgba(60, 64, 67, 0.15);\n",
              "      fill: #174EA6;\n",
              "    }\n",
              "\n",
              "    [theme=dark] .colab-df-convert {\n",
              "      background-color: #3B4455;\n",
              "      fill: #D2E3FC;\n",
              "    }\n",
              "\n",
              "    [theme=dark] .colab-df-convert:hover {\n",
              "      background-color: #434B5C;\n",
              "      box-shadow: 0px 1px 3px 1px rgba(0, 0, 0, 0.15);\n",
              "      filter: drop-shadow(0px 1px 2px rgba(0, 0, 0, 0.3));\n",
              "      fill: #FFFFFF;\n",
              "    }\n",
              "  </style>\n",
              "\n",
              "      <script>\n",
              "        const buttonEl =\n",
              "          document.querySelector('#df-24d8f89c-1186-471a-87d4-afbe7b3ae088 button.colab-df-convert');\n",
              "        buttonEl.style.display =\n",
              "          google.colab.kernel.accessAllowed ? 'block' : 'none';\n",
              "\n",
              "        async function convertToInteractive(key) {\n",
              "          const element = document.querySelector('#df-24d8f89c-1186-471a-87d4-afbe7b3ae088');\n",
              "          const dataTable =\n",
              "            await google.colab.kernel.invokeFunction('convertToInteractive',\n",
              "                                                     [key], {});\n",
              "          if (!dataTable) return;\n",
              "\n",
              "          const docLinkHtml = 'Like what you see? Visit the ' +\n",
              "            '<a target=\"_blank\" href=https://colab.research.google.com/notebooks/data_table.ipynb>data table notebook</a>'\n",
              "            + ' to learn more about interactive tables.';\n",
              "          element.innerHTML = '';\n",
              "          dataTable['output_type'] = 'display_data';\n",
              "          await google.colab.output.renderOutput(dataTable, element);\n",
              "          const docLink = document.createElement('div');\n",
              "          docLink.innerHTML = docLinkHtml;\n",
              "          element.appendChild(docLink);\n",
              "        }\n",
              "      </script>\n",
              "    </div>\n",
              "  </div>\n",
              "  "
            ]
          },
          "metadata": {},
          "execution_count": 14
        }
      ]
    },
    {
      "cell_type": "code",
      "source": [
        "#Re-Index \n",
        "monthly_sales= monthly_sales.reindex(index = ['Jan','Feb','Mar', 'Apr', 'May', 'Jun', 'Jul', 'Aug', 'Sep', 'Oct', 'Nov', 'Dec'])\n",
        "monthly_sales"
      ],
      "metadata": {
        "colab": {
          "base_uri": "https://localhost:8080/",
          "height": 457
        },
        "id": "xhHZf-M75ptV",
        "outputId": "4c4916e1-63dc-41a3-b893-9a766f62700d"
      },
      "execution_count": 15,
      "outputs": [
        {
          "output_type": "execute_result",
          "data": {
            "text/plain": [
              "Year    2003  2004  2005  2006  2007  2008  2009  2010  2011  2012  2013  2014\n",
              "Months                                                                        \n",
              "Jan      141   145   183   215   247   257   305   358   397   428   454   525\n",
              "Feb      157   168   200   239   261   250   310   368   400   423   455   520\n",
              "Mar      185   197   249   270   330   329   374   444   498   507   568   587\n",
              "Apr      199   208   251   279   362   350   414   482   536   536   610   710\n",
              "May      203   210   289   307   385   393   454   534   596   610   706   793\n",
              "Jun      189   209   249   305   340   370   441   524   591   609   661   749\n",
              "Jul      207   238   279   322   370   423   510   578   651   687   767   871\n",
              "Aug      207   238   279   339   381   410   486   567   654   707   783   848\n",
              "Sep      171   199   232   263   299   326   393   447   509   509   583   640\n",
              "Oct      150   168   204   241   266   289   345   386   437   452   513   581\n",
              "Nov      138   152   194   229   239   270   315   360   406   412   481   519\n",
              "Dec      165   196   232   272   281   321   389   428   470   472   567   605"
            ],
            "text/html": [
              "\n",
              "  <div id=\"df-1e76e279-6954-4327-b35e-764d61662891\">\n",
              "    <div class=\"colab-df-container\">\n",
              "      <div>\n",
              "<style scoped>\n",
              "    .dataframe tbody tr th:only-of-type {\n",
              "        vertical-align: middle;\n",
              "    }\n",
              "\n",
              "    .dataframe tbody tr th {\n",
              "        vertical-align: top;\n",
              "    }\n",
              "\n",
              "    .dataframe thead th {\n",
              "        text-align: right;\n",
              "    }\n",
              "</style>\n",
              "<table border=\"1\" class=\"dataframe\">\n",
              "  <thead>\n",
              "    <tr style=\"text-align: right;\">\n",
              "      <th>Year</th>\n",
              "      <th>2003</th>\n",
              "      <th>2004</th>\n",
              "      <th>2005</th>\n",
              "      <th>2006</th>\n",
              "      <th>2007</th>\n",
              "      <th>2008</th>\n",
              "      <th>2009</th>\n",
              "      <th>2010</th>\n",
              "      <th>2011</th>\n",
              "      <th>2012</th>\n",
              "      <th>2013</th>\n",
              "      <th>2014</th>\n",
              "    </tr>\n",
              "    <tr>\n",
              "      <th>Months</th>\n",
              "      <th></th>\n",
              "      <th></th>\n",
              "      <th></th>\n",
              "      <th></th>\n",
              "      <th></th>\n",
              "      <th></th>\n",
              "      <th></th>\n",
              "      <th></th>\n",
              "      <th></th>\n",
              "      <th></th>\n",
              "      <th></th>\n",
              "      <th></th>\n",
              "    </tr>\n",
              "  </thead>\n",
              "  <tbody>\n",
              "    <tr>\n",
              "      <th>Jan</th>\n",
              "      <td>141</td>\n",
              "      <td>145</td>\n",
              "      <td>183</td>\n",
              "      <td>215</td>\n",
              "      <td>247</td>\n",
              "      <td>257</td>\n",
              "      <td>305</td>\n",
              "      <td>358</td>\n",
              "      <td>397</td>\n",
              "      <td>428</td>\n",
              "      <td>454</td>\n",
              "      <td>525</td>\n",
              "    </tr>\n",
              "    <tr>\n",
              "      <th>Feb</th>\n",
              "      <td>157</td>\n",
              "      <td>168</td>\n",
              "      <td>200</td>\n",
              "      <td>239</td>\n",
              "      <td>261</td>\n",
              "      <td>250</td>\n",
              "      <td>310</td>\n",
              "      <td>368</td>\n",
              "      <td>400</td>\n",
              "      <td>423</td>\n",
              "      <td>455</td>\n",
              "      <td>520</td>\n",
              "    </tr>\n",
              "    <tr>\n",
              "      <th>Mar</th>\n",
              "      <td>185</td>\n",
              "      <td>197</td>\n",
              "      <td>249</td>\n",
              "      <td>270</td>\n",
              "      <td>330</td>\n",
              "      <td>329</td>\n",
              "      <td>374</td>\n",
              "      <td>444</td>\n",
              "      <td>498</td>\n",
              "      <td>507</td>\n",
              "      <td>568</td>\n",
              "      <td>587</td>\n",
              "    </tr>\n",
              "    <tr>\n",
              "      <th>Apr</th>\n",
              "      <td>199</td>\n",
              "      <td>208</td>\n",
              "      <td>251</td>\n",
              "      <td>279</td>\n",
              "      <td>362</td>\n",
              "      <td>350</td>\n",
              "      <td>414</td>\n",
              "      <td>482</td>\n",
              "      <td>536</td>\n",
              "      <td>536</td>\n",
              "      <td>610</td>\n",
              "      <td>710</td>\n",
              "    </tr>\n",
              "    <tr>\n",
              "      <th>May</th>\n",
              "      <td>203</td>\n",
              "      <td>210</td>\n",
              "      <td>289</td>\n",
              "      <td>307</td>\n",
              "      <td>385</td>\n",
              "      <td>393</td>\n",
              "      <td>454</td>\n",
              "      <td>534</td>\n",
              "      <td>596</td>\n",
              "      <td>610</td>\n",
              "      <td>706</td>\n",
              "      <td>793</td>\n",
              "    </tr>\n",
              "    <tr>\n",
              "      <th>Jun</th>\n",
              "      <td>189</td>\n",
              "      <td>209</td>\n",
              "      <td>249</td>\n",
              "      <td>305</td>\n",
              "      <td>340</td>\n",
              "      <td>370</td>\n",
              "      <td>441</td>\n",
              "      <td>524</td>\n",
              "      <td>591</td>\n",
              "      <td>609</td>\n",
              "      <td>661</td>\n",
              "      <td>749</td>\n",
              "    </tr>\n",
              "    <tr>\n",
              "      <th>Jul</th>\n",
              "      <td>207</td>\n",
              "      <td>238</td>\n",
              "      <td>279</td>\n",
              "      <td>322</td>\n",
              "      <td>370</td>\n",
              "      <td>423</td>\n",
              "      <td>510</td>\n",
              "      <td>578</td>\n",
              "      <td>651</td>\n",
              "      <td>687</td>\n",
              "      <td>767</td>\n",
              "      <td>871</td>\n",
              "    </tr>\n",
              "    <tr>\n",
              "      <th>Aug</th>\n",
              "      <td>207</td>\n",
              "      <td>238</td>\n",
              "      <td>279</td>\n",
              "      <td>339</td>\n",
              "      <td>381</td>\n",
              "      <td>410</td>\n",
              "      <td>486</td>\n",
              "      <td>567</td>\n",
              "      <td>654</td>\n",
              "      <td>707</td>\n",
              "      <td>783</td>\n",
              "      <td>848</td>\n",
              "    </tr>\n",
              "    <tr>\n",
              "      <th>Sep</th>\n",
              "      <td>171</td>\n",
              "      <td>199</td>\n",
              "      <td>232</td>\n",
              "      <td>263</td>\n",
              "      <td>299</td>\n",
              "      <td>326</td>\n",
              "      <td>393</td>\n",
              "      <td>447</td>\n",
              "      <td>509</td>\n",
              "      <td>509</td>\n",
              "      <td>583</td>\n",
              "      <td>640</td>\n",
              "    </tr>\n",
              "    <tr>\n",
              "      <th>Oct</th>\n",
              "      <td>150</td>\n",
              "      <td>168</td>\n",
              "      <td>204</td>\n",
              "      <td>241</td>\n",
              "      <td>266</td>\n",
              "      <td>289</td>\n",
              "      <td>345</td>\n",
              "      <td>386</td>\n",
              "      <td>437</td>\n",
              "      <td>452</td>\n",
              "      <td>513</td>\n",
              "      <td>581</td>\n",
              "    </tr>\n",
              "    <tr>\n",
              "      <th>Nov</th>\n",
              "      <td>138</td>\n",
              "      <td>152</td>\n",
              "      <td>194</td>\n",
              "      <td>229</td>\n",
              "      <td>239</td>\n",
              "      <td>270</td>\n",
              "      <td>315</td>\n",
              "      <td>360</td>\n",
              "      <td>406</td>\n",
              "      <td>412</td>\n",
              "      <td>481</td>\n",
              "      <td>519</td>\n",
              "    </tr>\n",
              "    <tr>\n",
              "      <th>Dec</th>\n",
              "      <td>165</td>\n",
              "      <td>196</td>\n",
              "      <td>232</td>\n",
              "      <td>272</td>\n",
              "      <td>281</td>\n",
              "      <td>321</td>\n",
              "      <td>389</td>\n",
              "      <td>428</td>\n",
              "      <td>470</td>\n",
              "      <td>472</td>\n",
              "      <td>567</td>\n",
              "      <td>605</td>\n",
              "    </tr>\n",
              "  </tbody>\n",
              "</table>\n",
              "</div>\n",
              "      <button class=\"colab-df-convert\" onclick=\"convertToInteractive('df-1e76e279-6954-4327-b35e-764d61662891')\"\n",
              "              title=\"Convert this dataframe to an interactive table.\"\n",
              "              style=\"display:none;\">\n",
              "        \n",
              "  <svg xmlns=\"http://www.w3.org/2000/svg\" height=\"24px\"viewBox=\"0 0 24 24\"\n",
              "       width=\"24px\">\n",
              "    <path d=\"M0 0h24v24H0V0z\" fill=\"none\"/>\n",
              "    <path d=\"M18.56 5.44l.94 2.06.94-2.06 2.06-.94-2.06-.94-.94-2.06-.94 2.06-2.06.94zm-11 1L8.5 8.5l.94-2.06 2.06-.94-2.06-.94L8.5 2.5l-.94 2.06-2.06.94zm10 10l.94 2.06.94-2.06 2.06-.94-2.06-.94-.94-2.06-.94 2.06-2.06.94z\"/><path d=\"M17.41 7.96l-1.37-1.37c-.4-.4-.92-.59-1.43-.59-.52 0-1.04.2-1.43.59L10.3 9.45l-7.72 7.72c-.78.78-.78 2.05 0 2.83L4 21.41c.39.39.9.59 1.41.59.51 0 1.02-.2 1.41-.59l7.78-7.78 2.81-2.81c.8-.78.8-2.07 0-2.86zM5.41 20L4 18.59l7.72-7.72 1.47 1.35L5.41 20z\"/>\n",
              "  </svg>\n",
              "      </button>\n",
              "      \n",
              "  <style>\n",
              "    .colab-df-container {\n",
              "      display:flex;\n",
              "      flex-wrap:wrap;\n",
              "      gap: 12px;\n",
              "    }\n",
              "\n",
              "    .colab-df-convert {\n",
              "      background-color: #E8F0FE;\n",
              "      border: none;\n",
              "      border-radius: 50%;\n",
              "      cursor: pointer;\n",
              "      display: none;\n",
              "      fill: #1967D2;\n",
              "      height: 32px;\n",
              "      padding: 0 0 0 0;\n",
              "      width: 32px;\n",
              "    }\n",
              "\n",
              "    .colab-df-convert:hover {\n",
              "      background-color: #E2EBFA;\n",
              "      box-shadow: 0px 1px 2px rgba(60, 64, 67, 0.3), 0px 1px 3px 1px rgba(60, 64, 67, 0.15);\n",
              "      fill: #174EA6;\n",
              "    }\n",
              "\n",
              "    [theme=dark] .colab-df-convert {\n",
              "      background-color: #3B4455;\n",
              "      fill: #D2E3FC;\n",
              "    }\n",
              "\n",
              "    [theme=dark] .colab-df-convert:hover {\n",
              "      background-color: #434B5C;\n",
              "      box-shadow: 0px 1px 3px 1px rgba(0, 0, 0, 0.15);\n",
              "      filter: drop-shadow(0px 1px 2px rgba(0, 0, 0, 0.3));\n",
              "      fill: #FFFFFF;\n",
              "    }\n",
              "  </style>\n",
              "\n",
              "      <script>\n",
              "        const buttonEl =\n",
              "          document.querySelector('#df-1e76e279-6954-4327-b35e-764d61662891 button.colab-df-convert');\n",
              "        buttonEl.style.display =\n",
              "          google.colab.kernel.accessAllowed ? 'block' : 'none';\n",
              "\n",
              "        async function convertToInteractive(key) {\n",
              "          const element = document.querySelector('#df-1e76e279-6954-4327-b35e-764d61662891');\n",
              "          const dataTable =\n",
              "            await google.colab.kernel.invokeFunction('convertToInteractive',\n",
              "                                                     [key], {});\n",
              "          if (!dataTable) return;\n",
              "\n",
              "          const docLinkHtml = 'Like what you see? Visit the ' +\n",
              "            '<a target=\"_blank\" href=https://colab.research.google.com/notebooks/data_table.ipynb>data table notebook</a>'\n",
              "            + ' to learn more about interactive tables.';\n",
              "          element.innerHTML = '';\n",
              "          dataTable['output_type'] = 'display_data';\n",
              "          await google.colab.output.renderOutput(dataTable, element);\n",
              "          const docLink = document.createElement('div');\n",
              "          docLink.innerHTML = docLinkHtml;\n",
              "          element.appendChild(docLink);\n",
              "        }\n",
              "      </script>\n",
              "    </div>\n",
              "  </div>\n",
              "  "
            ]
          },
          "metadata": {},
          "execution_count": 15
        }
      ]
    },
    {
      "cell_type": "code",
      "source": [
        "monthly_sales.plot()"
      ],
      "metadata": {
        "colab": {
          "base_uri": "https://localhost:8080/",
          "height": 299
        },
        "id": "7A_DCTYy5w29",
        "outputId": "0e65997a-3312-4c6c-ade2-9a1bb7d83c41"
      },
      "execution_count": 16,
      "outputs": [
        {
          "output_type": "execute_result",
          "data": {
            "text/plain": [
              "<matplotlib.axes._subplots.AxesSubplot at 0x7f8f726965d0>"
            ]
          },
          "metadata": {},
          "execution_count": 16
        },
        {
          "output_type": "display_data",
          "data": {
            "text/plain": [
              "<Figure size 432x288 with 1 Axes>"
            ],
            "image/png": "[encoded data removed]"
          },
          "metadata": {
            "needs_background": "light"
          }
        }
      ]
    },
    {
      "cell_type": "code",
      "source": [
        ""
      ],
      "metadata": {
        "id": "xO8SLpvb502C"
      },
      "execution_count": 16,
      "outputs": []
    },
    {
      "cell_type": "markdown",
      "source": [
        "### Yearly Data plot using box plot"
      ],
      "metadata": {
        "id": "KOistwSx54VD"
      }
    },
    {
      "cell_type": "code",
      "source": [
        "yearly_sales= pd.pivot_table(data, values = \"Tractor-Sales\", columns = \"Months\", index = \"Year\")\n",
        "yearly_sales"
      ],
      "metadata": {
        "colab": {
          "base_uri": "https://localhost:8080/",
          "height": 457
        },
        "id": "rMH_JG206GDV",
        "outputId": "16680508-e74c-4189-ddc9-dbc208dc2dc2"
      },
      "execution_count": 17,
      "outputs": [
        {
          "output_type": "execute_result",
          "data": {
            "text/plain": [
              "Months  Apr  Aug  Dec  Feb  Jan  Jul  Jun  Mar  May  Nov  Oct  Sep\n",
              "Year                                                              \n",
              "2003    199  207  165  157  141  207  189  185  203  138  150  171\n",
              "2004    208  238  196  168  145  238  209  197  210  152  168  199\n",
              "2005    251  279  232  200  183  279  249  249  289  194  204  232\n",
              "2006    279  339  272  239  215  322  305  270  307  229  241  263\n",
              "2007    362  381  281  261  247  370  340  330  385  239  266  299\n",
              "2008    350  410  321  250  257  423  370  329  393  270  289  326\n",
              "2009    414  486  389  310  305  510  441  374  454  315  345  393\n",
              "2010    482  567  428  368  358  578  524  444  534  360  386  447\n",
              "2011    536  654  470  400  397  651  591  498  596  406  437  509\n",
              "2012    536  707  472  423  428  687  609  507  610  412  452  509\n",
              "2013    610  783  567  455  454  767  661  568  706  481  513  583\n",
              "2014    710  848  605  520  525  871  749  587  793  519  581  640"
            ],
            "text/html": [
              "\n",
              "  <div id=\"df-ec16343e-2f47-4396-994d-90d6525fcf66\">\n",
              "    <div class=\"colab-df-container\">\n",
              "      <div>\n",
              "<style scoped>\n",
              "    .dataframe tbody tr th:only-of-type {\n",
              "        vertical-align: middle;\n",
              "    }\n",
              "\n",
              "    .dataframe tbody tr th {\n",
              "        vertical-align: top;\n",
              "    }\n",
              "\n",
              "    .dataframe thead th {\n",
              "        text-align: right;\n",
              "    }\n",
              "</style>\n",
              "<table border=\"1\" class=\"dataframe\">\n",
              "  <thead>\n",
              "    <tr style=\"text-align: right;\">\n",
              "      <th>Months</th>\n",
              "      <th>Apr</th>\n",
              "      <th>Aug</th>\n",
              "      <th>Dec</th>\n",
              "      <th>Feb</th>\n",
              "      <th>Jan</th>\n",
              "      <th>Jul</th>\n",
              "      <th>Jun</th>\n",
              "      <th>Mar</th>\n",
              "      <th>May</th>\n",
              "      <th>Nov</th>\n",
              "      <th>Oct</th>\n",
              "      <th>Sep</th>\n",
              "    </tr>\n",
              "    <tr>\n",
              "      <th>Year</th>\n",
              "      <th></th>\n",
              "      <th></th>\n",
              "      <th></th>\n",
              "      <th></th>\n",
              "      <th></th>\n",
              "      <th></th>\n",
              "      <th></th>\n",
              "      <th></th>\n",
              "      <th></th>\n",
              "      <th></th>\n",
              "      <th></th>\n",
              "      <th></th>\n",
              "    </tr>\n",
              "  </thead>\n",
              "  <tbody>\n",
              "    <tr>\n",
              "      <th>2003</th>\n",
              "      <td>199</td>\n",
              "      <td>207</td>\n",
              "      <td>165</td>\n",
              "      <td>157</td>\n",
              "      <td>141</td>\n",
              "      <td>207</td>\n",
              "      <td>189</td>\n",
              "      <td>185</td>\n",
              "      <td>203</td>\n",
              "      <td>138</td>\n",
              "      <td>150</td>\n",
              "      <td>171</td>\n",
              "    </tr>\n",
              "    <tr>\n",
              "      <th>2004</th>\n",
              "      <td>208</td>\n",
              "      <td>238</td>\n",
              "      <td>196</td>\n",
              "      <td>168</td>\n",
              "      <td>145</td>\n",
              "      <td>238</td>\n",
              "      <td>209</td>\n",
              "      <td>197</td>\n",
              "      <td>210</td>\n",
              "      <td>152</td>\n",
              "      <td>168</td>\n",
              "      <td>199</td>\n",
              "    </tr>\n",
              "    <tr>\n",
              "      <th>2005</th>\n",
              "      <td>251</td>\n",
              "      <td>279</td>\n",
              "      <td>232</td>\n",
              "      <td>200</td>\n",
              "      <td>183</td>\n",
              "      <td>279</td>\n",
              "      <td>249</td>\n",
              "      <td>249</td>\n",
              "      <td>289</td>\n",
              "      <td>194</td>\n",
              "      <td>204</td>\n",
              "      <td>232</td>\n",
              "    </tr>\n",
              "    <tr>\n",
              "      <th>2006</th>\n",
              "      <td>279</td>\n",
              "      <td>339</td>\n",
              "      <td>272</td>\n",
              "      <td>239</td>\n",
              "      <td>215</td>\n",
              "      <td>322</td>\n",
              "      <td>305</td>\n",
              "      <td>270</td>\n",
              "      <td>307</td>\n",
              "      <td>229</td>\n",
              "      <td>241</td>\n",
              "      <td>263</td>\n",
              "    </tr>\n",
              "    <tr>\n",
              "      <th>2007</th>\n",
              "      <td>362</td>\n",
              "      <td>381</td>\n",
              "      <td>281</td>\n",
              "      <td>261</td>\n",
              "      <td>247</td>\n",
              "      <td>370</td>\n",
              "      <td>340</td>\n",
              "      <td>330</td>\n",
              "      <td>385</td>\n",
              "      <td>239</td>\n",
              "      <td>266</td>\n",
              "      <td>299</td>\n",
              "    </tr>\n",
              "    <tr>\n",
              "      <th>2008</th>\n",
              "      <td>350</td>\n",
              "      <td>410</td>\n",
              "      <td>321</td>\n",
              "      <td>250</td>\n",
              "      <td>257</td>\n",
              "      <td>423</td>\n",
              "      <td>370</td>\n",
              "      <td>329</td>\n",
              "      <td>393</td>\n",
              "      <td>270</td>\n",
              "      <td>289</td>\n",
              "      <td>326</td>\n",
              "    </tr>\n",
              "    <tr>\n",
              "      <th>2009</th>\n",
              "      <td>414</td>\n",
              "      <td>486</td>\n",
              "      <td>389</td>\n",
              "      <td>310</td>\n",
              "      <td>305</td>\n",
              "      <td>510</td>\n",
              "      <td>441</td>\n",
              "      <td>374</td>\n",
              "      <td>454</td>\n",
              "      <td>315</td>\n",
              "      <td>345</td>\n",
              "      <td>393</td>\n",
              "    </tr>\n",
              "    <tr>\n",
              "      <th>2010</th>\n",
              "      <td>482</td>\n",
              "      <td>567</td>\n",
              "      <td>428</td>\n",
              "      <td>368</td>\n",
              "      <td>358</td>\n",
              "      <td>578</td>\n",
              "      <td>524</td>\n",
              "      <td>444</td>\n",
              "      <td>534</td>\n",
              "      <td>360</td>\n",
              "      <td>386</td>\n",
              "      <td>447</td>\n",
              "    </tr>\n",
              "    <tr>\n",
              "      <th>2011</th>\n",
              "      <td>536</td>\n",
              "      <td>654</td>\n",
              "      <td>470</td>\n",
              "      <td>400</td>\n",
              "      <td>397</td>\n",
              "      <td>651</td>\n",
              "      <td>591</td>\n",
              "      <td>498</td>\n",
              "      <td>596</td>\n",
              "      <td>406</td>\n",
              "      <td>437</td>\n",
              "      <td>509</td>\n",
              "    </tr>\n",
              "    <tr>\n",
              "      <th>2012</th>\n",
              "      <td>536</td>\n",
              "      <td>707</td>\n",
              "      <td>472</td>\n",
              "      <td>423</td>\n",
              "      <td>428</td>\n",
              "      <td>687</td>\n",
              "      <td>609</td>\n",
              "      <td>507</td>\n",
              "      <td>610</td>\n",
              "      <td>412</td>\n",
              "      <td>452</td>\n",
              "      <td>509</td>\n",
              "    </tr>\n",
              "    <tr>\n",
              "      <th>2013</th>\n",
              "      <td>610</td>\n",
              "      <td>783</td>\n",
              "      <td>567</td>\n",
              "      <td>455</td>\n",
              "      <td>454</td>\n",
              "      <td>767</td>\n",
              "      <td>661</td>\n",
              "      <td>568</td>\n",
              "      <td>706</td>\n",
              "      <td>481</td>\n",
              "      <td>513</td>\n",
              "      <td>583</td>\n",
              "    </tr>\n",
              "    <tr>\n",
              "      <th>2014</th>\n",
              "      <td>710</td>\n",
              "      <td>848</td>\n",
              "      <td>605</td>\n",
              "      <td>520</td>\n",
              "      <td>525</td>\n",
              "      <td>871</td>\n",
              "      <td>749</td>\n",
              "      <td>587</td>\n",
              "      <td>793</td>\n",
              "      <td>519</td>\n",
              "      <td>581</td>\n",
              "      <td>640</td>\n",
              "    </tr>\n",
              "  </tbody>\n",
              "</table>\n",
              "</div>\n",
              "      <button class=\"colab-df-convert\" onclick=\"convertToInteractive('df-ec16343e-2f47-4396-994d-90d6525fcf66')\"\n",
              "              title=\"Convert this dataframe to an interactive table.\"\n",
              "              style=\"display:none;\">\n",
              "        \n",
              "  <svg xmlns=\"http://www.w3.org/2000/svg\" height=\"24px\"viewBox=\"0 0 24 24\"\n",
              "       width=\"24px\">\n",
              "    <path d=\"M0 0h24v24H0V0z\" fill=\"none\"/>\n",
              "    <path d=\"M18.56 5.44l.94 2.06.94-2.06 2.06-.94-2.06-.94-.94-2.06-.94 2.06-2.06.94zm-11 1L8.5 8.5l.94-2.06 2.06-.94-2.06-.94L8.5 2.5l-.94 2.06-2.06.94zm10 10l.94 2.06.94-2.06 2.06-.94-2.06-.94-.94-2.06-.94 2.06-2.06.94z\"/><path d=\"M17.41 7.96l-1.37-1.37c-.4-.4-.92-.59-1.43-.59-.52 0-1.04.2-1.43.59L10.3 9.45l-7.72 7.72c-.78.78-.78 2.05 0 2.83L4 21.41c.39.39.9.59 1.41.59.51 0 1.02-.2 1.41-.59l7.78-7.78 2.81-2.81c.8-.78.8-2.07 0-2.86zM5.41 20L4 18.59l7.72-7.72 1.47 1.35L5.41 20z\"/>\n",
              "  </svg>\n",
              "      </button>\n",
              "      \n",
              "  <style>\n",
              "    .colab-df-container {\n",
              "      display:flex;\n",
              "      flex-wrap:wrap;\n",
              "      gap: 12px;\n",
              "    }\n",
              "\n",
              "    .colab-df-convert {\n",
              "      background-color: #E8F0FE;\n",
              "      border: none;\n",
              "      border-radius: 50%;\n",
              "      cursor: pointer;\n",
              "      display: none;\n",
              "      fill: #1967D2;\n",
              "      height: 32px;\n",
              "      padding: 0 0 0 0;\n",
              "      width: 32px;\n",
              "    }\n",
              "\n",
              "    .colab-df-convert:hover {\n",
              "      background-color: #E2EBFA;\n",
              "      box-shadow: 0px 1px 2px rgba(60, 64, 67, 0.3), 0px 1px 3px 1px rgba(60, 64, 67, 0.15);\n",
              "      fill: #174EA6;\n",
              "    }\n",
              "\n",
              "    [theme=dark] .colab-df-convert {\n",
              "      background-color: #3B4455;\n",
              "      fill: #D2E3FC;\n",
              "    }\n",
              "\n",
              "    [theme=dark] .colab-df-convert:hover {\n",
              "      background-color: #434B5C;\n",
              "      box-shadow: 0px 1px 3px 1px rgba(0, 0, 0, 0.15);\n",
              "      filter: drop-shadow(0px 1px 2px rgba(0, 0, 0, 0.3));\n",
              "      fill: #FFFFFF;\n",
              "    }\n",
              "  </style>\n",
              "\n",
              "      <script>\n",
              "        const buttonEl =\n",
              "          document.querySelector('#df-ec16343e-2f47-4396-994d-90d6525fcf66 button.colab-df-convert');\n",
              "        buttonEl.style.display =\n",
              "          google.colab.kernel.accessAllowed ? 'block' : 'none';\n",
              "\n",
              "        async function convertToInteractive(key) {\n",
              "          const element = document.querySelector('#df-ec16343e-2f47-4396-994d-90d6525fcf66');\n",
              "          const dataTable =\n",
              "            await google.colab.kernel.invokeFunction('convertToInteractive',\n",
              "                                                     [key], {});\n",
              "          if (!dataTable) return;\n",
              "\n",
              "          const docLinkHtml = 'Like what you see? Visit the ' +\n",
              "            '<a target=\"_blank\" href=https://colab.research.google.com/notebooks/data_table.ipynb>data table notebook</a>'\n",
              "            + ' to learn more about interactive tables.';\n",
              "          element.innerHTML = '';\n",
              "          dataTable['output_type'] = 'display_data';\n",
              "          await google.colab.output.renderOutput(dataTable, element);\n",
              "          const docLink = document.createElement('div');\n",
              "          docLink.innerHTML = docLinkHtml;\n",
              "          element.appendChild(docLink);\n",
              "        }\n",
              "      </script>\n",
              "    </div>\n",
              "  </div>\n",
              "  "
            ]
          },
          "metadata": {},
          "execution_count": 17
        }
      ]
    },
    {
      "cell_type": "code",
      "source": [
        "#Re-Index months\n",
        "yearly_sales= yearly_sales.reindex(columns = ['Jan','Feb','Mar', 'Apr', 'May', 'Jun', 'Jul', 'Aug', 'Sep', 'Oct', 'Nov', 'Dec'])\n",
        "yearly_sales"
      ],
      "metadata": {
        "colab": {
          "base_uri": "https://localhost:8080/",
          "height": 457
        },
        "id": "z6QC5ECZ6MCz",
        "outputId": "7f60c613-2352-4c4a-ed0d-b72fa677531f"
      },
      "execution_count": 18,
      "outputs": [
        {
          "output_type": "execute_result",
          "data": {
            "text/plain": [
              "Months  Jan  Feb  Mar  Apr  May  Jun  Jul  Aug  Sep  Oct  Nov  Dec\n",
              "Year                                                              \n",
              "2003    141  157  185  199  203  189  207  207  171  150  138  165\n",
              "2004    145  168  197  208  210  209  238  238  199  168  152  196\n",
              "2005    183  200  249  251  289  249  279  279  232  204  194  232\n",
              "2006    215  239  270  279  307  305  322  339  263  241  229  272\n",
              "2007    247  261  330  362  385  340  370  381  299  266  239  281\n",
              "2008    257  250  329  350  393  370  423  410  326  289  270  321\n",
              "2009    305  310  374  414  454  441  510  486  393  345  315  389\n",
              "2010    358  368  444  482  534  524  578  567  447  386  360  428\n",
              "2011    397  400  498  536  596  591  651  654  509  437  406  470\n",
              "2012    428  423  507  536  610  609  687  707  509  452  412  472\n",
              "2013    454  455  568  610  706  661  767  783  583  513  481  567\n",
              "2014    525  520  587  710  793  749  871  848  640  581  519  605"
            ],
            "text/html": [
              "\n",
              "  <div id=\"df-36d5fe6b-d64d-448f-8345-037431e01bf5\">\n",
              "    <div class=\"colab-df-container\">\n",
              "      <div>\n",
              "<style scoped>\n",
              "    .dataframe tbody tr th:only-of-type {\n",
              "        vertical-align: middle;\n",
              "    }\n",
              "\n",
              "    .dataframe tbody tr th {\n",
              "        vertical-align: top;\n",
              "    }\n",
              "\n",
              "    .dataframe thead th {\n",
              "        text-align: right;\n",
              "    }\n",
              "</style>\n",
              "<table border=\"1\" class=\"dataframe\">\n",
              "  <thead>\n",
              "    <tr style=\"text-align: right;\">\n",
              "      <th>Months</th>\n",
              "      <th>Jan</th>\n",
              "      <th>Feb</th>\n",
              "      <th>Mar</th>\n",
              "      <th>Apr</th>\n",
              "      <th>May</th>\n",
              "      <th>Jun</th>\n",
              "      <th>Jul</th>\n",
              "      <th>Aug</th>\n",
              "      <th>Sep</th>\n",
              "      <th>Oct</th>\n",
              "      <th>Nov</th>\n",
              "      <th>Dec</th>\n",
              "    </tr>\n",
              "    <tr>\n",
              "      <th>Year</th>\n",
              "      <th></th>\n",
              "      <th></th>\n",
              "      <th></th>\n",
              "      <th></th>\n",
              "      <th></th>\n",
              "      <th></th>\n",
              "      <th></th>\n",
              "      <th></th>\n",
              "      <th></th>\n",
              "      <th></th>\n",
              "      <th></th>\n",
              "      <th></th>\n",
              "    </tr>\n",
              "  </thead>\n",
              "  <tbody>\n",
              "    <tr>\n",
              "      <th>2003</th>\n",
              "      <td>141</td>\n",
              "      <td>157</td>\n",
              "      <td>185</td>\n",
              "      <td>199</td>\n",
              "      <td>203</td>\n",
              "      <td>189</td>\n",
              "      <td>207</td>\n",
              "      <td>207</td>\n",
              "      <td>171</td>\n",
              "      <td>150</td>\n",
              "      <td>138</td>\n",
              "      <td>165</td>\n",
              "    </tr>\n",
              "    <tr>\n",
              "      <th>2004</th>\n",
              "      <td>145</td>\n",
              "      <td>168</td>\n",
              "      <td>197</td>\n",
              "      <td>208</td>\n",
              "      <td>210</td>\n",
              "      <td>209</td>\n",
              "      <td>238</td>\n",
              "      <td>238</td>\n",
              "      <td>199</td>\n",
              "      <td>168</td>\n",
              "      <td>152</td>\n",
              "      <td>196</td>\n",
              "    </tr>\n",
              "    <tr>\n",
              "      <th>2005</th>\n",
              "      <td>183</td>\n",
              "      <td>200</td>\n",
              "      <td>249</td>\n",
              "      <td>251</td>\n",
              "      <td>289</td>\n",
              "      <td>249</td>\n",
              "      <td>279</td>\n",
              "      <td>279</td>\n",
              "      <td>232</td>\n",
              "      <td>204</td>\n",
              "      <td>194</td>\n",
              "      <td>232</td>\n",
              "    </tr>\n",
              "    <tr>\n",
              "      <th>2006</th>\n",
              "      <td>215</td>\n",
              "      <td>239</td>\n",
              "      <td>270</td>\n",
              "      <td>279</td>\n",
              "      <td>307</td>\n",
              "      <td>305</td>\n",
              "      <td>322</td>\n",
              "      <td>339</td>\n",
              "      <td>263</td>\n",
              "      <td>241</td>\n",
              "      <td>229</td>\n",
              "      <td>272</td>\n",
              "    </tr>\n",
              "    <tr>\n",
              "      <th>2007</th>\n",
              "      <td>247</td>\n",
              "      <td>261</td>\n",
              "      <td>330</td>\n",
              "      <td>362</td>\n",
              "      <td>385</td>\n",
              "      <td>340</td>\n",
              "      <td>370</td>\n",
              "      <td>381</td>\n",
              "      <td>299</td>\n",
              "      <td>266</td>\n",
              "      <td>239</td>\n",
              "      <td>281</td>\n",
              "    </tr>\n",
              "    <tr>\n",
              "      <th>2008</th>\n",
              "      <td>257</td>\n",
              "      <td>250</td>\n",
              "      <td>329</td>\n",
              "      <td>350</td>\n",
              "      <td>393</td>\n",
              "      <td>370</td>\n",
              "      <td>423</td>\n",
              "      <td>410</td>\n",
              "      <td>326</td>\n",
              "      <td>289</td>\n",
              "      <td>270</td>\n",
              "      <td>321</td>\n",
              "    </tr>\n",
              "    <tr>\n",
              "      <th>2009</th>\n",
              "      <td>305</td>\n",
              "      <td>310</td>\n",
              "      <td>374</td>\n",
              "      <td>414</td>\n",
              "      <td>454</td>\n",
              "      <td>441</td>\n",
              "      <td>510</td>\n",
              "      <td>486</td>\n",
              "      <td>393</td>\n",
              "      <td>345</td>\n",
              "      <td>315</td>\n",
              "      <td>389</td>\n",
              "    </tr>\n",
              "    <tr>\n",
              "      <th>2010</th>\n",
              "      <td>358</td>\n",
              "      <td>368</td>\n",
              "      <td>444</td>\n",
              "      <td>482</td>\n",
              "      <td>534</td>\n",
              "      <td>524</td>\n",
              "      <td>578</td>\n",
              "      <td>567</td>\n",
              "      <td>447</td>\n",
              "      <td>386</td>\n",
              "      <td>360</td>\n",
              "      <td>428</td>\n",
              "    </tr>\n",
              "    <tr>\n",
              "      <th>2011</th>\n",
              "      <td>397</td>\n",
              "      <td>400</td>\n",
              "      <td>498</td>\n",
              "      <td>536</td>\n",
              "      <td>596</td>\n",
              "      <td>591</td>\n",
              "      <td>651</td>\n",
              "      <td>654</td>\n",
              "      <td>509</td>\n",
              "      <td>437</td>\n",
              "      <td>406</td>\n",
              "      <td>470</td>\n",
              "    </tr>\n",
              "    <tr>\n",
              "      <th>2012</th>\n",
              "      <td>428</td>\n",
              "      <td>423</td>\n",
              "      <td>507</td>\n",
              "      <td>536</td>\n",
              "      <td>610</td>\n",
              "      <td>609</td>\n",
              "      <td>687</td>\n",
              "      <td>707</td>\n",
              "      <td>509</td>\n",
              "      <td>452</td>\n",
              "      <td>412</td>\n",
              "      <td>472</td>\n",
              "    </tr>\n",
              "    <tr>\n",
              "      <th>2013</th>\n",
              "      <td>454</td>\n",
              "      <td>455</td>\n",
              "      <td>568</td>\n",
              "      <td>610</td>\n",
              "      <td>706</td>\n",
              "      <td>661</td>\n",
              "      <td>767</td>\n",
              "      <td>783</td>\n",
              "      <td>583</td>\n",
              "      <td>513</td>\n",
              "      <td>481</td>\n",
              "      <td>567</td>\n",
              "    </tr>\n",
              "    <tr>\n",
              "      <th>2014</th>\n",
              "      <td>525</td>\n",
              "      <td>520</td>\n",
              "      <td>587</td>\n",
              "      <td>710</td>\n",
              "      <td>793</td>\n",
              "      <td>749</td>\n",
              "      <td>871</td>\n",
              "      <td>848</td>\n",
              "      <td>640</td>\n",
              "      <td>581</td>\n",
              "      <td>519</td>\n",
              "      <td>605</td>\n",
              "    </tr>\n",
              "  </tbody>\n",
              "</table>\n",
              "</div>\n",
              "      <button class=\"colab-df-convert\" onclick=\"convertToInteractive('df-36d5fe6b-d64d-448f-8345-037431e01bf5')\"\n",
              "              title=\"Convert this dataframe to an interactive table.\"\n",
              "              style=\"display:none;\">\n",
              "        \n",
              "  <svg xmlns=\"http://www.w3.org/2000/svg\" height=\"24px\"viewBox=\"0 0 24 24\"\n",
              "       width=\"24px\">\n",
              "    <path d=\"M0 0h24v24H0V0z\" fill=\"none\"/>\n",
              "    <path d=\"M18.56 5.44l.94 2.06.94-2.06 2.06-.94-2.06-.94-.94-2.06-.94 2.06-2.06.94zm-11 1L8.5 8.5l.94-2.06 2.06-.94-2.06-.94L8.5 2.5l-.94 2.06-2.06.94zm10 10l.94 2.06.94-2.06 2.06-.94-2.06-.94-.94-2.06-.94 2.06-2.06.94z\"/><path d=\"M17.41 7.96l-1.37-1.37c-.4-.4-.92-.59-1.43-.59-.52 0-1.04.2-1.43.59L10.3 9.45l-7.72 7.72c-.78.78-.78 2.05 0 2.83L4 21.41c.39.39.9.59 1.41.59.51 0 1.02-.2 1.41-.59l7.78-7.78 2.81-2.81c.8-.78.8-2.07 0-2.86zM5.41 20L4 18.59l7.72-7.72 1.47 1.35L5.41 20z\"/>\n",
              "  </svg>\n",
              "      </button>\n",
              "      \n",
              "  <style>\n",
              "    .colab-df-container {\n",
              "      display:flex;\n",
              "      flex-wrap:wrap;\n",
              "      gap: 12px;\n",
              "    }\n",
              "\n",
              "    .colab-df-convert {\n",
              "      background-color: #E8F0FE;\n",
              "      border: none;\n",
              "      border-radius: 50%;\n",
              "      cursor: pointer;\n",
              "      display: none;\n",
              "      fill: #1967D2;\n",
              "      height: 32px;\n",
              "      padding: 0 0 0 0;\n",
              "      width: 32px;\n",
              "    }\n",
              "\n",
              "    .colab-df-convert:hover {\n",
              "      background-color: #E2EBFA;\n",
              "      box-shadow: 0px 1px 2px rgba(60, 64, 67, 0.3), 0px 1px 3px 1px rgba(60, 64, 67, 0.15);\n",
              "      fill: #174EA6;\n",
              "    }\n",
              "\n",
              "    [theme=dark] .colab-df-convert {\n",
              "      background-color: #3B4455;\n",
              "      fill: #D2E3FC;\n",
              "    }\n",
              "\n",
              "    [theme=dark] .colab-df-convert:hover {\n",
              "      background-color: #434B5C;\n",
              "      box-shadow: 0px 1px 3px 1px rgba(0, 0, 0, 0.15);\n",
              "      filter: drop-shadow(0px 1px 2px rgba(0, 0, 0, 0.3));\n",
              "      fill: #FFFFFF;\n",
              "    }\n",
              "  </style>\n",
              "\n",
              "      <script>\n",
              "        const buttonEl =\n",
              "          document.querySelector('#df-36d5fe6b-d64d-448f-8345-037431e01bf5 button.colab-df-convert');\n",
              "        buttonEl.style.display =\n",
              "          google.colab.kernel.accessAllowed ? 'block' : 'none';\n",
              "\n",
              "        async function convertToInteractive(key) {\n",
              "          const element = document.querySelector('#df-36d5fe6b-d64d-448f-8345-037431e01bf5');\n",
              "          const dataTable =\n",
              "            await google.colab.kernel.invokeFunction('convertToInteractive',\n",
              "                                                     [key], {});\n",
              "          if (!dataTable) return;\n",
              "\n",
              "          const docLinkHtml = 'Like what you see? Visit the ' +\n",
              "            '<a target=\"_blank\" href=https://colab.research.google.com/notebooks/data_table.ipynb>data table notebook</a>'\n",
              "            + ' to learn more about interactive tables.';\n",
              "          element.innerHTML = '';\n",
              "          dataTable['output_type'] = 'display_data';\n",
              "          await google.colab.output.renderOutput(dataTable, element);\n",
              "          const docLink = document.createElement('div');\n",
              "          docLink.innerHTML = docLinkHtml;\n",
              "          element.appendChild(docLink);\n",
              "        }\n",
              "      </script>\n",
              "    </div>\n",
              "  </div>\n",
              "  "
            ]
          },
          "metadata": {},
          "execution_count": 18
        }
      ]
    },
    {
      "cell_type": "code",
      "source": [
        "yearly_sales.boxplot()"
      ],
      "metadata": {
        "colab": {
          "base_uri": "https://localhost:8080/",
          "height": 285
        },
        "id": "Ky65PxAh6aQC",
        "outputId": "595102f7-ceeb-4125-8a01-56649c853cc1"
      },
      "execution_count": 19,
      "outputs": [
        {
          "output_type": "execute_result",
          "data": {
            "text/plain": [
              "<matplotlib.axes._subplots.AxesSubplot at 0x7f8f7271a590>"
            ]
          },
          "metadata": {},
          "execution_count": 19
        },
        {
          "output_type": "display_data",
          "data": {
            "text/plain": [
              "<Figure size 432x288 with 1 Axes>"
            ],
            "image/png": "[encoded data removed]"
          },
          "metadata": {
            "needs_background": "light"
          }
        }
      ]
    },
    {
      "cell_type": "code",
      "source": [
        ""
      ],
      "metadata": {
        "id": "gXWooHqs6e_x"
      },
      "execution_count": 19,
      "outputs": []
    },
    {
      "cell_type": "markdown",
      "source": [
        "###Decomposing Time series"
      ],
      "metadata": {
        "id": "ADuyMW8-7Gp-"
      }
    },
    {
      "cell_type": "code",
      "source": [
        "decomp = sm.tsa.seasonal_decompose(data_ts, model=\"multiplicative\")\n",
        "fig = decomp.plot()"
      ],
      "metadata": {
        "colab": {
          "base_uri": "https://localhost:8080/",
          "height": 297
        },
        "id": "mUnFLpYi7L1R",
        "outputId": "b5c5cee3-4534-4aee-8c45-1901e302ffb7"
      },
      "execution_count": 20,
      "outputs": [
        {
          "output_type": "display_data",
          "data": {
            "text/plain": [
              "<Figure size 432x288 with 4 Axes>"
            ],
            "image/png": "[encoded data removed]"
          },
          "metadata": {
            "needs_background": "light"
          }
        }
      ]
    },
    {
      "cell_type": "code",
      "source": [
        "#PDQ Parameter determination\n"
      ],
      "metadata": {
        "id": "mFVi5tRp7QJC"
      },
      "execution_count": 21,
      "outputs": []
    },
    {
      "cell_type": "code",
      "source": [
        "d = q = range(0,2)  #d = No of Non-Seasonal difference needed for stationarity/// q= No of lag/forecast error in the prediction\n",
        "p = range(0,4)  #Its the No of Autoregressive Term"
      ],
      "metadata": {
        "id": "d0jtZh_a7cIK"
      },
      "execution_count": 22,
      "outputs": []
    },
    {
      "cell_type": "code",
      "source": [
        "pdq= list(itertools.product(p,d,q))\n",
        "pdq"
      ],
      "metadata": {
        "colab": {
          "base_uri": "https://localhost:8080/"
        },
        "id": "_pdwRxzl7f5y",
        "outputId": "9810de0a-09e4-488e-87c7-f86d44279763"
      },
      "execution_count": 23,
      "outputs": [
        {
          "output_type": "execute_result",
          "data": {
            "text/plain": [
              "[(0, 0, 0),\n",
              " (0, 0, 1),\n",
              " (0, 1, 0),\n",
              " (0, 1, 1),\n",
              " (1, 0, 0),\n",
              " (1, 0, 1),\n",
              " (1, 1, 0),\n",
              " (1, 1, 1),\n",
              " (2, 0, 0),\n",
              " (2, 0, 1),\n",
              " (2, 1, 0),\n",
              " (2, 1, 1),\n",
              " (3, 0, 0),\n",
              " (3, 0, 1),\n",
              " (3, 1, 0),\n",
              " (3, 1, 1)]"
            ]
          },
          "metadata": {},
          "execution_count": 23
        }
      ]
    },
    {
      "cell_type": "code",
      "source": [
        "seasonal_pdq = [(x[0],x[1],x[2],12) for x in pdq]           #inorder to add the seasonality if present(since sesonality is sean in 12 months, 12 is added)\n",
        "seasonal_pdq"
      ],
      "metadata": {
        "colab": {
          "base_uri": "https://localhost:8080/"
        },
        "id": "6oTH9rx67jnw",
        "outputId": "7f50b4e8-244c-4eef-fc49-a1298be63eb1"
      },
      "execution_count": 24,
      "outputs": [
        {
          "output_type": "execute_result",
          "data": {
            "text/plain": [
              "[(0, 0, 0, 12),\n",
              " (0, 0, 1, 12),\n",
              " (0, 1, 0, 12),\n",
              " (0, 1, 1, 12),\n",
              " (1, 0, 0, 12),\n",
              " (1, 0, 1, 12),\n",
              " (1, 1, 0, 12),\n",
              " (1, 1, 1, 12),\n",
              " (2, 0, 0, 12),\n",
              " (2, 0, 1, 12),\n",
              " (2, 1, 0, 12),\n",
              " (2, 1, 1, 12),\n",
              " (3, 0, 0, 12),\n",
              " (3, 0, 1, 12),\n",
              " (3, 1, 0, 12),\n",
              " (3, 1, 1, 12)]"
            ]
          },
          "metadata": {},
          "execution_count": 24
        }
      ]
    },
    {
      "cell_type": "code",
      "source": [
        "print(\"ARIMAX: {} X {}\".format(pdq[1],seasonal_pdq[1]))"
      ],
      "metadata": {
        "colab": {
          "base_uri": "https://localhost:8080/"
        },
        "id": "7zuzN7px7sBG",
        "outputId": "4ea70c67-d9a3-4f92-b360-1d2c8b3c94f6"
      },
      "execution_count": 25,
      "outputs": [
        {
          "output_type": "stream",
          "name": "stdout",
          "text": [
            "ARIMAX: (0, 0, 1) X (0, 0, 1, 12)\n"
          ]
        }
      ]
    },
    {
      "cell_type": "code",
      "source": [
        ""
      ],
      "metadata": {
        "id": "Qvu2iulj72Ds"
      },
      "execution_count": 25,
      "outputs": []
    },
    {
      "cell_type": "markdown",
      "source": [
        "# SRIMAX MODEL at minimum aic present"
      ],
      "metadata": {
        "id": "3bycugax8APO"
      }
    },
    {
      "cell_type": "code",
      "source": [
        "warnings.filterwarnings(\"ignore\")\n",
        "AIC = [] #Alkaline Information Curve==> It define accuracy of DATA and how to predict the future data\n",
        "         # AIC is used to give best accuracy by using minimum features\n",
        "SARIMAX_model = []\n",
        "for param in pdq:\n",
        "    for param_seasonal in seasonal_pdq:\n",
        "        try:\n",
        "            mod = sm.tsa.statespace.SARIMAX(data_ts,\n",
        "                                           order=param,\n",
        "                                           seasonal_order=param_seasonal) \n",
        "            results = mod.fit()\n",
        "            \n",
        "            print(\"SARIMAX{}x{} = AIC:{}\".format(param, param_seasonal, results.aic), end=\"\\r\" )\n",
        "            AIC.append(results.aic)\n",
        "            SARIMAX_model.append([param, param_seasonal])\n",
        "        except:\n",
        "            continue"
      ],
      "metadata": {
        "colab": {
          "base_uri": "https://localhost:8080/"
        },
        "id": "79JGtTM98M_U",
        "outputId": "8bce6bb9-2ca1-48f2-8736-19882a02c18f"
      },
      "execution_count": 26,
      "outputs": [
        {
          "output_type": "stream",
          "name": "stdout",
          "text": [
            ""
          ]
        }
      ]
    },
    {
      "cell_type": "code",
      "source": [
        "#SMALLEST AIC\n",
        "print(\"The smallest AIC {} for model SARIMAX {} x {}\".format(min(AIC), SARIMAX_model[AIC.index(min(AIC))][0],SARIMAX_model[AIC.index(min(AIC))][1]))"
      ],
      "metadata": {
        "colab": {
          "base_uri": "https://localhost:8080/"
        },
        "id": "tM1EiEV28kk-",
        "outputId": "ec197f1b-c72d-4037-c0e9-7e4806d45f82"
      },
      "execution_count": 27,
      "outputs": [
        {
          "output_type": "stream",
          "name": "stdout",
          "text": [
            "The smallest AIC 1111.4861343333932 for model SARIMAX (2, 1, 1) x (2, 1, 1, 12)\n"
          ]
        }
      ]
    },
    {
      "cell_type": "code",
      "source": [
        "SARIMAX_model[AIC.index(min(AIC))][0]"
      ],
      "metadata": {
        "colab": {
          "base_uri": "https://localhost:8080/"
        },
        "id": "0FjEc02t8tEz",
        "outputId": "e13bdf5f-5006-4330-92c1-de3ee75dad85"
      },
      "execution_count": 28,
      "outputs": [
        {
          "output_type": "execute_result",
          "data": {
            "text/plain": [
              "(2, 1, 1)"
            ]
          },
          "metadata": {},
          "execution_count": 28
        }
      ]
    },
    {
      "cell_type": "code",
      "source": [
        "min(AIC)"
      ],
      "metadata": {
        "id": "cCMS6GWOBV9s",
        "outputId": "00ef2b9f-2ce8-4a2d-cc87-c9c6781807c9",
        "colab": {
          "base_uri": "https://localhost:8080/"
        }
      },
      "execution_count": 29,
      "outputs": [
        {
          "output_type": "execute_result",
          "data": {
            "text/plain": [
              "1111.4861343333932"
            ]
          },
          "metadata": {},
          "execution_count": 29
        }
      ]
    },
    {
      "cell_type": "code",
      "source": [
        "AIC.index(min(AIC))"
      ],
      "metadata": {
        "id": "qOWbmcFNBZcM",
        "outputId": "6713da58-856d-484d-a9dd-d96e8bc33869",
        "colab": {
          "base_uri": "https://localhost:8080/"
        }
      },
      "execution_count": 30,
      "outputs": [
        {
          "output_type": "execute_result",
          "data": {
            "text/plain": [
              "178"
            ]
          },
          "metadata": {},
          "execution_count": 30
        }
      ]
    },
    {
      "cell_type": "code",
      "source": [
        "SARIMAX_model[178]"
      ],
      "metadata": {
        "id": "nxNH1Is_Bd2x",
        "outputId": "d6ac5633-196c-4811-d839-8a5684106846",
        "colab": {
          "base_uri": "https://localhost:8080/"
        }
      },
      "execution_count": 32,
      "outputs": [
        {
          "output_type": "execute_result",
          "data": {
            "text/plain": [
              "[(2, 1, 1), (2, 1, 1, 12)]"
            ]
          },
          "metadata": {},
          "execution_count": 32
        }
      ]
    },
    {
      "cell_type": "code",
      "source": [
        "SARIMAX_model[239][0]"
      ],
      "metadata": {
        "id": "vZ8pvOvsBhDz",
        "outputId": "3db0f333-ee39-48d2-fbce-21b3027ee851",
        "colab": {
          "base_uri": "https://localhost:8080/"
        }
      },
      "execution_count": 33,
      "outputs": [
        {
          "output_type": "execute_result",
          "data": {
            "text/plain": [
              "(3, 1, 1)"
            ]
          },
          "metadata": {},
          "execution_count": 33
        }
      ]
    },
    {
      "cell_type": "code",
      "source": [
        "SARIMAX_model[239][1]"
      ],
      "metadata": {
        "id": "u2ftmTyQBvnZ",
        "outputId": "a27edc13-89b0-4101-fe42-79b6677323ff",
        "colab": {
          "base_uri": "https://localhost:8080/"
        }
      },
      "execution_count": 34,
      "outputs": [
        {
          "output_type": "execute_result",
          "data": {
            "text/plain": [
              "(3, 0, 0, 12)"
            ]
          },
          "metadata": {},
          "execution_count": 34
        }
      ]
    },
    {
      "cell_type": "code",
      "source": [
        "mod = sm.tsa.statespace.SARIMAX(data_ts,\n",
        "                                order=SARIMAX_model[AIC.index(min(AIC))][0],\n",
        "                                seasonal_order=SARIMAX_model[AIC.index(min(AIC))][1],\n",
        "                                enforce_stationarity=False,\n",
        "                                enforce_invertibility=False)"
      ],
      "metadata": {
        "id": "5oo6nTygByAU"
      },
      "execution_count": 36,
      "outputs": []
    },
    {
      "cell_type": "code",
      "source": [
        "#FITTING THE MODEL\n",
        "results = mod.fit()"
      ],
      "metadata": {
        "id": "KfuC_YhWB9XW"
      },
      "execution_count": 37,
      "outputs": []
    },
    {
      "cell_type": "code",
      "source": [
        "results.plot_diagnostics(figsize=(20, 14))\n",
        "plt.show()"
      ],
      "metadata": {
        "id": "1iZ4GQqyCD87",
        "outputId": "2af985ff-6861-4d85-c88f-7e9f30f67b6d",
        "colab": {
          "base_uri": "https://localhost:8080/",
          "height": 839
        }
      },
      "execution_count": 38,
      "outputs": [
        {
          "output_type": "display_data",
          "data": {
            "text/plain": [
              "<Figure size 1440x1008 with 4 Axes>"
            ],
            "image/png": "[encoded data removed]"
          },
          "metadata": {
            "needs_background": "light"
          }
        }
      ]
    },
    {
      "cell_type": "code",
      "source": [
        ""
      ],
      "metadata": {
        "id": "9XezYxEdCKIK"
      },
      "execution_count": null,
      "outputs": []
    },
    {
      "cell_type": "markdown",
      "source": [
        "# Predictions\n"
      ],
      "metadata": {
        "id": "gkQZVherDD4H"
      }
    },
    {
      "cell_type": "code",
      "source": [
        "#1-step ahead forecasting implies that each forecasted point is used to predict the following one.\n",
        "pred0 = results.get_prediction(start='2003-01-01', dynamic=False)\n",
        "pred0_ci = pred0.conf_int()"
      ],
      "metadata": {
        "id": "7MtOwOGyDG7j"
      },
      "execution_count": 39,
      "outputs": []
    },
    {
      "cell_type": "code",
      "source": [
        "\n",
        "pred1 = results.get_prediction(start='2003-01-01', dynamic=True)\n",
        "pred1_ci = pred1.conf_int()"
      ],
      "metadata": {
        "id": "Hevl_UWhDWbC"
      },
      "execution_count": 40,
      "outputs": []
    },
    {
      "cell_type": "code",
      "source": [
        "pred2 = results.get_forecast('2016-01-01')\n",
        "# Give the end year till we want forecast which 2016 jan\n",
        "pred2_ci = pred2.conf_int()"
      ],
      "metadata": {
        "id": "yg0AcU_UDY-o"
      },
      "execution_count": 41,
      "outputs": []
    },
    {
      "cell_type": "code",
      "source": [
        "#Plot the predicted values\n",
        "ax = data_ts.plot(figsize=(20, 16))\n",
        "pred0.predicted_mean.plot(ax=ax, label='1-step-ahead Forecast')\n",
        "pred1.predicted_mean.plot(ax=ax, label='Dynamic Forecast')\n",
        "pred2.predicted_mean.plot(ax=ax, label='Dynamic Forecast for 2016')\n",
        "ax.fill_between(pred2_ci.index, pred2_ci.iloc[:, 0], pred2_ci.iloc[:, 1], color='k', alpha=.1)\n",
        "plt.ylabel('Monthly Tractor Sales')\n",
        "plt.xlabel('Date')\n",
        "plt.legend()\n",
        "plt.show()"
      ],
      "metadata": {
        "id": "KeIy66dND7NV",
        "outputId": "13b650b4-66e0-49f0-dd26-5079662ccf42",
        "colab": {
          "base_uri": "https://localhost:8080/",
          "height": 932
        }
      },
      "execution_count": 43,
      "outputs": [
        {
          "output_type": "display_data",
          "data": {
            "text/plain": [
              "<Figure size 1440x1152 with 1 Axes>"
            ],
            "image/png": "[encoded data removed]"
          },
          "metadata": {
            "needs_background": "light"
          }
        }
      ]
    },
    {
      "cell_type": "code",
      "source": [
        "pred1"
      ],
      "metadata": {
        "id": "vBkkxewzD-uS",
        "outputId": "1101328e-6c23-4e93-e53a-95e8aeed95cf",
        "colab": {
          "base_uri": "https://localhost:8080/"
        }
      },
      "execution_count": 44,
      "outputs": [
        {
          "output_type": "execute_result",
          "data": {
            "text/plain": [
              "<statsmodels.tsa.statespace.mlemodel.PredictionResultsWrapper at 0x7f8f6f6fba50>"
            ]
          },
          "metadata": {},
          "execution_count": 44
        }
      ]
    },
    {
      "cell_type": "code",
      "source": [
        "pred2_ci.head()"
      ],
      "metadata": {
        "id": "wnzP9qc6En9S",
        "outputId": "080fa2e8-7c36-46a6-bec1-213c67e47eed",
        "colab": {
          "base_uri": "https://localhost:8080/",
          "height": 206
        }
      },
      "execution_count": 45,
      "outputs": [
        {
          "output_type": "execute_result",
          "data": {
            "text/plain": [
              "            lower Tractor-Sales  upper Tractor-Sales\n",
              "2015-01-01           539.700949           602.862545\n",
              "2015-02-01           530.850207           600.975289\n",
              "2015-03-01           622.677687           700.869935\n",
              "2015-04-01           719.840679           804.095659\n",
              "2015-05-01           818.934000           908.905980"
            ],
            "text/html": [
              "\n",
              "  <div id=\"df-1f12203e-bcd4-4ed1-ae76-eaf99cc65066\">\n",
              "    <div class=\"colab-df-container\">\n",
              "      <div>\n",
              "<style scoped>\n",
              "    .dataframe tbody tr th:only-of-type {\n",
              "        vertical-align: middle;\n",
              "    }\n",
              "\n",
              "    .dataframe tbody tr th {\n",
              "        vertical-align: top;\n",
              "    }\n",
              "\n",
              "    .dataframe thead th {\n",
              "        text-align: right;\n",
              "    }\n",
              "</style>\n",
              "<table border=\"1\" class=\"dataframe\">\n",
              "  <thead>\n",
              "    <tr style=\"text-align: right;\">\n",
              "      <th></th>\n",
              "      <th>lower Tractor-Sales</th>\n",
              "      <th>upper Tractor-Sales</th>\n",
              "    </tr>\n",
              "  </thead>\n",
              "  <tbody>\n",
              "    <tr>\n",
              "      <th>2015-01-01</th>\n",
              "      <td>539.700949</td>\n",
              "      <td>602.862545</td>\n",
              "    </tr>\n",
              "    <tr>\n",
              "      <th>2015-02-01</th>\n",
              "      <td>530.850207</td>\n",
              "      <td>600.975289</td>\n",
              "    </tr>\n",
              "    <tr>\n",
              "      <th>2015-03-01</th>\n",
              "      <td>622.677687</td>\n",
              "      <td>700.869935</td>\n",
              "    </tr>\n",
              "    <tr>\n",
              "      <th>2015-04-01</th>\n",
              "      <td>719.840679</td>\n",
              "      <td>804.095659</td>\n",
              "    </tr>\n",
              "    <tr>\n",
              "      <th>2015-05-01</th>\n",
              "      <td>818.934000</td>\n",
              "      <td>908.905980</td>\n",
              "    </tr>\n",
              "  </tbody>\n",
              "</table>\n",
              "</div>\n",
              "      <button class=\"colab-df-convert\" onclick=\"convertToInteractive('df-1f12203e-bcd4-4ed1-ae76-eaf99cc65066')\"\n",
              "              title=\"Convert this dataframe to an interactive table.\"\n",
              "              style=\"display:none;\">\n",
              "        \n",
              "  <svg xmlns=\"http://www.w3.org/2000/svg\" height=\"24px\"viewBox=\"0 0 24 24\"\n",
              "       width=\"24px\">\n",
              "    <path d=\"M0 0h24v24H0V0z\" fill=\"none\"/>\n",
              "    <path d=\"M18.56 5.44l.94 2.06.94-2.06 2.06-.94-2.06-.94-.94-2.06-.94 2.06-2.06.94zm-11 1L8.5 8.5l.94-2.06 2.06-.94-2.06-.94L8.5 2.5l-.94 2.06-2.06.94zm10 10l.94 2.06.94-2.06 2.06-.94-2.06-.94-.94-2.06-.94 2.06-2.06.94z\"/><path d=\"M17.41 7.96l-1.37-1.37c-.4-.4-.92-.59-1.43-.59-.52 0-1.04.2-1.43.59L10.3 9.45l-7.72 7.72c-.78.78-.78 2.05 0 2.83L4 21.41c.39.39.9.59 1.41.59.51 0 1.02-.2 1.41-.59l7.78-7.78 2.81-2.81c.8-.78.8-2.07 0-2.86zM5.41 20L4 18.59l7.72-7.72 1.47 1.35L5.41 20z\"/>\n",
              "  </svg>\n",
              "      </button>\n",
              "      \n",
              "  <style>\n",
              "    .colab-df-container {\n",
              "      display:flex;\n",
              "      flex-wrap:wrap;\n",
              "      gap: 12px;\n",
              "    }\n",
              "\n",
              "    .colab-df-convert {\n",
              "      background-color: #E8F0FE;\n",
              "      border: none;\n",
              "      border-radius: 50%;\n",
              "      cursor: pointer;\n",
              "      display: none;\n",
              "      fill: #1967D2;\n",
              "      height: 32px;\n",
              "      padding: 0 0 0 0;\n",
              "      width: 32px;\n",
              "    }\n",
              "\n",
              "    .colab-df-convert:hover {\n",
              "      background-color: #E2EBFA;\n",
              "      box-shadow: 0px 1px 2px rgba(60, 64, 67, 0.3), 0px 1px 3px 1px rgba(60, 64, 67, 0.15);\n",
              "      fill: #174EA6;\n",
              "    }\n",
              "\n",
              "    [theme=dark] .colab-df-convert {\n",
              "      background-color: #3B4455;\n",
              "      fill: #D2E3FC;\n",
              "    }\n",
              "\n",
              "    [theme=dark] .colab-df-convert:hover {\n",
              "      background-color: #434B5C;\n",
              "      box-shadow: 0px 1px 3px 1px rgba(0, 0, 0, 0.15);\n",
              "      filter: drop-shadow(0px 1px 2px rgba(0, 0, 0, 0.3));\n",
              "      fill: #FFFFFF;\n",
              "    }\n",
              "  </style>\n",
              "\n",
              "      <script>\n",
              "        const buttonEl =\n",
              "          document.querySelector('#df-1f12203e-bcd4-4ed1-ae76-eaf99cc65066 button.colab-df-convert');\n",
              "        buttonEl.style.display =\n",
              "          google.colab.kernel.accessAllowed ? 'block' : 'none';\n",
              "\n",
              "        async function convertToInteractive(key) {\n",
              "          const element = document.querySelector('#df-1f12203e-bcd4-4ed1-ae76-eaf99cc65066');\n",
              "          const dataTable =\n",
              "            await google.colab.kernel.invokeFunction('convertToInteractive',\n",
              "                                                     [key], {});\n",
              "          if (!dataTable) return;\n",
              "\n",
              "          const docLinkHtml = 'Like what you see? Visit the ' +\n",
              "            '<a target=\"_blank\" href=https://colab.research.google.com/notebooks/data_table.ipynb>data table notebook</a>'\n",
              "            + ' to learn more about interactive tables.';\n",
              "          element.innerHTML = '';\n",
              "          dataTable['output_type'] = 'display_data';\n",
              "          await google.colab.output.renderOutput(dataTable, element);\n",
              "          const docLink = document.createElement('div');\n",
              "          docLink.innerHTML = docLinkHtml;\n",
              "          element.appendChild(docLink);\n",
              "        }\n",
              "      </script>\n",
              "    </div>\n",
              "  </div>\n",
              "  "
            ]
          },
          "metadata": {},
          "execution_count": 45
        }
      ]
    },
    {
      "cell_type": "code",
      "source": [
        "pred2_ci.iloc[:, 0].head()"
      ],
      "metadata": {
        "id": "OALDgApkEqBI",
        "outputId": "5ed1aeb1-9841-4ffb-bde6-142151e9d026",
        "colab": {
          "base_uri": "https://localhost:8080/"
        }
      },
      "execution_count": 46,
      "outputs": [
        {
          "output_type": "execute_result",
          "data": {
            "text/plain": [
              "2015-01-01    539.700949\n",
              "2015-02-01    530.850207\n",
              "2015-03-01    622.677687\n",
              "2015-04-01    719.840679\n",
              "2015-05-01    818.934000\n",
              "Freq: MS, Name: lower Tractor-Sales, dtype: float64"
            ]
          },
          "metadata": {},
          "execution_count": 46
        }
      ]
    },
    {
      "cell_type": "code",
      "source": [
        "pred2_ci.iloc[:, 1].head()"
      ],
      "metadata": {
        "id": "l6mij_cIEsa3",
        "outputId": "6dc72b54-2828-43f5-a03c-e5b9de58c0aa",
        "colab": {
          "base_uri": "https://localhost:8080/"
        }
      },
      "execution_count": 47,
      "outputs": [
        {
          "output_type": "execute_result",
          "data": {
            "text/plain": [
              "2015-01-01    602.862545\n",
              "2015-02-01    600.975289\n",
              "2015-03-01    700.869935\n",
              "2015-04-01    804.095659\n",
              "2015-05-01    908.905980\n",
              "Freq: MS, Name: upper Tractor-Sales, dtype: float64"
            ]
          },
          "metadata": {},
          "execution_count": 47
        }
      ]
    },
    {
      "cell_type": "code",
      "source": [
        "pred2_ci.index"
      ],
      "metadata": {
        "id": "uu5zpQ8LEzOw",
        "outputId": "c31341ba-fbb2-40be-c450-46e98ade42ba",
        "colab": {
          "base_uri": "https://localhost:8080/"
        }
      },
      "execution_count": 48,
      "outputs": [
        {
          "output_type": "execute_result",
          "data": {
            "text/plain": [
              "DatetimeIndex(['2015-01-01', '2015-02-01', '2015-03-01', '2015-04-01',\n",
              "               '2015-05-01', '2015-06-01', '2015-07-01', '2015-08-01',\n",
              "               '2015-09-01', '2015-10-01', '2015-11-01', '2015-12-01',\n",
              "               '2016-01-01'],\n",
              "              dtype='datetime64[ns]', freq='MS')"
            ]
          },
          "metadata": {},
          "execution_count": 48
        }
      ]
    },
    {
      "cell_type": "code",
      "source": [
        ""
      ],
      "metadata": {
        "id": "F5NEqxcZE1xB"
      },
      "execution_count": null,
      "outputs": []
    }
  ]
}