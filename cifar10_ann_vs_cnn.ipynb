{
  "nbformat": 4,
  "nbformat_minor": 0,
  "metadata": {
    "colab": {
      "name": "cifar10.ann vs cnn.ipynb",
      "provenance": [],
      "collapsed_sections": [],
      "authorship_tag": "ABX9TyPLbOB5+0u7lMTMu4rnRO9O",
      "include_colab_link": true
    },
    "kernelspec": {
      "name": "python3",
      "display_name": "Python 3"
    },
    "language_info": {
      "name": "python"
    },
    "accelerator": "GPU",
    "gpuClass": "standard"
  },
  "cells": [
    {
      "cell_type": "markdown",
      "metadata": {
        "id": "view-in-github",
        "colab_type": "text"
      },
      "source": [
        "<a href=\"https://colab.research.google.com/github/pranamyasin/projects/blob/main/cifar10_ann_vs_cnn.ipynb\" target=\"_parent\"><img src=\"https://colab.research.google.com/assets/colab-badge.svg\" alt=\"Open In Colab\"/></a>"
      ]
    },
    {
      "cell_type": "code",
      "execution_count": 37,
      "metadata": {
        "id": "AMANvnJSc8Bs"
      },
      "outputs": [],
      "source": [
        "import tensorflow as tf"
      ]
    },
    {
      "cell_type": "code",
      "source": [
        "(x_train,y_train),(x_test,y_test)=tf.keras.datasets.cifar10.load_data()"
      ],
      "metadata": {
        "id": "cvxTJAt1dDJ0"
      },
      "execution_count": 38,
      "outputs": []
    },
    {
      "cell_type": "code",
      "source": [
        "print(x_train.shape)\n",
        "print(y_train.shape)\n",
        "print(x_test.shape)\n",
        "print(x_test.shape)"
      ],
      "metadata": {
        "colab": {
          "base_uri": "https://localhost:8080/"
        },
        "id": "6PvpfkqWde7A",
        "outputId": "74060ae3-bd81-4384-a96d-497449046271"
      },
      "execution_count": 39,
      "outputs": [
        {
          "output_type": "stream",
          "name": "stdout",
          "text": [
            "(50000, 32, 32, 3)\n",
            "(50000, 1)\n",
            "(10000, 32, 32, 3)\n",
            "(10000, 32, 32, 3)\n"
          ]
        }
      ]
    },
    {
      "cell_type": "code",
      "source": [
        "import numpy as np\n",
        "np.unique(y_train)"
      ],
      "metadata": {
        "colab": {
          "base_uri": "https://localhost:8080/"
        },
        "id": "4ieRvkAdd5ge",
        "outputId": "3721fed8-9058-42b2-b0c2-ecf187611264"
      },
      "execution_count": 40,
      "outputs": [
        {
          "output_type": "execute_result",
          "data": {
            "text/plain": [
              "array([0, 1, 2, 3, 4, 5, 6, 7, 8, 9], dtype=uint8)"
            ]
          },
          "metadata": {},
          "execution_count": 40
        }
      ]
    },
    {
      "cell_type": "code",
      "source": [
        "label= ['airplane','automobile','bird','cat','deer','dog','frog','horse','ship','truck']"
      ],
      "metadata": {
        "id": "RNCe95tIeGHU"
      },
      "execution_count": 41,
      "outputs": []
    },
    {
      "cell_type": "code",
      "source": [
        "len(label)"
      ],
      "metadata": {
        "colab": {
          "base_uri": "https://localhost:8080/"
        },
        "id": "fmMgHGBLfDqX",
        "outputId": "d40c511c-c038-4206-d029-7a08a4dd07bc"
      },
      "execution_count": 42,
      "outputs": [
        {
          "output_type": "execute_result",
          "data": {
            "text/plain": [
              "10"
            ]
          },
          "metadata": {},
          "execution_count": 42
        }
      ]
    },
    {
      "cell_type": "code",
      "source": [
        "import matplotlib.pyplot as plt\n",
        "i= np.random.randint(1,50000)\n",
        "op=label[y_train[i][0]]\n",
        "plt.imshow(x_train[i])\n",
        "plt.title(f'IMG is of a {op}')\n",
        "plt.show"
      ],
      "metadata": {
        "colab": {
          "base_uri": "https://localhost:8080/",
          "height": 299
        },
        "id": "WlTxl4hgfG4-",
        "outputId": "f789c27a-28da-4637-bb1b-c582fbbcfb17"
      },
      "execution_count": 43,
      "outputs": [
        {
          "output_type": "execute_result",
          "data": {
            "text/plain": [
              "<function matplotlib.pyplot.show>"
            ]
          },
          "metadata": {},
          "execution_count": 43
        },
        {
          "output_type": "display_data",
          "data": {
            "text/plain": [
              "<Figure size 432x288 with 1 Axes>"
            ],
            "image/png": "[encoded data removed]"
          },
          "metadata": {
            "needs_background": "light"
          }
        }
      ]
    },
    {
      "cell_type": "code",
      "source": [
        "x_train=x_train/255\n",
        "x_test=x_test/255"
      ],
      "metadata": {
        "id": "RXLW8zoJgsIu"
      },
      "execution_count": 44,
      "outputs": []
    },
    {
      "cell_type": "code",
      "source": [
        "#BUILD ANN MODEL"
      ],
      "metadata": {
        "id": "Y58vBcjWr0wp"
      },
      "execution_count": 45,
      "outputs": []
    },
    {
      "cell_type": "code",
      "source": [
        "32*32*3 #these are the no of neuron,while 3072 are the values we consider working into"
      ],
      "metadata": {
        "colab": {
          "base_uri": "https://localhost:8080/"
        },
        "id": "EmXpuciOsvwI",
        "outputId": "75d6dba1-bfe1-4285-f976-5430ebb0fb82"
      },
      "execution_count": 46,
      "outputs": [
        {
          "output_type": "execute_result",
          "data": {
            "text/plain": [
              "3072"
            ]
          },
          "metadata": {},
          "execution_count": 46
        }
      ]
    },
    {
      "cell_type": "code",
      "source": [
        "ann =tf.keras.Sequential()\n",
        "ann.add(tf.keras.layers.Flatten(input_shape=(32,32,3)))\n",
        "ann.add(tf.keras.layers.Dropout(0.3))  \n",
        "ann.add(tf.keras.layers.Dense(2048,activation='relu'))      #2048 is inpower of 8 for nearest to 3072\n",
        "ann.add(tf.keras.layers.Dense(1024,activation='relu'))                # keeping 2 dense layer\n",
        "ann.add(tf.keras.layers.Dense(10,activation='softmax'))"
      ],
      "metadata": {
        "id": "3RFt8LZkr4i0"
      },
      "execution_count": 47,
      "outputs": []
    },
    {
      "cell_type": "code",
      "source": [
        "ann.summary()"
      ],
      "metadata": {
        "colab": {
          "base_uri": "https://localhost:8080/"
        },
        "id": "8WXhu5c2t5qd",
        "outputId": "21c75b4a-ab40-4c3f-fb8e-0cced32c2ebb"
      },
      "execution_count": 48,
      "outputs": [
        {
          "output_type": "stream",
          "name": "stdout",
          "text": [
            "Model: \"sequential_3\"\n",
            "_________________________________________________________________\n",
            " Layer (type)                Output Shape              Param #   \n",
            "=================================================================\n",
            " flatten_3 (Flatten)         (None, 3072)              0         \n",
            "                                                                 \n",
            " dropout_2 (Dropout)         (None, 3072)              0         \n",
            "                                                                 \n",
            " dense_5 (Dense)             (None, 2048)              6293504   \n",
            "                                                                 \n",
            " dense_6 (Dense)             (None, 1024)              2098176   \n",
            "                                                                 \n",
            " dense_7 (Dense)             (None, 10)                10250     \n",
            "                                                                 \n",
            "=================================================================\n",
            "Total params: 8,401,930\n",
            "Trainable params: 8,401,930\n",
            "Non-trainable params: 0\n",
            "_________________________________________________________________\n"
          ]
        }
      ]
    },
    {
      "cell_type": "code",
      "source": [
        "ann.compile(loss=tf.keras.losses.SparseCategoricalCrossentropy(),\n",
        "             optimizer='adam',\n",
        "             metrics=['accuracy'])"
      ],
      "metadata": {
        "id": "nT856b3avIH3"
      },
      "execution_count": 49,
      "outputs": []
    },
    {
      "cell_type": "code",
      "source": [
        "ann_fit=ann.fit(x_train,y_train,epochs=10,validation_data=(x_test,y_test),\n",
        "        callbacks= tf.keras.callbacks.EarlyStopping(monitor='val_loss', patience=30))      # ACCURACY WILL REMAIN LOW SINCE IT IS ANN MODEL OF IMAGES\n"
      ],
      "metadata": {
        "colab": {
          "base_uri": "https://localhost:8080/"
        },
        "id": "gdHAsYxJvtJV",
        "outputId": "85523c61-1710-4db5-9ab9-7b799ea534a8"
      },
      "execution_count": 50,
      "outputs": [
        {
          "output_type": "stream",
          "name": "stdout",
          "text": [
            "Epoch 1/10\n",
            "1563/1563 [==============================] - 7s 4ms/step - loss: 1.8882 - accuracy: 0.3245 - val_loss: 1.7349 - val_accuracy: 0.3639\n",
            "Epoch 2/10\n",
            "1563/1563 [==============================] - 7s 4ms/step - loss: 1.7004 - accuracy: 0.3877 - val_loss: 1.6099 - val_accuracy: 0.4298\n",
            "Epoch 3/10\n",
            "1563/1563 [==============================] - 7s 4ms/step - loss: 1.6375 - accuracy: 0.4111 - val_loss: 1.6158 - val_accuracy: 0.4264\n",
            "Epoch 4/10\n",
            "1563/1563 [==============================] - 7s 4ms/step - loss: 1.6004 - accuracy: 0.4254 - val_loss: 1.5567 - val_accuracy: 0.4448\n",
            "Epoch 5/10\n",
            "1563/1563 [==============================] - 8s 5ms/step - loss: 1.5766 - accuracy: 0.4333 - val_loss: 1.5011 - val_accuracy: 0.4667\n",
            "Epoch 6/10\n",
            "1563/1563 [==============================] - 8s 5ms/step - loss: 1.5519 - accuracy: 0.4442 - val_loss: 1.5249 - val_accuracy: 0.4560\n",
            "Epoch 7/10\n",
            "1563/1563 [==============================] - 7s 4ms/step - loss: 1.5338 - accuracy: 0.4516 - val_loss: 1.5153 - val_accuracy: 0.4570\n",
            "Epoch 8/10\n",
            "1563/1563 [==============================] - 7s 4ms/step - loss: 1.5187 - accuracy: 0.4533 - val_loss: 1.5131 - val_accuracy: 0.4667\n",
            "Epoch 9/10\n",
            "1563/1563 [==============================] - 6s 4ms/step - loss: 1.5062 - accuracy: 0.4586 - val_loss: 1.4896 - val_accuracy: 0.4712\n",
            "Epoch 10/10\n",
            "1563/1563 [==============================] - 7s 4ms/step - loss: 1.4925 - accuracy: 0.4659 - val_loss: 1.4720 - val_accuracy: 0.4748\n"
          ]
        }
      ]
    },
    {
      "cell_type": "code",
      "source": [
        "import pandas as pd"
      ],
      "metadata": {
        "id": "0HFMgFNyzkwK"
      },
      "execution_count": 51,
      "outputs": []
    },
    {
      "cell_type": "code",
      "source": [
        "pd.Series(ann_fit.history['loss']).plot(kind='line')\n",
        "pd.Series(ann_fit.history['val_loss']).plot(kind='line') "
      ],
      "metadata": {
        "colab": {
          "base_uri": "https://localhost:8080/",
          "height": 283
        },
        "id": "JFEVjqkTzk7R",
        "outputId": "f7e517bc-ad3a-4f27-fcf9-2b0587341944"
      },
      "execution_count": 52,
      "outputs": [
        {
          "output_type": "execute_result",
          "data": {
            "text/plain": [
              "<matplotlib.axes._subplots.AxesSubplot at 0x7fbaea19df10>"
            ]
          },
          "metadata": {},
          "execution_count": 52
        },
        {
          "output_type": "display_data",
          "data": {
            "text/plain": [
              "<Figure size 432x288 with 1 Axes>"
            ],
            "image/png": "[encoded data removed]"
          },
          "metadata": {
            "needs_background": "light"
          }
        }
      ]
    },
    {
      "cell_type": "code",
      "source": [
        "#BUILD CNN MODEL "
      ],
      "metadata": {
        "id": "OsZg1JhwwFru"
      },
      "execution_count": 53,
      "outputs": []
    },
    {
      "cell_type": "code",
      "source": [
        "cnn1 = tf.keras.Sequential()\n",
        "cnn1.add(tf.keras.layers.Conv2D(32,kernel_size=(3,3),activation='relu',input_shape=(32,32,3)))\n",
        "cnn1.add(tf.keras.layers.Dropout(0.3))  \n",
        "cnn1.add(tf.keras.layers.MaxPooling2D())\n",
        "cnn1.add(tf.keras.layers.Conv2D(64,kernel_size=(3,3),activation='relu'))\n",
        "cnn1.add(tf.keras.layers.MaxPooling2D())\n",
        "cnn1.add(tf.keras.layers.Conv2D(32,kernel_size=(3,3),activation='relu'))\n",
        "cnn1.add(tf.keras.layers.Flatten())\n",
        "cnn1.add(tf.keras.layers.Dense(64,activation='relu'))\n",
        "cnn1.add(tf.keras.layers.Dense(10,activation='softmax'))"
      ],
      "metadata": {
        "id": "-XzL3NlAwaSF"
      },
      "execution_count": 54,
      "outputs": []
    },
    {
      "cell_type": "code",
      "source": [
        "cnn1.summary()"
      ],
      "metadata": {
        "colab": {
          "base_uri": "https://localhost:8080/"
        },
        "id": "17c5g7481WNW",
        "outputId": "129c723d-9c50-4fa5-b0bf-eca36a3a9a53"
      },
      "execution_count": 55,
      "outputs": [
        {
          "output_type": "stream",
          "name": "stdout",
          "text": [
            "Model: \"sequential_4\"\n",
            "_________________________________________________________________\n",
            " Layer (type)                Output Shape              Param #   \n",
            "=================================================================\n",
            " conv2d_3 (Conv2D)           (None, 30, 30, 32)        896       \n",
            "                                                                 \n",
            " dropout_3 (Dropout)         (None, 30, 30, 32)        0         \n",
            "                                                                 \n",
            " max_pooling2d_2 (MaxPooling  (None, 15, 15, 32)       0         \n",
            " 2D)                                                             \n",
            "                                                                 \n",
            " conv2d_4 (Conv2D)           (None, 13, 13, 64)        18496     \n",
            "                                                                 \n",
            " max_pooling2d_3 (MaxPooling  (None, 6, 6, 64)         0         \n",
            " 2D)                                                             \n",
            "                                                                 \n",
            " conv2d_5 (Conv2D)           (None, 4, 4, 32)          18464     \n",
            "                                                                 \n",
            " flatten_4 (Flatten)         (None, 512)               0         \n",
            "                                                                 \n",
            " dense_8 (Dense)             (None, 64)                32832     \n",
            "                                                                 \n",
            " dense_9 (Dense)             (None, 10)                650       \n",
            "                                                                 \n",
            "=================================================================\n",
            "Total params: 71,338\n",
            "Trainable params: 71,338\n",
            "Non-trainable params: 0\n",
            "_________________________________________________________________\n"
          ]
        }
      ]
    },
    {
      "cell_type": "code",
      "source": [
        "#Reduced parameters from ann being 8lakhs to cnn 71thousand"
      ],
      "metadata": {
        "id": "ff0Ou76g2xGX"
      },
      "execution_count": 56,
      "outputs": []
    },
    {
      "cell_type": "code",
      "source": [
        " cnn1.compile(loss=tf.keras.losses.SparseCategoricalCrossentropy(),\n",
        "             optimizer='adam',\n",
        "             metrics=['accuracy'])"
      ],
      "metadata": {
        "id": "o37zWcj93T1O"
      },
      "execution_count": 57,
      "outputs": []
    },
    {
      "cell_type": "code",
      "source": [
        "cnn1_fit = cnn1.fit(x_train,y_train,epochs=10,validation_data=(x_test,y_test),\n",
        "                    callbacks= tf.keras.callbacks.EarlyStopping(monitor='val_loss', patience=30))\n"
      ],
      "metadata": {
        "colab": {
          "base_uri": "https://localhost:8080/"
        },
        "id": "D71HNQSs3mYA",
        "outputId": "9aa88178-2f5f-4e62-8e54-c7b60b6824c1"
      },
      "execution_count": 58,
      "outputs": [
        {
          "output_type": "stream",
          "name": "stdout",
          "text": [
            "Epoch 1/10\n",
            "1563/1563 [==============================] - 7s 4ms/step - loss: 1.5838 - accuracy: 0.4199 - val_loss: 1.3933 - val_accuracy: 0.5037\n",
            "Epoch 2/10\n",
            "1563/1563 [==============================] - 6s 4ms/step - loss: 1.2419 - accuracy: 0.5569 - val_loss: 1.2152 - val_accuracy: 0.5686\n",
            "Epoch 3/10\n",
            "1563/1563 [==============================] - 7s 4ms/step - loss: 1.1021 - accuracy: 0.6100 - val_loss: 1.1307 - val_accuracy: 0.6041\n",
            "Epoch 4/10\n",
            "1563/1563 [==============================] - 6s 4ms/step - loss: 1.0125 - accuracy: 0.6442 - val_loss: 1.0231 - val_accuracy: 0.6492\n",
            "Epoch 5/10\n",
            "1563/1563 [==============================] - 6s 4ms/step - loss: 0.9480 - accuracy: 0.6657 - val_loss: 1.0727 - val_accuracy: 0.6161\n",
            "Epoch 6/10\n",
            "1563/1563 [==============================] - 6s 4ms/step - loss: 0.8988 - accuracy: 0.6839 - val_loss: 0.9879 - val_accuracy: 0.6547\n",
            "Epoch 7/10\n",
            "1563/1563 [==============================] - 7s 5ms/step - loss: 0.8584 - accuracy: 0.6984 - val_loss: 0.9328 - val_accuracy: 0.6740\n",
            "Epoch 8/10\n",
            "1563/1563 [==============================] - 6s 4ms/step - loss: 0.8224 - accuracy: 0.7110 - val_loss: 0.9509 - val_accuracy: 0.6677\n",
            "Epoch 9/10\n",
            "1563/1563 [==============================] - 6s 4ms/step - loss: 0.7970 - accuracy: 0.7195 - val_loss: 0.9484 - val_accuracy: 0.6699\n",
            "Epoch 10/10\n",
            "1563/1563 [==============================] - 7s 4ms/step - loss: 0.7669 - accuracy: 0.7313 - val_loss: 0.9058 - val_accuracy: 0.6870\n"
          ]
        }
      ]
    },
    {
      "cell_type": "code",
      "source": [
        "pd.Series(cnn1_fit.history['loss']).plot(kind='line')\n",
        "pd.Series(cnn1_fit.history['val_loss']).plot(kind='line') "
      ],
      "metadata": {
        "colab": {
          "base_uri": "https://localhost:8080/",
          "height": 283
        },
        "id": "4Ogb4jpCzA_R",
        "outputId": "6e10fe68-95fe-42ba-a2cf-242654885829"
      },
      "execution_count": 59,
      "outputs": [
        {
          "output_type": "execute_result",
          "data": {
            "text/plain": [
              "<matplotlib.axes._subplots.AxesSubplot at 0x7fbae62c45d0>"
            ]
          },
          "metadata": {},
          "execution_count": 59
        },
        {
          "output_type": "display_data",
          "data": {
            "text/plain": [
              "<Figure size 432x288 with 1 Axes>"
            ],
            "image/png": "[encoded data removed]"
          },
          "metadata": {
            "needs_background": "light"
          }
        }
      ]
    },
    {
      "cell_type": "code",
      "source": [
        "# Accuracy gets increased with use of CNN (from 47 in ANN to 68 in CNN)"
      ],
      "metadata": {
        "id": "DetSxGJO3rzN"
      },
      "execution_count": 60,
      "outputs": []
    },
    {
      "cell_type": "code",
      "source": [
        "!nvidia-smi"
      ],
      "metadata": {
        "colab": {
          "base_uri": "https://localhost:8080/"
        },
        "id": "4P9B1Hjy4aQU",
        "outputId": "089f9997-e50b-49a5-9e1d-7cce400b11d7"
      },
      "execution_count": 61,
      "outputs": [
        {
          "output_type": "stream",
          "name": "stdout",
          "text": [
            "Wed Jul 20 08:56:40 2022       \n",
            "+-----------------------------------------------------------------------------+\n",
            "| NVIDIA-SMI 460.32.03    Driver Version: 460.32.03    CUDA Version: 11.2     |\n",
            "|-------------------------------+----------------------+----------------------+\n",
            "| GPU  Name        Persistence-M| Bus-Id        Disp.A | Volatile Uncorr. ECC |\n",
            "| Fan  Temp  Perf  Pwr:Usage/Cap|         Memory-Usage | GPU-Util  Compute M. |\n",
            "|                               |                      |               MIG M. |\n",
            "|===============================+======================+======================|\n",
            "|   0  Tesla T4            Off  | 00000000:00:04.0 Off |                    0 |\n",
            "| N/A   65C    P0    29W /  70W |   5036MiB / 15109MiB |      0%      Default |\n",
            "|                               |                      |                  N/A |\n",
            "+-------------------------------+----------------------+----------------------+\n",
            "                                                                               \n",
            "+-----------------------------------------------------------------------------+\n",
            "| Processes:                                                                  |\n",
            "|  GPU   GI   CI        PID   Type   Process name                  GPU Memory |\n",
            "|        ID   ID                                                   Usage      |\n",
            "|=============================================================================|\n",
            "+-----------------------------------------------------------------------------+\n"
          ]
        }
      ]
    },
    {
      "cell_type": "code",
      "source": [
        ""
      ],
      "metadata": {
        "id": "wRZOUm-34dW_"
      },
      "execution_count": 61,
      "outputs": []
    }
  ]
}